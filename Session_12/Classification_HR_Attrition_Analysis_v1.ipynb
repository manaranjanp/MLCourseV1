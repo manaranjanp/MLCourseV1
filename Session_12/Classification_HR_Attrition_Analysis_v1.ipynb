{
 "cells": [
  {
   "cell_type": "markdown",
   "metadata": {},
   "source": [
    "# Classification Problem\n",
    "\n",
    "\n",
    "## 1. HR - Attrition Analytics\n",
    "\n",
    "Human Resources are critical resources of any organiazation. Organizations spend huge amount of time and money to hire and nuture their employees. It is a huge loss for companies if employees leave, especially the key resources. So if HR can predict weather employees are at risk for leaving the company, it will allow them to identify the attrition risks and help understand and provie necessary support to retain those employees or do preventive hiring to minimize the impact to the orgranization.\n",
    "\n",
    "## 2. Data Set\n",
    "\n",
    "This dataset is taken from kaggle https://www.kaggle.com/datasets/jacksonchou/hr-data-for-analytics\n",
    "\n",
    "\n",
    "### 2.1 Dependent variable\n",
    "\n",
    "Left : 0 if employee did not leave , 1 if left company\n",
    "\n",
    "### 2.2 Independent variables\n",
    "\n",
    "- **satisfaction_level** : means how much employee satisfied (0 less satisfied , 1 most satisfied)\n",
    "- **last_evaluation** : means employees' evaluation for last month (0 bad , 1 Excellent)\n",
    "- **number_project** : number of projects the employee worked on\n",
    "- **average_montly_hours** : average months employee spends at work per month\n",
    "- **time_spend_company** : years the employee spent in a company\n",
    "- **Work_accident** : 0 if he did not have an accident , 1 if had at least one\n",
    "- **promotion_last_5years** : 0 if he did not have any promotion in last 5 years , 1 if had at least one\n",
    "- **dept** : department in which employee works"
   ]
  },
  {
   "cell_type": "markdown",
   "metadata": {},
   "source": [
    "## 3. Loading Dataset"
   ]
  },
  {
   "cell_type": "code",
   "execution_count": null,
   "metadata": {},
   "outputs": [],
   "source": [
    "import pandas as pd\n",
    "import numpy as np\n",
    "import matplotlib.pyplot as plt\n",
    "import seaborn as sn\n",
    "\n",
    "sn.set_palette(\"tab10\")"
   ]
  },
  {
   "cell_type": "code",
   "execution_count": null,
   "metadata": {},
   "outputs": [],
   "source": [
    "hr_df = pd.read_csv('HR_comma_sep.csv')"
   ]
  },
  {
   "cell_type": "code",
   "execution_count": null,
   "metadata": {},
   "outputs": [],
   "source": [
    "hr_df.sample(10)"
   ]
  },
  {
   "cell_type": "code",
   "execution_count": null,
   "metadata": {},
   "outputs": [],
   "source": [
    "hr_df.info()"
   ]
  },
  {
   "cell_type": "markdown",
   "metadata": {},
   "source": [
    "## 4. EDA\n",
    "\n",
    "**Question 1**: How satisfcation level influences employee's decision to leave?"
   ]
  },
  {
   "cell_type": "code",
   "execution_count": null,
   "metadata": {},
   "outputs": [],
   "source": [
    "plt.figure(figsize=(10, 5))\n",
    "sn.histplot(data = hr_df, \n",
    "            x = 'satisfaction_level', \n",
    "            hue = 'left', \n",
    "            bins = np.arange(0.0, 1.0, 0.1),\n",
    "            multiple=\"stack\");"
   ]
  },
  {
   "cell_type": "markdown",
   "metadata": {},
   "source": [
    "**Question 2**: How time spend in the company influences employee's decision to leave?"
   ]
  },
  {
   "cell_type": "code",
   "execution_count": null,
   "metadata": {},
   "outputs": [],
   "source": [
    "plt.figure(figsize=(10, 4))\n",
    "sn.countplot(data = hr_df,\n",
    "             x = 'time_spend_company',\n",
    "             hue = 'left');"
   ]
  },
  {
   "cell_type": "markdown",
   "metadata": {},
   "source": [
    "**Question 3**: Attrition patterns across different departments."
   ]
  },
  {
   "cell_type": "code",
   "execution_count": null,
   "metadata": {},
   "outputs": [],
   "source": [
    "pd.crosstab(hr_df.dept, \n",
    "            hr_df.left, \n",
    "            normalize='index')"
   ]
  },
  {
   "cell_type": "markdown",
   "metadata": {},
   "source": [
    "### Ex1: Participant Exercise \n",
    "\n",
    "**Question:** How last evaluation influences employee's decision to leave?"
   ]
  },
  {
   "cell_type": "markdown",
   "metadata": {},
   "source": [
    "## 5. Building a Classification Model\n",
    "\n",
    "First we will build a model with *satisfaction level* with *left*.\n",
    "\n",
    "### 5.1 Setting X and y Values"
   ]
  },
  {
   "cell_type": "code",
   "execution_count": null,
   "metadata": {},
   "outputs": [],
   "source": [
    "X = hr_df[['satisfaction_level']]\n",
    "y = hr_df.left"
   ]
  },
  {
   "cell_type": "code",
   "execution_count": null,
   "metadata": {},
   "outputs": [],
   "source": [
    "X[0:2]"
   ]
  },
  {
   "cell_type": "code",
   "execution_count": null,
   "metadata": {},
   "outputs": [],
   "source": [
    "y[0:2]"
   ]
  },
  {
   "cell_type": "code",
   "execution_count": null,
   "metadata": {},
   "outputs": [],
   "source": [
    "plt.figure(figsize=(10, 4))\n",
    "sn.scatterplot(data = hr_df.sample(100, random_state = 78),\n",
    "               x = 'satisfaction_level',\n",
    "               y = 'left');"
   ]
  },
  {
   "cell_type": "markdown",
   "metadata": {},
   "source": [
    "### 5.2 Logistic Function\n",
    "\n",
    "Logistic Regression Model - Sigmoid function\n",
    "\n",
    "<img src=\"Logistic.png\" alt=\"ML Algorithms\" width=\"500\"/>\n",
    "\n",
    "The probability of y is given by the equation:\n",
    "\n",
    "$$p(y) = \\frac{1}{1+e^{-(\\beta_0 + \\beta_1x)}}$$\n",
    "\n",
    "\n",
    "Then predict the class of y based on threshold value.\n",
    "\n",
    "\n",
    "$$\n",
    "\\hat y\n",
    "= \n",
    "\\begin{cases}\n",
    "0 \\text{ if } \\hat p < 0.5\\\\\n",
    "1 \\text{ if } \\hat p \\geqslant 0.5\n",
    "\\end{cases}\n",
    "$$"
   ]
  },
  {
   "cell_type": "markdown",
   "metadata": {},
   "source": [
    "### 5.3 Split Dataset into train and test\n",
    "\n",
    "- Train: 80%\n",
    "- Test: 20%"
   ]
  },
  {
   "cell_type": "code",
   "execution_count": null,
   "metadata": {},
   "outputs": [],
   "source": [
    "from sklearn.model_selection import train_test_split"
   ]
  },
  {
   "cell_type": "code",
   "execution_count": null,
   "metadata": {},
   "outputs": [],
   "source": [
    "X_train, X_test, \\\n",
    "y_train, y_test = train_test_split( X,\n",
    "                                    y,\n",
    "                                    test_size = 0.2,\n",
    "                                    random_state = 100 )"
   ]
  },
  {
   "cell_type": "code",
   "execution_count": null,
   "metadata": {},
   "outputs": [],
   "source": [
    "X_train.shape"
   ]
  },
  {
   "cell_type": "code",
   "execution_count": null,
   "metadata": {},
   "outputs": [],
   "source": [
    "X_test.shape"
   ]
  },
  {
   "cell_type": "markdown",
   "metadata": {},
   "source": [
    "### 5.4 Build Logistic Regression Model"
   ]
  },
  {
   "cell_type": "code",
   "execution_count": null,
   "metadata": {},
   "outputs": [],
   "source": [
    "from sklearn.linear_model import LogisticRegression"
   ]
  },
  {
   "cell_type": "code",
   "execution_count": null,
   "metadata": {},
   "outputs": [],
   "source": [
    "logreg_v1 = LogisticRegression(random_state=100)"
   ]
  },
  {
   "cell_type": "code",
   "execution_count": null,
   "metadata": {},
   "outputs": [],
   "source": [
    "logreg_v1.fit( X_train, y_train )"
   ]
  },
  {
   "cell_type": "markdown",
   "metadata": {},
   "source": [
    "### 5.5 Finding Parameters"
   ]
  },
  {
   "cell_type": "code",
   "execution_count": null,
   "metadata": {},
   "outputs": [],
   "source": [
    "logreg_v1.intercept_"
   ]
  },
  {
   "cell_type": "code",
   "execution_count": null,
   "metadata": {},
   "outputs": [],
   "source": [
    "logreg_v1.coef_"
   ]
  },
  {
   "cell_type": "markdown",
   "metadata": {},
   "source": [
    "**Note:** What is the meaning of negative coefficient here?"
   ]
  },
  {
   "cell_type": "markdown",
   "metadata": {},
   "source": [
    "### 5.6 Probability of leaving at different Satisfaction Scores"
   ]
  },
  {
   "cell_type": "markdown",
   "metadata": {},
   "source": [
    "- Create a list satisfaction scores from 0.0 to 1.0"
   ]
  },
  {
   "cell_type": "code",
   "execution_count": null,
   "metadata": {},
   "outputs": [],
   "source": [
    "sl_list = np.arange(0.0, 1.0, 0.05)"
   ]
  },
  {
   "cell_type": "code",
   "execution_count": null,
   "metadata": {},
   "outputs": [],
   "source": [
    "sl_list"
   ]
  },
  {
   "cell_type": "code",
   "execution_count": null,
   "metadata": {},
   "outputs": [],
   "source": [
    "beta_0 = logreg_v1.intercept_[0]\n",
    "beta_1 = logreg_v1.coef_[0][0]"
   ]
  },
  {
   "cell_type": "code",
   "execution_count": null,
   "metadata": {},
   "outputs": [],
   "source": [
    "beta_0, beta_1"
   ]
  },
  {
   "cell_type": "markdown",
   "metadata": {},
   "source": [
    "- Calculate the probability values based on the logistic function"
   ]
  },
  {
   "cell_type": "code",
   "execution_count": null,
   "metadata": {},
   "outputs": [],
   "source": [
    "sl_probs = [(1.0 / (1.0 + np.exp(-(beta_0+beta_1*x)))) for x in sl_list]"
   ]
  },
  {
   "cell_type": "code",
   "execution_count": null,
   "metadata": {},
   "outputs": [],
   "source": [
    "sl_probs_df = pd.DataFrame({'SL': sl_list, 'Prob_Left': sl_probs })"
   ]
  },
  {
   "cell_type": "code",
   "execution_count": null,
   "metadata": {},
   "outputs": [],
   "source": [
    "sl_probs_df"
   ]
  },
  {
   "cell_type": "code",
   "execution_count": null,
   "metadata": {
    "scrolled": false
   },
   "outputs": [],
   "source": [
    "plt.figure(figsize=(10, 4))\n",
    "sn.lineplot(data=sl_probs_df, x=\"SL\", y=\"Prob_Left\");\n",
    "plt.axhline(y=0.5, color = 'r');"
   ]
  },
  {
   "cell_type": "markdown",
   "metadata": {},
   "source": [
    "### 5.7 Predicting on Test Data"
   ]
  },
  {
   "cell_type": "code",
   "execution_count": null,
   "metadata": {},
   "outputs": [],
   "source": [
    "y_pred = logreg_v1.predict(X_test)"
   ]
  },
  {
   "cell_type": "code",
   "execution_count": null,
   "metadata": {},
   "outputs": [],
   "source": [
    "y_df = pd.DataFrame({\"actual\": y_test,\n",
    "                     \"predicted\": y_pred})"
   ]
  },
  {
   "cell_type": "code",
   "execution_count": null,
   "metadata": {},
   "outputs": [],
   "source": [
    "y_df.sample(10, random_state=20)"
   ]
  },
  {
   "cell_type": "markdown",
   "metadata": {},
   "source": [
    "### 5.8 Measuring Accuracy"
   ]
  },
  {
   "cell_type": "code",
   "execution_count": null,
   "metadata": {},
   "outputs": [],
   "source": [
    "from sklearn.metrics import accuracy_score"
   ]
  },
  {
   "cell_type": "code",
   "execution_count": null,
   "metadata": {},
   "outputs": [],
   "source": [
    "accuracy_score(y_test, y_pred)"
   ]
  },
  {
   "cell_type": "markdown",
   "metadata": {},
   "source": [
    "###  Ex2: Participant Exercise:\n",
    "\n",
    "- Build a logistic regression model between average_montly_hours and left\n",
    "- Predict probability for different values of average_montly_hours from 50 hours to 400 hours with 10 hours of step\n",
    "- Plot the logistic function"
   ]
  }
 ],
 "metadata": {
  "kernelspec": {
   "display_name": "Python 3 (ipykernel)",
   "language": "python",
   "name": "python3"
  },
  "language_info": {
   "codemirror_mode": {
    "name": "ipython",
    "version": 3
   },
   "file_extension": ".py",
   "mimetype": "text/x-python",
   "name": "python",
   "nbconvert_exporter": "python",
   "pygments_lexer": "ipython3",
   "version": "3.10.9"
  }
 },
 "nbformat": 4,
 "nbformat_minor": 2
}
