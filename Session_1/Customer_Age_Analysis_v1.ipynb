{
 "cells": [
  {
   "cell_type": "markdown",
   "metadata": {},
   "source": [
    "# Distribution and Outlier Detection\n",
    "\n",
    "##  Objective \n",
    "\n",
    "### The key statistical concepts that will be explored this notebook are:\n",
    "\n",
    "- Confidence Interval\n",
    "- Outliers detection using standard deviation approach\n",
    "- Outliers detection using box plot approach\n",
    "\n",
    "### Problem Description\n",
    "\n",
    "A retain chain ABC want to understand the distribution of demographics of customers to design and run few promotional campaigns. One of the demograhic attribute is age. To understand what age of customers mostly buy the its stores, it runs a survey and collects age of hunderds of customers randomly. \n",
    "\n",
    "1. How to find out most of the customers are from which age group?\n",
    "2. How many different campaigns might be required to be designed?\n",
    "3. Are there any unusual behavior observed? (i.e. customers with different age groups rarely expected are visisting the stores)\n",
    "\n",
    "### Dataset\n",
    "\n",
    "We will use customer demographics data (only age)\n",
    "\n",
    "- customer_age_abc.csv"
   ]
  },
  {
   "cell_type": "code",
   "execution_count": null,
   "metadata": {},
   "outputs": [],
   "source": [
    "import pandas as pd\n",
    "import matplotlib as mplot\n",
    "import matplotlib.pyplot as plt\n",
    "import seaborn as sn"
   ]
  },
  {
   "cell_type": "markdown",
   "metadata": {},
   "source": [
    "## Age distribution of company ABC"
   ]
  },
  {
   "cell_type": "code",
   "execution_count": null,
   "metadata": {},
   "outputs": [],
   "source": [
    "age_abc_df = pd.read_csv(\"https://raw.githubusercontent.com/manaranjanp/MLCourseV1/main/Session_1/customer_age_abc.csv\")"
   ]
  },
  {
   "cell_type": "code",
   "execution_count": null,
   "metadata": {},
   "outputs": [],
   "source": [
    "age_abc_df.sample(5)"
   ]
  },
  {
   "cell_type": "markdown",
   "metadata": {},
   "source": [
    "### Find min and max values"
   ]
  },
  {
   "cell_type": "code",
   "execution_count": null,
   "metadata": {},
   "outputs": [],
   "source": [
    "age_abc_df.age.min(), age_abc_df.age.max()"
   ]
  },
  {
   "cell_type": "markdown",
   "metadata": {},
   "source": [
    "### Histogram  and Density Plots"
   ]
  },
  {
   "cell_type": "code",
   "execution_count": null,
   "metadata": {},
   "outputs": [],
   "source": [
    "plt.hist(age_abc_df.age, bins = range(30, 50, 1));"
   ]
  },
  {
   "cell_type": "code",
   "execution_count": null,
   "metadata": {},
   "outputs": [],
   "source": [
    "plt.figure(figsize = (12, 4))\n",
    "plt.title(\"Distribution of Customer Ages\")\n",
    "sn.kdeplot(age_abc_df.age);"
   ]
  },
  {
   "cell_type": "markdown",
   "metadata": {},
   "source": [
    "### Finding Confidence Interval and Outliers\n",
    "\n",
    "- 95% of customers are from which age span?\n",
    "- Are there any outliers?"
   ]
  },
  {
   "cell_type": "code",
   "execution_count": null,
   "metadata": {},
   "outputs": [],
   "source": [
    "age_abc_df.age.mean(), age_abc_df.age.std()"
   ]
  },
  {
   "cell_type": "code",
   "execution_count": null,
   "metadata": {},
   "outputs": [],
   "source": [
    "from scipy import stats"
   ]
  },
  {
   "cell_type": "code",
   "execution_count": null,
   "metadata": {},
   "outputs": [],
   "source": [
    "abc_ci_95 = stats.norm.interval(0.95,\n",
    "                                loc=age_abc_df.age.mean(),\n",
    "                                scale=age_abc_df.age.std())"
   ]
  },
  {
   "cell_type": "code",
   "execution_count": null,
   "metadata": {},
   "outputs": [],
   "source": [
    "abc_ci_95"
   ]
  },
  {
   "cell_type": "code",
   "execution_count": null,
   "metadata": {},
   "outputs": [],
   "source": [
    "abc_ci_99_7 = stats.norm.interval(0.997,\n",
    "                                loc=age_abc_df.age.mean(),\n",
    "                                scale=age_abc_df.age.std())"
   ]
  },
  {
   "cell_type": "code",
   "execution_count": null,
   "metadata": {
    "scrolled": true
   },
   "outputs": [],
   "source": [
    "abc_ci_99_7"
   ]
  },
  {
   "cell_type": "markdown",
   "metadata": {},
   "source": [
    "#### Are there any outliers"
   ]
  },
  {
   "cell_type": "code",
   "execution_count": null,
   "metadata": {},
   "outputs": [],
   "source": [
    "age_abc_df[age_abc_df.age > abc_ci_99_7[1]]"
   ]
  },
  {
   "cell_type": "markdown",
   "metadata": {},
   "source": [
    "## Age distribution of company XYZ\n",
    "\n",
    "Let's look at a different scenario where the distribution looks very different.\n",
    "\n",
    "### Dataset\n",
    "\n",
    "We will use customer demographics data (only age)\n",
    "\n",
    "- customer_age_abc.csv"
   ]
  },
  {
   "cell_type": "code",
   "execution_count": null,
   "metadata": {},
   "outputs": [],
   "source": [
    "age_xyz_df = pd.read_csv(\"https://raw.githubusercontent.com/manaranjanp/MLCourseV1/main/Session_1/customer_age_xyz.csv\")"
   ]
  },
  {
   "cell_type": "code",
   "execution_count": null,
   "metadata": {},
   "outputs": [],
   "source": [
    "age_xyz_df.sample(10)"
   ]
  },
  {
   "cell_type": "markdown",
   "metadata": {},
   "source": [
    "### Histogram and Density Plots"
   ]
  },
  {
   "cell_type": "code",
   "execution_count": null,
   "metadata": {},
   "outputs": [],
   "source": [
    "age_xyz_df.age.min(), age_xyz_df.age.max()"
   ]
  },
  {
   "cell_type": "code",
   "execution_count": null,
   "metadata": {},
   "outputs": [],
   "source": [
    "plt.hist(age_xyz_df.age, bins = range(30, 50, 1));"
   ]
  },
  {
   "cell_type": "code",
   "execution_count": null,
   "metadata": {},
   "outputs": [],
   "source": [
    "plt.figure(figsize = (12, 4))\n",
    "plt.title(\"Distribution of Customer Ages\")\n",
    "sn.kdeplot(age_abc_df.age, label = 'ABC');\n",
    "sn.kdeplot(age_xyz_df.age, label = 'XYZ');"
   ]
  },
  {
   "cell_type": "markdown",
   "metadata": {},
   "source": [
    "### Finding Confidence Interval and Outliers"
   ]
  },
  {
   "cell_type": "code",
   "execution_count": null,
   "metadata": {},
   "outputs": [],
   "source": [
    "age_xyz_df.age.mean(), age_xyz_df.age.std()"
   ]
  },
  {
   "cell_type": "code",
   "execution_count": null,
   "metadata": {},
   "outputs": [],
   "source": [
    "from scipy import stats"
   ]
  },
  {
   "cell_type": "code",
   "execution_count": null,
   "metadata": {},
   "outputs": [],
   "source": [
    "xyz_ci_95 = stats.norm.interval(0.95,\n",
    "                                loc=age_xyz_df.age.mean(),\n",
    "                                scale=age_xyz_df.age.std())"
   ]
  },
  {
   "cell_type": "code",
   "execution_count": null,
   "metadata": {},
   "outputs": [],
   "source": [
    "xyz_ci_95"
   ]
  },
  {
   "cell_type": "code",
   "execution_count": null,
   "metadata": {},
   "outputs": [],
   "source": [
    "xyz_ci_99_7 = stats.norm.interval(0.997,\n",
    "                                loc=age_xyz_df.age.mean(),\n",
    "                                scale=age_xyz_df.age.std())"
   ]
  },
  {
   "cell_type": "code",
   "execution_count": null,
   "metadata": {
    "scrolled": true
   },
   "outputs": [],
   "source": [
    "xyz_ci_99_7"
   ]
  },
  {
   "cell_type": "code",
   "execution_count": null,
   "metadata": {},
   "outputs": [],
   "source": [
    "age_xyz_df[age_xyz_df.age > xyz_ci_99_7[1]]"
   ]
  },
  {
   "cell_type": "markdown",
   "metadata": {},
   "source": [
    "### Note:\n",
    "\n",
    "- Are there any problem with finding outliers using 3 standard deviation approch?\n",
    "- This is approach is not very robust as the mean and standard deviations are very sensitive to outliers.\n"
   ]
  },
  {
   "cell_type": "markdown",
   "metadata": {},
   "source": [
    "## Finding outliers using Box Plot\n",
    "\n",
    "- A boxplot displays the distribution of data based on a five number summary (“minimum”, first quartile (Q1), median, third quartile (Q3), and “maximum”). \n",
    "\n",
    "- It can find outliers and what their values are. It can also tell if the data is symmetrical, how tightly the data is grouped, and if the data is skewed.\n",
    "\n",
    "- The minimum or lowest value of the dataset\n",
    "\n",
    "\n",
    "Source: https://towardsdatascience.com/understanding-boxplots-5e2df7bcbd51\n",
    "\n",
    "<img src=\"box.png\" alt=\"Nowmal Distribution\" width=\"500\"/>"
   ]
  },
  {
   "cell_type": "code",
   "execution_count": null,
   "metadata": {},
   "outputs": [],
   "source": [
    "plt.figure(figsize=(12,4))\n",
    "sn.boxplot(x = age_xyz_df.age, orient = 'h' );"
   ]
  },
  {
   "cell_type": "markdown",
   "metadata": {},
   "source": [
    "#### Finding median, IQR, min and max values\n",
    "\n",
    "The range is that is less sensitive to outliers is the interquartile range. The interquartile range is calculated by subtracting the first quartile from the third quartile:\n",
    "\n",
    "**IQR = Q3 – Q1**\n",
    "\n",
    "Though it's not often affected much by them, the interquartile range can be used to detect outliers. This is done using these steps:\n",
    "\n",
    "\n",
    "- Calculate the interquartile range for the data.\n",
    "- Multiply the interquartile range (IQR) by 1.5 (a constant used to discern outliers).\n",
    "- Add 1.5 x (IQR) to the third quartile. Any number greater than this is a suspected outlier.\n",
    "- Subtract 1.5 x (IQR) from the first quartile. Any number less than this is a suspected outlier.\n",
    "\n",
    "Source: https://www.thoughtco.com/what-is-the-interquartile-range-rule-3126244"
   ]
  },
  {
   "cell_type": "code",
   "execution_count": null,
   "metadata": {},
   "outputs": [],
   "source": [
    "age_xyz_df.age.median()"
   ]
  },
  {
   "cell_type": "code",
   "execution_count": null,
   "metadata": {},
   "outputs": [],
   "source": [
    "age_stats = age_xyz_df.age.describe()\n",
    "age_stats"
   ]
  },
  {
   "cell_type": "code",
   "execution_count": null,
   "metadata": {},
   "outputs": [],
   "source": [
    "from scipy import stats"
   ]
  },
  {
   "cell_type": "code",
   "execution_count": null,
   "metadata": {},
   "outputs": [],
   "source": [
    "iqr = stats.iqr(age_xyz_df.age)\n",
    "iqr"
   ]
  },
  {
   "cell_type": "code",
   "execution_count": null,
   "metadata": {},
   "outputs": [],
   "source": [
    "min_age = age_stats['25%'] - 1.5 * iqr\n",
    "max_age = age_stats['75%'] + 1.5 * iqr"
   ]
  },
  {
   "cell_type": "code",
   "execution_count": null,
   "metadata": {},
   "outputs": [],
   "source": [
    "min_age, max_age"
   ]
  },
  {
   "cell_type": "markdown",
   "metadata": {},
   "source": [
    "### Any outliers"
   ]
  },
  {
   "cell_type": "code",
   "execution_count": null,
   "metadata": {},
   "outputs": [],
   "source": [
    "age_xyz_df[age_xyz_df.age > max_age]"
   ]
  }
 ],
 "metadata": {
  "kernelspec": {
   "display_name": "Python 3",
   "language": "python",
   "name": "python3"
  },
  "language_info": {
   "codemirror_mode": {
    "name": "ipython",
    "version": 3
   },
   "file_extension": ".py",
   "mimetype": "text/x-python",
   "name": "python",
   "nbconvert_exporter": "python",
   "pygments_lexer": "ipython3",
   "version": "3.8.3"
  }
 },
 "nbformat": 4,
 "nbformat_minor": 4
}
