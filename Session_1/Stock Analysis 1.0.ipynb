{
 "cells": [
  {
   "cell_type": "markdown",
   "metadata": {},
   "source": [
    "# Analysis of Stocks - Daily Returns"
   ]
  },
  {
   "cell_type": "markdown",
   "metadata": {},
   "source": [
    "##  Objective \n",
    "\n",
    "### The key statistical concepts that will be explored this notebook are:\n",
    "\n",
    "- Probability Distribution\n",
    "- Normal Distribution\n",
    "- Significance of mean and standard deviation\n",
    "- Confidence Interval\n",
    "- Outlier events\n",
    "\n",
    "### Datasets \n",
    "\n",
    "We will use the following real world data for this notebook.\n",
    "\n",
    "- Daily stock prices of ICICI Bank and Yes Bank\n",
    "- For the period of 01 October 2022 to 07 March 2023\n",
    "- The dails stock price data can be downloaded from BSE India Site\n",
    "\n",
    "https://www.bseindia.com/markets/equity/EQReports/StockPrcHistori.html?flag=0\n",
    "\n",
    "#### We will explore some of the basic insights like:\n",
    "\n",
    "- What is the value at risk (VaR)\n",
    "\n",
    "Value at risk (VaR) is a measure of the risk of loss for investments. It estimates how much a set of investments might lose (with a given probability), given normal market conditions, in a set time period such as a day. (https://en.wikipedia.org/wiki/Value_at_risk)\n",
    "\n",
    "- What is the probability of making a certain percetage of profit or loss if invested in a stock for a specified duration of time?\n",
    "\n",
    "- How basic statistical analysis helps answer the above questions?"
   ]
  },
  {
   "cell_type": "markdown",
   "metadata": {},
   "source": [
    "## Read the dataset\n",
    "\n",
    "- Explore the pandas, seaborn documentation page\n",
    "\n",
    "    - [Pandas Home Page](https://pandas.pydata.org/)\n",
    "    - [Matplotlib Home Page](https://matplotlib.org/)\n",
    "    - [Seaborn Home Page](https://seaborn.pydata.org/)\n"
   ]
  },
  {
   "cell_type": "code",
   "execution_count": null,
   "metadata": {},
   "outputs": [],
   "source": [
    "import pandas as pd\n",
    "import matplotlib as mplot\n",
    "import matplotlib.pyplot as plt\n",
    "import seaborn as sn"
   ]
  },
  {
   "cell_type": "markdown",
   "metadata": {},
   "source": [
    "### Check the library versions"
   ]
  },
  {
   "cell_type": "code",
   "execution_count": null,
   "metadata": {},
   "outputs": [],
   "source": [
    "pd.__version__"
   ]
  },
  {
   "cell_type": "code",
   "execution_count": null,
   "metadata": {},
   "outputs": [],
   "source": [
    "mplot.__version__"
   ]
  },
  {
   "cell_type": "code",
   "execution_count": null,
   "metadata": {},
   "outputs": [],
   "source": [
    "sn.__version__"
   ]
  },
  {
   "cell_type": "markdown",
   "metadata": {},
   "source": [
    "### Load ICICI Bank Data"
   ]
  },
  {
   "cell_type": "markdown",
   "metadata": {},
   "source": [
    "- Read different kinds of data formats\n",
    "\n",
    "https://pandas.pydata.org/docs/user_guide/io.html"
   ]
  },
  {
   "cell_type": "code",
   "execution_count": null,
   "metadata": {},
   "outputs": [],
   "source": [
    "icici_df = pd.read_csv( 'ICICI.csv', parse_dates=['Date'] )"
   ]
  },
  {
   "cell_type": "code",
   "execution_count": null,
   "metadata": {},
   "outputs": [],
   "source": [
    "type(icici_df)"
   ]
  },
  {
   "cell_type": "markdown",
   "metadata": {},
   "source": [
    "A DataFrame is a data structure that organizes data into a 2-dimensional table of rows and columns, much like a spreadsheet. DataFrames are one of the most common data structures used in modern data analytics because they are a flexible and intuitive way of storing and working with data.\n",
    "\n",
    "Source: [What is a DataFrame](https://www.databricks.com/glossary/what-are-dataframes#:~:text=What%20is%20a%20DataFrame%3F,storing%20and%20working%20with%20data.)"
   ]
  },
  {
   "cell_type": "markdown",
   "metadata": {},
   "source": [
    "#### Show few records"
   ]
  },
  {
   "cell_type": "code",
   "execution_count": null,
   "metadata": {},
   "outputs": [],
   "source": [
    "icici_df.head( 5 )"
   ]
  },
  {
   "cell_type": "markdown",
   "metadata": {},
   "source": [
    "#### How many rows and columns?"
   ]
  },
  {
   "cell_type": "code",
   "execution_count": null,
   "metadata": {},
   "outputs": [],
   "source": [
    "icici_df.shape"
   ]
  },
  {
   "cell_type": "code",
   "execution_count": null,
   "metadata": {},
   "outputs": [],
   "source": [
    "icici_df.info()"
   ]
  },
  {
   "cell_type": "markdown",
   "metadata": {},
   "source": [
    "### Time Series Data\n",
    "\n",
    "This data is time series based. It makes sense to index the data based on timestamp."
   ]
  },
  {
   "cell_type": "code",
   "execution_count": null,
   "metadata": {},
   "outputs": [],
   "source": [
    "icici_df = icici_df.set_index(['Date'], drop=True)"
   ]
  },
  {
   "cell_type": "code",
   "execution_count": null,
   "metadata": {},
   "outputs": [],
   "source": [
    "icici_df.head(5)"
   ]
  },
  {
   "cell_type": "markdown",
   "metadata": {},
   "source": [
    "#### Sort the data based on ascending order of timestamp"
   ]
  },
  {
   "cell_type": "code",
   "execution_count": null,
   "metadata": {},
   "outputs": [],
   "source": [
    "icici_df.sort_index(ascending = True, inplace=True)"
   ]
  },
  {
   "cell_type": "markdown",
   "metadata": {},
   "source": [
    "### Slicing and indexing\n",
    "\n",
    "- How to slice, dice, and get subsets of pandas rows and columns."
   ]
  },
  {
   "cell_type": "code",
   "execution_count": null,
   "metadata": {},
   "outputs": [],
   "source": [
    "icici_df[0:5]"
   ]
  },
  {
   "cell_type": "code",
   "execution_count": null,
   "metadata": {},
   "outputs": [],
   "source": [
    "icici_df[-5:]"
   ]
  },
  {
   "cell_type": "markdown",
   "metadata": {},
   "source": [
    "### Select columns"
   ]
  },
  {
   "cell_type": "code",
   "execution_count": null,
   "metadata": {},
   "outputs": [],
   "source": [
    "icici_df = icici_df[['Close Price', 'Open Price']]"
   ]
  },
  {
   "cell_type": "code",
   "execution_count": null,
   "metadata": {},
   "outputs": [],
   "source": [
    "icici_df[0:5]"
   ]
  },
  {
   "cell_type": "markdown",
   "metadata": {},
   "source": [
    "### Load Yes Bank Data"
   ]
  },
  {
   "cell_type": "code",
   "execution_count": null,
   "metadata": {},
   "outputs": [],
   "source": [
    "# Read the csv file\n",
    "yes_df = pd.read_csv( 'Yes.csv', parse_dates=['Date'] )\n",
    "\n",
    "# Set the time index \n",
    "yes_df = yes_df.set_index(['Date'], drop=True)\n",
    "\n",
    "# Sort the records based on time\n",
    "yes_df.sort_index(ascending = True, inplace=True)\n",
    "\n",
    "# Select only Close and Open Price columns for further analysis\n",
    "yes_df = yes_df[['Close Price', 'Open Price']]\n",
    "\n",
    "# Print Few Records\n",
    "yes_df.head( 5 )"
   ]
  },
  {
   "cell_type": "markdown",
   "metadata": {},
   "source": [
    "### Calculate daily gains\n",
    "\n",
    "\n",
    "- Calculate daily gain or loss in terms of percentage \n",
    "\n",
    "$$ gain = {(Close Price - Open Price) * 100 \\over Open Price} $$\n"
   ]
  },
  {
   "cell_type": "code",
   "execution_count": null,
   "metadata": {},
   "outputs": [],
   "source": [
    "icici_df[\"gain\"] = ((icici_df['Close Price'] - icici_df['Open Price']) * 100 /\n",
    "                    icici_df['Open Price'])"
   ]
  },
  {
   "cell_type": "code",
   "execution_count": null,
   "metadata": {},
   "outputs": [],
   "source": [
    "icici_df.head( 5 )"
   ]
  },
  {
   "cell_type": "code",
   "execution_count": null,
   "metadata": {},
   "outputs": [],
   "source": [
    "yes_df[\"gain\"] = ((yes_df['Close Price'] - yes_df['Open Price']) * 100 / \n",
    "                  yes_df['Open Price'])"
   ]
  },
  {
   "cell_type": "code",
   "execution_count": null,
   "metadata": {},
   "outputs": [],
   "source": [
    "yes_df[0:5]"
   ]
  },
  {
   "cell_type": "markdown",
   "metadata": {},
   "source": [
    "## Plotting Historical Price Trends "
   ]
  },
  {
   "cell_type": "markdown",
   "metadata": {},
   "source": [
    "For plotting the price trends we will plot the close price on time scale.\n",
    "The figure size can be set using figsize\n",
    "\n",
    "**figsize(width, height)**\n",
    "    - Width, height in inches.\n",
    "\n",
    "https://matplotlib.org/stable/api/_as_gen/matplotlib.pyplot.figure.html"
   ]
  },
  {
   "cell_type": "code",
   "execution_count": null,
   "metadata": {},
   "outputs": [],
   "source": [
    "plt.figure(figsize = (12, 6))\n",
    "plt.plot(icici_df['Close Price'], color = 'r');"
   ]
  },
  {
   "cell_type": "code",
   "execution_count": null,
   "metadata": {},
   "outputs": [],
   "source": [
    "plt.figure(figsize = (12, 6))\n",
    "plt.plot(yes_df['Close Price'], color = 'r');"
   ]
  },
  {
   "cell_type": "markdown",
   "metadata": {},
   "source": [
    "- From December 2022, the stock prices have fallen and reached the october 2022 levels.\n",
    "\n",
    "- But our focus will be on daily gains here .e.g how much gain or loss if remain invested for a day."
   ]
  },
  {
   "cell_type": "markdown",
   "metadata": {},
   "source": [
    "## Plotting Daily Gains\n",
    "\n",
    "How much the stock price changes every day. Is there any pattern in the change of price?"
   ]
  },
  {
   "cell_type": "code",
   "execution_count": null,
   "metadata": {},
   "outputs": [],
   "source": [
    "plt.figure(figsize = (12, 4))\n",
    "plt.plot( icici_df.gain, 'r' );"
   ]
  },
  {
   "cell_type": "markdown",
   "metadata": {},
   "source": []
  },
  {
   "cell_type": "code",
   "execution_count": null,
   "metadata": {},
   "outputs": [],
   "source": [
    "plt.figure(figsize = (12, 4))\n",
    "plt.plot( yes_df.gain, 'b' );"
   ]
  },
  {
   "cell_type": "markdown",
   "metadata": {},
   "source": [
    "### Calculating min and max gains"
   ]
  },
  {
   "cell_type": "code",
   "execution_count": null,
   "metadata": {},
   "outputs": [],
   "source": [
    "icici_df.gain.min(), icici_df.gain.max()"
   ]
  },
  {
   "cell_type": "code",
   "execution_count": null,
   "metadata": {},
   "outputs": [],
   "source": [
    "yes_df.gain.min(), yes_df.gain.max()"
   ]
  },
  {
   "cell_type": "markdown",
   "metadata": {},
   "source": [
    "### What is stock volatility?\n",
    "- Volatility is the rate at which the price of a stock increases or decreases over a particular period.\n",
    "\n",
    "- Higher stock price volatility often means higher risk and helps an investor to estimate the fluctuations that may happen in the future.\n",
    "\n",
    "Source: [Stock Volatility](https://www.fidelity.com.sg/beginners/your-guide-to-stock-investing/understanding-stock-market-volatility-and-how-it-could-help-you#:~:text=Volatility%20is%20the%20standard%20deviation,said%20to%20have%20high%20volatility.)"
   ]
  },
  {
   "cell_type": "markdown",
   "metadata": {},
   "source": [
    "### Plotting distribution of daily returns \n",
    "\n",
    "- How many times (in terms of frequency) we are observing different values of gain or loss? Do we observe very high gain or loss very frequently or this is a rare event?\n",
    "\n",
    "- A **histogram** can show the frequency of data items in successive numerical intervals of equal size e.g. \n",
    "\n",
    "    - Frequenecy of -2% to -1% loss \n",
    "    - Frequenecy of -1% to 0% loss \n",
    "    - Frequenecy of 0% to 1% gain \n",
    "    - Frequenecy of 1% to 2% gain\n",
    "    - and so on"
   ]
  },
  {
   "cell_type": "code",
   "execution_count": null,
   "metadata": {},
   "outputs": [],
   "source": [
    "plt.hist(icici_df.gain);"
   ]
  },
  {
   "cell_type": "markdown",
   "metadata": {},
   "source": [
    "- The bin intervals are calculated automatically\n",
    "- We can create our own bins to make the histogram more readable.\n",
    "- Create bins from -4.0 to +4.0 with bin size of 1.0 and show frequencey for each bin"
   ]
  },
  {
   "cell_type": "code",
   "execution_count": null,
   "metadata": {},
   "outputs": [],
   "source": [
    "plt.hist(icici_df.gain, bins = range(-4, 4, 1));"
   ]
  },
  {
   "cell_type": "code",
   "execution_count": null,
   "metadata": {},
   "outputs": [],
   "source": [
    "plt.hist(yes_df.gain, bins = range(-9, 12, 1));"
   ]
  },
  {
   "cell_type": "markdown",
   "metadata": {},
   "source": [
    "### Plotting Distribution Plots\n",
    "\n",
    "In the probability distribution curve, the x-axis indicates the possible values and y-axis indicates the probability of that value occuring.\n",
    "\n",
    "Probability distribution describes all the possible values and likelihoods that a random variable can take within a given range. This range will be bounded between the minimum and maximum possible values."
   ]
  },
  {
   "cell_type": "code",
   "execution_count": null,
   "metadata": {},
   "outputs": [],
   "source": [
    "sn.kdeplot(icici_df.gain);"
   ]
  },
  {
   "cell_type": "code",
   "execution_count": null,
   "metadata": {},
   "outputs": [],
   "source": [
    "plt.figure(figsize = (12, 5))\n",
    "sn.kdeplot(icici_df.gain, label = 'ICICI Bank' );\n",
    "sn.kdeplot(yes_df.gain, label = 'Yes Bank' );\n",
    "plt.title(\"Volatility of Stocks\")\n",
    "plt.legend();"
   ]
  },
  {
   "cell_type": "markdown",
   "metadata": {},
   "source": [
    "- Yes Bank has higher dispersion than ICICI Bank, which indicates it is higher volatile.\n",
    "- But can we measure volatility?"
   ]
  },
  {
   "cell_type": "markdown",
   "metadata": {},
   "source": [
    "## What is Normal Distribution\n",
    "\n",
    "The normal distribution, also known as the Gaussian distribution, is the most important probability distribution in statistics for independent, random variables. Most people recognize its familiar bell-shaped curve in statistical reports.\n",
    "\n",
    "- The normal distribution is a continuous probability distribution that is symmetrical around its mean, most of the observations cluster around the central peak, and the probabilities for values further away from the mean taper off equally in both directions. \n",
    "- Extreme values in both tails of the distribution are similarly unlikely. While the normal distribution is symmetrical, not all symmetrical distributions are normal\n",
    "\n",
    "Source: https://statisticsbyjim.com/basics/normal-distribution/\n",
    "\n",
    "References:\n",
    "\n",
    "https://en.wikipedia.org/wiki/Normal_distribution\n",
    "\n",
    "https://courses.lumenlearning.com/math4libarts/chapter/understanding-normal-distribution/\n",
    "\n",
    "<img src=\"normal.png\" alt=\"Normal Distribution\" width=\"500\"/>\n",
    "\n",
    "Source: https://en.wikipedia.org/wiki/Normal_distribution"
   ]
  },
  {
   "cell_type": "markdown",
   "metadata": {},
   "source": [
    "### Calculate Mean, Standard Deviation of Daily Returns for ICICI Bank\n",
    "\n",
    "The normal distribution is parameterized by two parameters: the mean of the distribution $\\mu$ and the variance $\\sigma^2$. \n",
    "\n",
    "The sample mean of a normal distribution is given by, \n",
    "\n",
    "$\\bar x = \\frac{1}{n}\\sum_{i=1}^{n}x_{i}$\n",
    "\n",
    "Variance is given by, \n",
    "\n",
    "$\\sigma^2 = \\frac{1}{n}\\sqrt \\sum_{i=1}^{n}(x_{i}-\\bar x)^2$. \n",
    "\n",
    "And standard deviation is square root of variance and is denoted by $\\sigma$.\n",
    "\n",
    "- In investing, standard deviation is used as an indicator of market volatility and thus of risk. The more unpredictable the price action and the wider the range, the greater the risk."
   ]
  },
  {
   "cell_type": "code",
   "execution_count": null,
   "metadata": {},
   "outputs": [],
   "source": [
    "icici_df.gain.mean()"
   ]
  },
  {
   "cell_type": "code",
   "execution_count": null,
   "metadata": {},
   "outputs": [],
   "source": [
    "icici_df.gain.std()"
   ]
  },
  {
   "cell_type": "markdown",
   "metadata": {},
   "source": [
    "### Confidence Interval\n",
    "\n",
    "- Confidence interval is a range of values, bounded above and below the mean value.\n",
    "\n",
    "- It is the probability that a parameter will fall between a set of values for a certain proportion of times. \n",
    "\n",
    "- Most often used confidence intervals are either 90% or 95% or 99%."
   ]
  },
  {
   "cell_type": "code",
   "execution_count": null,
   "metadata": {},
   "outputs": [],
   "source": [
    "from scipy import stats"
   ]
  },
  {
   "cell_type": "code",
   "execution_count": null,
   "metadata": {},
   "outputs": [],
   "source": [
    "icici_ci_90 = stats.norm.interval(0.90,\n",
    "                                  loc=icici_df.gain.mean(),\n",
    "                                  scale=icici_df.gain.std())"
   ]
  },
  {
   "cell_type": "code",
   "execution_count": null,
   "metadata": {},
   "outputs": [],
   "source": [
    "icici_ci_90"
   ]
  },
  {
   "cell_type": "code",
   "execution_count": null,
   "metadata": {},
   "outputs": [],
   "source": [
    "icici_df[icici_df.gain < icici_ci_90[0]]"
   ]
  },
  {
   "cell_type": "markdown",
   "metadata": {},
   "source": [
    "### VaR - Value At Risk"
   ]
  },
  {
   "cell_type": "markdown",
   "metadata": {},
   "source": [
    "- Value at Risk (VaR) is a statistic that is used in risk management to predict the greatest possible losses over a specific time frame.\n",
    "\n",
    "<img src=\"var_investopedia.png\" alt=\"Normal Distribution\" width=\"500\"/>\n",
    "\n",
    "Source: https://en.wikipedia.org/wiki/Normal_distribution\n",
    "\n",
    "- What is the value at risk if invested one lakh?"
   ]
  },
  {
   "cell_type": "code",
   "execution_count": null,
   "metadata": {},
   "outputs": [],
   "source": [
    "invest_amt = 100000"
   ]
  },
  {
   "cell_type": "code",
   "execution_count": null,
   "metadata": {},
   "outputs": [],
   "source": [
    "invest_amt"
   ]
  },
  {
   "cell_type": "code",
   "execution_count": null,
   "metadata": {},
   "outputs": [],
   "source": [
    "icici_ci_90[0]"
   ]
  },
  {
   "cell_type": "code",
   "execution_count": null,
   "metadata": {},
   "outputs": [],
   "source": [
    "icici_var = invest_amt * icici_ci_90[0] / 100"
   ]
  },
  {
   "cell_type": "code",
   "execution_count": null,
   "metadata": {},
   "outputs": [],
   "source": [
    "icici_var"
   ]
  },
  {
   "cell_type": "markdown",
   "metadata": {},
   "source": [
    "#### Note: \n",
    "\n",
    "- Value at risk for 95% CI is 1930.23 rupees, if invested one lakh rupees for day trading in ICICI Bank."
   ]
  },
  {
   "cell_type": "markdown",
   "metadata": {},
   "source": [
    "https://www.moneycontrol.com/news/business/markets/december-21-share-market-live-updates-stock-market-today-december-latest-news-bse-nse-sensex-nifty-covid-coronavirus-9739291.html"
   ]
  },
  {
   "cell_type": "markdown",
   "metadata": {},
   "source": [
    "### Outlier Events\n",
    "\n",
    "- Values that are greater than +3 standard deviations from the mean, or less than -3 standard deviations are considered as outliers."
   ]
  },
  {
   "cell_type": "code",
   "execution_count": null,
   "metadata": {},
   "outputs": [],
   "source": [
    "icici_ci_99_7 = stats.norm.interval(0.997,\n",
    "                                    loc=icici_df.gain.mean(),\n",
    "                                    scale=icici_df.gain.std())"
   ]
  },
  {
   "cell_type": "code",
   "execution_count": null,
   "metadata": {},
   "outputs": [],
   "source": [
    "icici_ci_99_7"
   ]
  },
  {
   "cell_type": "code",
   "execution_count": null,
   "metadata": {},
   "outputs": [],
   "source": [
    "icici_df[icici_df.gain > icici_ci_99_7[1]]"
   ]
  },
  {
   "cell_type": "markdown",
   "metadata": {},
   "source": [
    "### Yes Bank "
   ]
  },
  {
   "cell_type": "code",
   "execution_count": null,
   "metadata": {},
   "outputs": [],
   "source": [
    "yes_df.gain.mean()"
   ]
  },
  {
   "cell_type": "code",
   "execution_count": null,
   "metadata": {},
   "outputs": [],
   "source": [
    "yes_df.gain.std()"
   ]
  },
  {
   "cell_type": "code",
   "execution_count": null,
   "metadata": {},
   "outputs": [],
   "source": [
    "yes_ci_90 = stats.norm.interval(0.90,\n",
    "                                loc=yes_df.gain.mean(),\n",
    "                                scale=yes_df.gain.std())"
   ]
  },
  {
   "cell_type": "code",
   "execution_count": null,
   "metadata": {},
   "outputs": [],
   "source": [
    "yes_ci_90"
   ]
  },
  {
   "cell_type": "markdown",
   "metadata": {},
   "source": [
    "- Yes Bank higher risk of higher loss. But it also provides opportunity for higher gains.\n",
    "\n",
    "- Volatility is not always a bad thing, as it can sometimes provide entry points from which investors can take advantage."
   ]
  },
  {
   "cell_type": "markdown",
   "metadata": {},
   "source": [
    "### What is the probability that the stock will make a loss of 3% or more?"
   ]
  },
  {
   "cell_type": "code",
   "execution_count": null,
   "metadata": {},
   "outputs": [],
   "source": [
    "plt.figure(figsize = (12, 5))\n",
    "sn.kdeplot(yes_df.gain, label = 'Yes Bank' );\n",
    "plt.legend();"
   ]
  },
  {
   "cell_type": "markdown",
   "metadata": {},
   "source": [
    "#### CDF - Cummulative Distribution Function\n",
    "\n",
    "- CDF is the probability that a random variable (let X) will take a value less than or equal to the random variable (X).\n",
    "\n",
    "- For example: The probability that the stock will make a loss of 3% or more is the sum of all probabilities of the stocks making 3%, 2.9%, 2.8% and so on until highest loss it has encountered historically.\n",
    "\n",
    "$$\\int_{-\\infty}^{-3} p(x) \\; dx  $$\n",
    "\n",
    "<img src=\"cdf.png\" alt=\"Cummulative Distribution Function\" width=\"400\"/>"
   ]
  },
  {
   "cell_type": "markdown",
   "metadata": {},
   "source": [
    "#### ICICI Bank - probability of a loss of 3% or more"
   ]
  },
  {
   "cell_type": "code",
   "execution_count": null,
   "metadata": {},
   "outputs": [],
   "source": [
    "stats.norm.cdf( -3.0,\n",
    "               loc=icici_df.gain.mean(),\n",
    "               scale=icici_df.gain.std())"
   ]
  },
  {
   "cell_type": "markdown",
   "metadata": {},
   "source": [
    "#### Yes Bank - probability of a loss of 3% or more"
   ]
  },
  {
   "cell_type": "code",
   "execution_count": null,
   "metadata": {},
   "outputs": [],
   "source": [
    "stats.norm.cdf( -2.0,\n",
    "               loc=yes_df.gain.mean(),\n",
    "               scale=yes_df.gain.std())"
   ]
  },
  {
   "cell_type": "markdown",
   "metadata": {},
   "source": [
    "#### Note:\n",
    "\n",
    "- Yes Bank higher probablity compared to ICICI Bank."
   ]
  },
  {
   "cell_type": "markdown",
   "metadata": {},
   "source": [
    "### What is the probability that the stock will make a gain of 3% or more?"
   ]
  },
  {
   "cell_type": "markdown",
   "metadata": {},
   "source": [
    "#### ICICI Bank - probability of a gain of 3%"
   ]
  },
  {
   "cell_type": "code",
   "execution_count": null,
   "metadata": {},
   "outputs": [],
   "source": [
    "1 - stats.norm.cdf(3.0,\n",
    "                   loc=icici_df.gain.mean(),\n",
    "                   scale=icici_df.gain.std())               "
   ]
  },
  {
   "cell_type": "markdown",
   "metadata": {},
   "source": [
    "#### Yes Bank - probability of a gain of 3%"
   ]
  },
  {
   "cell_type": "code",
   "execution_count": null,
   "metadata": {},
   "outputs": [],
   "source": [
    "1 - stats.norm.cdf(3.0,\n",
    "                   loc=yes_df.gain.mean(),\n",
    "                   scale=yes_df.gain.std())               "
   ]
  },
  {
   "cell_type": "markdown",
   "metadata": {},
   "source": [
    "#### Note:\n",
    "- Yes Bank has 16% probability of making a gain of 3% or more."
   ]
  },
  {
   "cell_type": "markdown",
   "metadata": {},
   "source": [
    "### Explore few other distributions"
   ]
  },
  {
   "cell_type": "markdown",
   "metadata": {},
   "source": [
    "[statdist](https://statdist.com/)"
   ]
  },
  {
   "cell_type": "markdown",
   "metadata": {},
   "source": [
    "## Ex1: Participant Exercise\n",
    "\n",
    "1. Download the daily stock price of four or five randomly selected stocks. The stocks can belong to one sector.\n",
    "\n",
    "2. Find out the value at risk (Var) of each stock at 95%.\n",
    "\n",
    "3. Plot the daily gain or loss of all the stocks in one plot.\n",
    "\n",
    "4. Find out the probability of making 4% gain in each of the stock."
   ]
  }
 ],
 "metadata": {
  "anaconda-cloud": {},
  "kernelspec": {
   "display_name": "Python 3",
   "language": "python",
   "name": "python3"
  },
  "language_info": {
   "codemirror_mode": {
    "name": "ipython",
    "version": 3
   },
   "file_extension": ".py",
   "mimetype": "text/x-python",
   "name": "python",
   "nbconvert_exporter": "python",
   "pygments_lexer": "ipython3",
   "version": "3.8.3"
  }
 },
 "nbformat": 4,
 "nbformat_minor": 1
}
