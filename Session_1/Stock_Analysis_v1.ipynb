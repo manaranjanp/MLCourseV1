{
 "cells": [
  {
   "cell_type": "markdown",
   "metadata": {},
   "source": [
    "# Analysis of Stocks - Daily Returns"
   ]
  },
  {
   "cell_type": "markdown",
   "metadata": {},
   "source": [
    "##  Objective \n",
    "\n",
    "### The key statistical concepts that will be explored this notebook are:\n",
    "\n",
    "- Probability Distribution\n",
    "- Normal Distribution\n",
    "- Significance of mean and standard deviation\n",
    "- Confidence Interval\n",
    "- Outlier events\n",
    "\n",
    "### Datasets \n",
    "\n",
    "We will use the following real world data for this notebook.\n",
    "\n",
    "- Daily stock prices of **ICICI Bank and Yes Bank**\n",
    "- For the period of **01 October 2022 to 07 March 2023**\n",
    "- The dails stock price data can be downloaded from **BSE India Site**\n",
    "\n",
    "https://www.bseindia.com/markets/equity/EQReports/StockPrcHistori.html?flag=0\n",
    "\n",
    "#### We will explore some of the basic insights like:\n",
    "\n",
    "- What is the value at risk (VaR)?\n",
    "\n",
    "Value at risk (VaR) is a measure of the risk of loss for investments. It estimates how much a set of investments might lose (with a given probability), given normal market conditions, in a set time period such as a day. (https://en.wikipedia.org/wiki/Value_at_risk)\n",
    "\n",
    "- What is the probability of making a certain percetage of profit or loss if invested in a stock for a specified duration of time?\n",
    "\n",
    "- How basic statistical analysis helps answer the above questions?"
   ]
  },
  {
   "cell_type": "markdown",
   "metadata": {},
   "source": [
    "## Read the dataset\n",
    "\n",
    "- Explore the pandas, seaborn documentation page\n",
    "\n",
    "    - [Pandas Home Page](https://pandas.pydata.org/)\n",
    "    - [Matplotlib Home Page](https://matplotlib.org/)\n",
    "    - [Seaborn Home Page](https://seaborn.pydata.org/)\n"
   ]
  },
  {
   "cell_type": "code",
   "execution_count": 8,
   "metadata": {},
   "outputs": [],
   "source": [
    "import pandas as pd\n",
    "import matplotlib as mplot\n",
    "import matplotlib.pyplot as plt\n",
    "import seaborn as sn"
   ]
  },
  {
   "cell_type": "markdown",
   "metadata": {},
   "source": [
    "### Check the library versions"
   ]
  },
  {
   "cell_type": "code",
   "execution_count": 9,
   "metadata": {},
   "outputs": [
    {
     "data": {
      "text/plain": [
       "'1.0.5'"
      ]
     },
     "execution_count": 9,
     "metadata": {},
     "output_type": "execute_result"
    }
   ],
   "source": [
    "pd.__version__"
   ]
  },
  {
   "cell_type": "code",
   "execution_count": 10,
   "metadata": {},
   "outputs": [
    {
     "data": {
      "text/plain": [
       "'3.5.2'"
      ]
     },
     "execution_count": 10,
     "metadata": {},
     "output_type": "execute_result"
    }
   ],
   "source": [
    "mplot.__version__"
   ]
  },
  {
   "cell_type": "code",
   "execution_count": 11,
   "metadata": {},
   "outputs": [
    {
     "data": {
      "text/plain": [
       "'0.12.2'"
      ]
     },
     "execution_count": 11,
     "metadata": {},
     "output_type": "execute_result"
    }
   ],
   "source": [
    "sn.__version__"
   ]
  },
  {
   "cell_type": "markdown",
   "metadata": {},
   "source": [
    "### Load ICICI Bank Data"
   ]
  },
  {
   "cell_type": "markdown",
   "metadata": {},
   "source": [
    "- Read different kinds of data formats\n",
    "\n",
    "https://pandas.pydata.org/docs/user_guide/io.html"
   ]
  },
  {
   "cell_type": "code",
   "execution_count": 12,
   "metadata": {},
   "outputs": [],
   "source": [
    "icici_df = pd.read_csv( 'ICICI.csv', \n",
    "                       parse_dates=['Date'] )"
   ]
  },
  {
   "cell_type": "code",
   "execution_count": 13,
   "metadata": {},
   "outputs": [
    {
     "data": {
      "text/plain": [
       "pandas.core.frame.DataFrame"
      ]
     },
     "execution_count": 13,
     "metadata": {},
     "output_type": "execute_result"
    }
   ],
   "source": [
    "type(icici_df)"
   ]
  },
  {
   "cell_type": "markdown",
   "metadata": {},
   "source": [
    "A DataFrame is a data structure that organizes data into a 2-dimensional table of rows and columns, much like a spreadsheet. DataFrames are one of the most common data structures used in modern data analytics because they are a flexible and intuitive way of storing and working with data.\n",
    "\n",
    "Source: [What is a DataFrame](https://www.databricks.com/glossary/what-are-dataframes#:~:text=What%20is%20a%20DataFrame%3F,storing%20and%20working%20with%20data.)"
   ]
  },
  {
   "cell_type": "markdown",
   "metadata": {},
   "source": [
    "#### Show few records"
   ]
  },
  {
   "cell_type": "code",
   "execution_count": 14,
   "metadata": {},
   "outputs": [
    {
     "data": {
      "text/html": [
       "<div>\n",
       "<style scoped>\n",
       "    .dataframe tbody tr th:only-of-type {\n",
       "        vertical-align: middle;\n",
       "    }\n",
       "\n",
       "    .dataframe tbody tr th {\n",
       "        vertical-align: top;\n",
       "    }\n",
       "\n",
       "    .dataframe thead th {\n",
       "        text-align: right;\n",
       "    }\n",
       "</style>\n",
       "<table border=\"1\" class=\"dataframe\">\n",
       "  <thead>\n",
       "    <tr style=\"text-align: right;\">\n",
       "      <th></th>\n",
       "      <th>Date</th>\n",
       "      <th>Open Price</th>\n",
       "      <th>High Price</th>\n",
       "      <th>Low Price</th>\n",
       "      <th>Close Price</th>\n",
       "      <th>WAP</th>\n",
       "      <th>No.of Shares</th>\n",
       "      <th>No. of Trades</th>\n",
       "      <th>Total Turnover (Rs.)</th>\n",
       "      <th>Deliverable Quantity</th>\n",
       "      <th>% Deli. Qty to Traded Qty</th>\n",
       "      <th>Spread High-Low</th>\n",
       "      <th>Spread Close-Open</th>\n",
       "    </tr>\n",
       "  </thead>\n",
       "  <tbody>\n",
       "    <tr>\n",
       "      <th>0</th>\n",
       "      <td>2023-03-06</td>\n",
       "      <td>873.80</td>\n",
       "      <td>876.50</td>\n",
       "      <td>865.60</td>\n",
       "      <td>867.95</td>\n",
       "      <td>871.256330</td>\n",
       "      <td>165396</td>\n",
       "      <td>7772</td>\n",
       "      <td>144102312</td>\n",
       "      <td>76949.0</td>\n",
       "      <td>46.52</td>\n",
       "      <td>10.90</td>\n",
       "      <td>-5.85</td>\n",
       "    </tr>\n",
       "    <tr>\n",
       "      <th>1</th>\n",
       "      <td>2023-03-03</td>\n",
       "      <td>855.05</td>\n",
       "      <td>873.00</td>\n",
       "      <td>849.85</td>\n",
       "      <td>868.80</td>\n",
       "      <td>865.532334</td>\n",
       "      <td>177353</td>\n",
       "      <td>5219</td>\n",
       "      <td>153504756</td>\n",
       "      <td>73785.0</td>\n",
       "      <td>41.60</td>\n",
       "      <td>23.15</td>\n",
       "      <td>13.75</td>\n",
       "    </tr>\n",
       "    <tr>\n",
       "      <th>2</th>\n",
       "      <td>2023-03-02</td>\n",
       "      <td>854.30</td>\n",
       "      <td>861.85</td>\n",
       "      <td>851.00</td>\n",
       "      <td>853.95</td>\n",
       "      <td>857.834905</td>\n",
       "      <td>89942</td>\n",
       "      <td>3357</td>\n",
       "      <td>77155387</td>\n",
       "      <td>38971.0</td>\n",
       "      <td>43.33</td>\n",
       "      <td>10.85</td>\n",
       "      <td>-0.35</td>\n",
       "    </tr>\n",
       "    <tr>\n",
       "      <th>3</th>\n",
       "      <td>2023-03-01</td>\n",
       "      <td>861.55</td>\n",
       "      <td>861.90</td>\n",
       "      <td>852.00</td>\n",
       "      <td>856.05</td>\n",
       "      <td>857.317703</td>\n",
       "      <td>95709</td>\n",
       "      <td>3624</td>\n",
       "      <td>82053020</td>\n",
       "      <td>31041.0</td>\n",
       "      <td>32.43</td>\n",
       "      <td>9.90</td>\n",
       "      <td>-5.50</td>\n",
       "    </tr>\n",
       "    <tr>\n",
       "      <th>4</th>\n",
       "      <td>2023-02-28</td>\n",
       "      <td>856.30</td>\n",
       "      <td>857.85</td>\n",
       "      <td>850.05</td>\n",
       "      <td>854.65</td>\n",
       "      <td>853.431155</td>\n",
       "      <td>159604</td>\n",
       "      <td>7878</td>\n",
       "      <td>136211026</td>\n",
       "      <td>66312.0</td>\n",
       "      <td>41.55</td>\n",
       "      <td>7.80</td>\n",
       "      <td>-1.65</td>\n",
       "    </tr>\n",
       "  </tbody>\n",
       "</table>\n",
       "</div>"
      ],
      "text/plain": [
       "        Date  Open Price  High Price  Low Price  Close Price         WAP  \\\n",
       "0 2023-03-06      873.80      876.50     865.60       867.95  871.256330   \n",
       "1 2023-03-03      855.05      873.00     849.85       868.80  865.532334   \n",
       "2 2023-03-02      854.30      861.85     851.00       853.95  857.834905   \n",
       "3 2023-03-01      861.55      861.90     852.00       856.05  857.317703   \n",
       "4 2023-02-28      856.30      857.85     850.05       854.65  853.431155   \n",
       "\n",
       "   No.of Shares  No. of Trades  Total Turnover (Rs.)  Deliverable Quantity  \\\n",
       "0        165396           7772             144102312               76949.0   \n",
       "1        177353           5219             153504756               73785.0   \n",
       "2         89942           3357              77155387               38971.0   \n",
       "3         95709           3624              82053020               31041.0   \n",
       "4        159604           7878             136211026               66312.0   \n",
       "\n",
       "   % Deli. Qty to Traded Qty  Spread High-Low  Spread Close-Open  \n",
       "0                      46.52            10.90              -5.85  \n",
       "1                      41.60            23.15              13.75  \n",
       "2                      43.33            10.85              -0.35  \n",
       "3                      32.43             9.90              -5.50  \n",
       "4                      41.55             7.80              -1.65  "
      ]
     },
     "execution_count": 14,
     "metadata": {},
     "output_type": "execute_result"
    }
   ],
   "source": [
    "icici_df.head( 5 )"
   ]
  },
  {
   "cell_type": "markdown",
   "metadata": {},
   "source": [
    "#### How many rows and columns?"
   ]
  },
  {
   "cell_type": "code",
   "execution_count": 15,
   "metadata": {},
   "outputs": [
    {
     "data": {
      "text/plain": [
       "(107, 13)"
      ]
     },
     "execution_count": 15,
     "metadata": {},
     "output_type": "execute_result"
    }
   ],
   "source": [
    "icici_df.shape"
   ]
  },
  {
   "cell_type": "code",
   "execution_count": 16,
   "metadata": {},
   "outputs": [
    {
     "name": "stdout",
     "output_type": "stream",
     "text": [
      "<class 'pandas.core.frame.DataFrame'>\n",
      "RangeIndex: 107 entries, 0 to 106\n",
      "Data columns (total 13 columns):\n",
      " #   Column                     Non-Null Count  Dtype         \n",
      "---  ------                     --------------  -----         \n",
      " 0   Date                       107 non-null    datetime64[ns]\n",
      " 1   Open Price                 107 non-null    float64       \n",
      " 2   High Price                 107 non-null    float64       \n",
      " 3   Low Price                  107 non-null    float64       \n",
      " 4   Close Price                107 non-null    float64       \n",
      " 5   WAP                        107 non-null    float64       \n",
      " 6   No.of Shares               107 non-null    int64         \n",
      " 7   No. of Trades              107 non-null    int64         \n",
      " 8   Total Turnover (Rs.)       107 non-null    int64         \n",
      " 9   Deliverable Quantity       105 non-null    float64       \n",
      " 10  % Deli. Qty to Traded Qty  105 non-null    float64       \n",
      " 11  Spread High-Low            107 non-null    float64       \n",
      " 12  Spread Close-Open          107 non-null    float64       \n",
      "dtypes: datetime64[ns](1), float64(9), int64(3)\n",
      "memory usage: 11.0 KB\n"
     ]
    }
   ],
   "source": [
    "icici_df.info()"
   ]
  },
  {
   "cell_type": "markdown",
   "metadata": {},
   "source": [
    "### Time Series Data\n",
    "\n",
    "This data is time series based. It makes sense to index the data based on timestamp."
   ]
  },
  {
   "cell_type": "code",
   "execution_count": 17,
   "metadata": {},
   "outputs": [],
   "source": [
    "icici_df = icici_df.set_index(['Date'], drop=True)"
   ]
  },
  {
   "cell_type": "code",
   "execution_count": 18,
   "metadata": {},
   "outputs": [
    {
     "data": {
      "text/html": [
       "<div>\n",
       "<style scoped>\n",
       "    .dataframe tbody tr th:only-of-type {\n",
       "        vertical-align: middle;\n",
       "    }\n",
       "\n",
       "    .dataframe tbody tr th {\n",
       "        vertical-align: top;\n",
       "    }\n",
       "\n",
       "    .dataframe thead th {\n",
       "        text-align: right;\n",
       "    }\n",
       "</style>\n",
       "<table border=\"1\" class=\"dataframe\">\n",
       "  <thead>\n",
       "    <tr style=\"text-align: right;\">\n",
       "      <th></th>\n",
       "      <th>Open Price</th>\n",
       "      <th>High Price</th>\n",
       "      <th>Low Price</th>\n",
       "      <th>Close Price</th>\n",
       "      <th>WAP</th>\n",
       "      <th>No.of Shares</th>\n",
       "      <th>No. of Trades</th>\n",
       "      <th>Total Turnover (Rs.)</th>\n",
       "      <th>Deliverable Quantity</th>\n",
       "      <th>% Deli. Qty to Traded Qty</th>\n",
       "      <th>Spread High-Low</th>\n",
       "      <th>Spread Close-Open</th>\n",
       "    </tr>\n",
       "    <tr>\n",
       "      <th>Date</th>\n",
       "      <th></th>\n",
       "      <th></th>\n",
       "      <th></th>\n",
       "      <th></th>\n",
       "      <th></th>\n",
       "      <th></th>\n",
       "      <th></th>\n",
       "      <th></th>\n",
       "      <th></th>\n",
       "      <th></th>\n",
       "      <th></th>\n",
       "      <th></th>\n",
       "    </tr>\n",
       "  </thead>\n",
       "  <tbody>\n",
       "    <tr>\n",
       "      <th>2023-03-06</th>\n",
       "      <td>873.80</td>\n",
       "      <td>876.50</td>\n",
       "      <td>865.60</td>\n",
       "      <td>867.95</td>\n",
       "      <td>871.256330</td>\n",
       "      <td>165396</td>\n",
       "      <td>7772</td>\n",
       "      <td>144102312</td>\n",
       "      <td>76949.0</td>\n",
       "      <td>46.52</td>\n",
       "      <td>10.90</td>\n",
       "      <td>-5.85</td>\n",
       "    </tr>\n",
       "    <tr>\n",
       "      <th>2023-03-03</th>\n",
       "      <td>855.05</td>\n",
       "      <td>873.00</td>\n",
       "      <td>849.85</td>\n",
       "      <td>868.80</td>\n",
       "      <td>865.532334</td>\n",
       "      <td>177353</td>\n",
       "      <td>5219</td>\n",
       "      <td>153504756</td>\n",
       "      <td>73785.0</td>\n",
       "      <td>41.60</td>\n",
       "      <td>23.15</td>\n",
       "      <td>13.75</td>\n",
       "    </tr>\n",
       "    <tr>\n",
       "      <th>2023-03-02</th>\n",
       "      <td>854.30</td>\n",
       "      <td>861.85</td>\n",
       "      <td>851.00</td>\n",
       "      <td>853.95</td>\n",
       "      <td>857.834905</td>\n",
       "      <td>89942</td>\n",
       "      <td>3357</td>\n",
       "      <td>77155387</td>\n",
       "      <td>38971.0</td>\n",
       "      <td>43.33</td>\n",
       "      <td>10.85</td>\n",
       "      <td>-0.35</td>\n",
       "    </tr>\n",
       "    <tr>\n",
       "      <th>2023-03-01</th>\n",
       "      <td>861.55</td>\n",
       "      <td>861.90</td>\n",
       "      <td>852.00</td>\n",
       "      <td>856.05</td>\n",
       "      <td>857.317703</td>\n",
       "      <td>95709</td>\n",
       "      <td>3624</td>\n",
       "      <td>82053020</td>\n",
       "      <td>31041.0</td>\n",
       "      <td>32.43</td>\n",
       "      <td>9.90</td>\n",
       "      <td>-5.50</td>\n",
       "    </tr>\n",
       "    <tr>\n",
       "      <th>2023-02-28</th>\n",
       "      <td>856.30</td>\n",
       "      <td>857.85</td>\n",
       "      <td>850.05</td>\n",
       "      <td>854.65</td>\n",
       "      <td>853.431155</td>\n",
       "      <td>159604</td>\n",
       "      <td>7878</td>\n",
       "      <td>136211026</td>\n",
       "      <td>66312.0</td>\n",
       "      <td>41.55</td>\n",
       "      <td>7.80</td>\n",
       "      <td>-1.65</td>\n",
       "    </tr>\n",
       "  </tbody>\n",
       "</table>\n",
       "</div>"
      ],
      "text/plain": [
       "            Open Price  High Price  Low Price  Close Price         WAP  \\\n",
       "Date                                                                     \n",
       "2023-03-06      873.80      876.50     865.60       867.95  871.256330   \n",
       "2023-03-03      855.05      873.00     849.85       868.80  865.532334   \n",
       "2023-03-02      854.30      861.85     851.00       853.95  857.834905   \n",
       "2023-03-01      861.55      861.90     852.00       856.05  857.317703   \n",
       "2023-02-28      856.30      857.85     850.05       854.65  853.431155   \n",
       "\n",
       "            No.of Shares  No. of Trades  Total Turnover (Rs.)  \\\n",
       "Date                                                            \n",
       "2023-03-06        165396           7772             144102312   \n",
       "2023-03-03        177353           5219             153504756   \n",
       "2023-03-02         89942           3357              77155387   \n",
       "2023-03-01         95709           3624              82053020   \n",
       "2023-02-28        159604           7878             136211026   \n",
       "\n",
       "            Deliverable Quantity  % Deli. Qty to Traded Qty  Spread High-Low  \\\n",
       "Date                                                                           \n",
       "2023-03-06               76949.0                      46.52            10.90   \n",
       "2023-03-03               73785.0                      41.60            23.15   \n",
       "2023-03-02               38971.0                      43.33            10.85   \n",
       "2023-03-01               31041.0                      32.43             9.90   \n",
       "2023-02-28               66312.0                      41.55             7.80   \n",
       "\n",
       "            Spread Close-Open  \n",
       "Date                           \n",
       "2023-03-06              -5.85  \n",
       "2023-03-03              13.75  \n",
       "2023-03-02              -0.35  \n",
       "2023-03-01              -5.50  \n",
       "2023-02-28              -1.65  "
      ]
     },
     "execution_count": 18,
     "metadata": {},
     "output_type": "execute_result"
    }
   ],
   "source": [
    "icici_df.head(5)"
   ]
  },
  {
   "cell_type": "markdown",
   "metadata": {},
   "source": [
    "#### Sort the data based on ascending order of timestamp"
   ]
  },
  {
   "cell_type": "code",
   "execution_count": 19,
   "metadata": {},
   "outputs": [],
   "source": [
    "icici_df.sort_index(ascending = True, inplace=True)"
   ]
  },
  {
   "cell_type": "markdown",
   "metadata": {},
   "source": [
    "### Slicing and indexing\n",
    "\n",
    "- How to slice, dice, and get subsets of pandas rows and columns."
   ]
  },
  {
   "cell_type": "code",
   "execution_count": 20,
   "metadata": {},
   "outputs": [
    {
     "data": {
      "text/html": [
       "<div>\n",
       "<style scoped>\n",
       "    .dataframe tbody tr th:only-of-type {\n",
       "        vertical-align: middle;\n",
       "    }\n",
       "\n",
       "    .dataframe tbody tr th {\n",
       "        vertical-align: top;\n",
       "    }\n",
       "\n",
       "    .dataframe thead th {\n",
       "        text-align: right;\n",
       "    }\n",
       "</style>\n",
       "<table border=\"1\" class=\"dataframe\">\n",
       "  <thead>\n",
       "    <tr style=\"text-align: right;\">\n",
       "      <th></th>\n",
       "      <th>Open Price</th>\n",
       "      <th>High Price</th>\n",
       "      <th>Low Price</th>\n",
       "      <th>Close Price</th>\n",
       "      <th>WAP</th>\n",
       "      <th>No.of Shares</th>\n",
       "      <th>No. of Trades</th>\n",
       "      <th>Total Turnover (Rs.)</th>\n",
       "      <th>Deliverable Quantity</th>\n",
       "      <th>% Deli. Qty to Traded Qty</th>\n",
       "      <th>Spread High-Low</th>\n",
       "      <th>Spread Close-Open</th>\n",
       "    </tr>\n",
       "    <tr>\n",
       "      <th>Date</th>\n",
       "      <th></th>\n",
       "      <th></th>\n",
       "      <th></th>\n",
       "      <th></th>\n",
       "      <th></th>\n",
       "      <th></th>\n",
       "      <th></th>\n",
       "      <th></th>\n",
       "      <th></th>\n",
       "      <th></th>\n",
       "      <th></th>\n",
       "      <th></th>\n",
       "    </tr>\n",
       "  </thead>\n",
       "  <tbody>\n",
       "    <tr>\n",
       "      <th>2022-10-03</th>\n",
       "      <td>860.0</td>\n",
       "      <td>860.50</td>\n",
       "      <td>846.05</td>\n",
       "      <td>848.05</td>\n",
       "      <td>851.947326</td>\n",
       "      <td>221153</td>\n",
       "      <td>10664</td>\n",
       "      <td>188410707</td>\n",
       "      <td>96202.0</td>\n",
       "      <td>43.50</td>\n",
       "      <td>14.45</td>\n",
       "      <td>-11.95</td>\n",
       "    </tr>\n",
       "    <tr>\n",
       "      <th>2022-10-04</th>\n",
       "      <td>862.0</td>\n",
       "      <td>872.35</td>\n",
       "      <td>862.00</td>\n",
       "      <td>867.65</td>\n",
       "      <td>868.406652</td>\n",
       "      <td>479617</td>\n",
       "      <td>6845</td>\n",
       "      <td>416502593</td>\n",
       "      <td>392664.0</td>\n",
       "      <td>81.87</td>\n",
       "      <td>10.35</td>\n",
       "      <td>5.65</td>\n",
       "    </tr>\n",
       "    <tr>\n",
       "      <th>2022-10-06</th>\n",
       "      <td>870.0</td>\n",
       "      <td>891.50</td>\n",
       "      <td>870.00</td>\n",
       "      <td>885.35</td>\n",
       "      <td>883.572212</td>\n",
       "      <td>347955</td>\n",
       "      <td>11178</td>\n",
       "      <td>307443369</td>\n",
       "      <td>237511.0</td>\n",
       "      <td>68.26</td>\n",
       "      <td>21.50</td>\n",
       "      <td>15.35</td>\n",
       "    </tr>\n",
       "    <tr>\n",
       "      <th>2022-10-07</th>\n",
       "      <td>876.4</td>\n",
       "      <td>884.40</td>\n",
       "      <td>873.15</td>\n",
       "      <td>882.00</td>\n",
       "      <td>877.454049</td>\n",
       "      <td>117485</td>\n",
       "      <td>3509</td>\n",
       "      <td>103087689</td>\n",
       "      <td>64226.0</td>\n",
       "      <td>54.67</td>\n",
       "      <td>11.25</td>\n",
       "      <td>5.60</td>\n",
       "    </tr>\n",
       "    <tr>\n",
       "      <th>2022-10-10</th>\n",
       "      <td>869.1</td>\n",
       "      <td>889.65</td>\n",
       "      <td>869.10</td>\n",
       "      <td>881.50</td>\n",
       "      <td>882.149263</td>\n",
       "      <td>652092</td>\n",
       "      <td>12228</td>\n",
       "      <td>575242477</td>\n",
       "      <td>548131.0</td>\n",
       "      <td>84.06</td>\n",
       "      <td>20.55</td>\n",
       "      <td>12.40</td>\n",
       "    </tr>\n",
       "  </tbody>\n",
       "</table>\n",
       "</div>"
      ],
      "text/plain": [
       "            Open Price  High Price  Low Price  Close Price         WAP  \\\n",
       "Date                                                                     \n",
       "2022-10-03       860.0      860.50     846.05       848.05  851.947326   \n",
       "2022-10-04       862.0      872.35     862.00       867.65  868.406652   \n",
       "2022-10-06       870.0      891.50     870.00       885.35  883.572212   \n",
       "2022-10-07       876.4      884.40     873.15       882.00  877.454049   \n",
       "2022-10-10       869.1      889.65     869.10       881.50  882.149263   \n",
       "\n",
       "            No.of Shares  No. of Trades  Total Turnover (Rs.)  \\\n",
       "Date                                                            \n",
       "2022-10-03        221153          10664             188410707   \n",
       "2022-10-04        479617           6845             416502593   \n",
       "2022-10-06        347955          11178             307443369   \n",
       "2022-10-07        117485           3509             103087689   \n",
       "2022-10-10        652092          12228             575242477   \n",
       "\n",
       "            Deliverable Quantity  % Deli. Qty to Traded Qty  Spread High-Low  \\\n",
       "Date                                                                           \n",
       "2022-10-03               96202.0                      43.50            14.45   \n",
       "2022-10-04              392664.0                      81.87            10.35   \n",
       "2022-10-06              237511.0                      68.26            21.50   \n",
       "2022-10-07               64226.0                      54.67            11.25   \n",
       "2022-10-10              548131.0                      84.06            20.55   \n",
       "\n",
       "            Spread Close-Open  \n",
       "Date                           \n",
       "2022-10-03             -11.95  \n",
       "2022-10-04               5.65  \n",
       "2022-10-06              15.35  \n",
       "2022-10-07               5.60  \n",
       "2022-10-10              12.40  "
      ]
     },
     "execution_count": 20,
     "metadata": {},
     "output_type": "execute_result"
    }
   ],
   "source": [
    "icici_df[0:5]"
   ]
  },
  {
   "cell_type": "code",
   "execution_count": 21,
   "metadata": {},
   "outputs": [
    {
     "data": {
      "text/html": [
       "<div>\n",
       "<style scoped>\n",
       "    .dataframe tbody tr th:only-of-type {\n",
       "        vertical-align: middle;\n",
       "    }\n",
       "\n",
       "    .dataframe tbody tr th {\n",
       "        vertical-align: top;\n",
       "    }\n",
       "\n",
       "    .dataframe thead th {\n",
       "        text-align: right;\n",
       "    }\n",
       "</style>\n",
       "<table border=\"1\" class=\"dataframe\">\n",
       "  <thead>\n",
       "    <tr style=\"text-align: right;\">\n",
       "      <th></th>\n",
       "      <th>Open Price</th>\n",
       "      <th>High Price</th>\n",
       "      <th>Low Price</th>\n",
       "      <th>Close Price</th>\n",
       "      <th>WAP</th>\n",
       "      <th>No.of Shares</th>\n",
       "      <th>No. of Trades</th>\n",
       "      <th>Total Turnover (Rs.)</th>\n",
       "      <th>Deliverable Quantity</th>\n",
       "      <th>% Deli. Qty to Traded Qty</th>\n",
       "      <th>Spread High-Low</th>\n",
       "      <th>Spread Close-Open</th>\n",
       "    </tr>\n",
       "    <tr>\n",
       "      <th>Date</th>\n",
       "      <th></th>\n",
       "      <th></th>\n",
       "      <th></th>\n",
       "      <th></th>\n",
       "      <th></th>\n",
       "      <th></th>\n",
       "      <th></th>\n",
       "      <th></th>\n",
       "      <th></th>\n",
       "      <th></th>\n",
       "      <th></th>\n",
       "      <th></th>\n",
       "    </tr>\n",
       "  </thead>\n",
       "  <tbody>\n",
       "    <tr>\n",
       "      <th>2023-02-28</th>\n",
       "      <td>856.30</td>\n",
       "      <td>857.85</td>\n",
       "      <td>850.05</td>\n",
       "      <td>854.65</td>\n",
       "      <td>853.431155</td>\n",
       "      <td>159604</td>\n",
       "      <td>7878</td>\n",
       "      <td>136211026</td>\n",
       "      <td>66312.0</td>\n",
       "      <td>41.55</td>\n",
       "      <td>7.80</td>\n",
       "      <td>-1.65</td>\n",
       "    </tr>\n",
       "    <tr>\n",
       "      <th>2023-03-01</th>\n",
       "      <td>861.55</td>\n",
       "      <td>861.90</td>\n",
       "      <td>852.00</td>\n",
       "      <td>856.05</td>\n",
       "      <td>857.317703</td>\n",
       "      <td>95709</td>\n",
       "      <td>3624</td>\n",
       "      <td>82053020</td>\n",
       "      <td>31041.0</td>\n",
       "      <td>32.43</td>\n",
       "      <td>9.90</td>\n",
       "      <td>-5.50</td>\n",
       "    </tr>\n",
       "    <tr>\n",
       "      <th>2023-03-02</th>\n",
       "      <td>854.30</td>\n",
       "      <td>861.85</td>\n",
       "      <td>851.00</td>\n",
       "      <td>853.95</td>\n",
       "      <td>857.834905</td>\n",
       "      <td>89942</td>\n",
       "      <td>3357</td>\n",
       "      <td>77155387</td>\n",
       "      <td>38971.0</td>\n",
       "      <td>43.33</td>\n",
       "      <td>10.85</td>\n",
       "      <td>-0.35</td>\n",
       "    </tr>\n",
       "    <tr>\n",
       "      <th>2023-03-03</th>\n",
       "      <td>855.05</td>\n",
       "      <td>873.00</td>\n",
       "      <td>849.85</td>\n",
       "      <td>868.80</td>\n",
       "      <td>865.532334</td>\n",
       "      <td>177353</td>\n",
       "      <td>5219</td>\n",
       "      <td>153504756</td>\n",
       "      <td>73785.0</td>\n",
       "      <td>41.60</td>\n",
       "      <td>23.15</td>\n",
       "      <td>13.75</td>\n",
       "    </tr>\n",
       "    <tr>\n",
       "      <th>2023-03-06</th>\n",
       "      <td>873.80</td>\n",
       "      <td>876.50</td>\n",
       "      <td>865.60</td>\n",
       "      <td>867.95</td>\n",
       "      <td>871.256330</td>\n",
       "      <td>165396</td>\n",
       "      <td>7772</td>\n",
       "      <td>144102312</td>\n",
       "      <td>76949.0</td>\n",
       "      <td>46.52</td>\n",
       "      <td>10.90</td>\n",
       "      <td>-5.85</td>\n",
       "    </tr>\n",
       "  </tbody>\n",
       "</table>\n",
       "</div>"
      ],
      "text/plain": [
       "            Open Price  High Price  Low Price  Close Price         WAP  \\\n",
       "Date                                                                     \n",
       "2023-02-28      856.30      857.85     850.05       854.65  853.431155   \n",
       "2023-03-01      861.55      861.90     852.00       856.05  857.317703   \n",
       "2023-03-02      854.30      861.85     851.00       853.95  857.834905   \n",
       "2023-03-03      855.05      873.00     849.85       868.80  865.532334   \n",
       "2023-03-06      873.80      876.50     865.60       867.95  871.256330   \n",
       "\n",
       "            No.of Shares  No. of Trades  Total Turnover (Rs.)  \\\n",
       "Date                                                            \n",
       "2023-02-28        159604           7878             136211026   \n",
       "2023-03-01         95709           3624              82053020   \n",
       "2023-03-02         89942           3357              77155387   \n",
       "2023-03-03        177353           5219             153504756   \n",
       "2023-03-06        165396           7772             144102312   \n",
       "\n",
       "            Deliverable Quantity  % Deli. Qty to Traded Qty  Spread High-Low  \\\n",
       "Date                                                                           \n",
       "2023-02-28               66312.0                      41.55             7.80   \n",
       "2023-03-01               31041.0                      32.43             9.90   \n",
       "2023-03-02               38971.0                      43.33            10.85   \n",
       "2023-03-03               73785.0                      41.60            23.15   \n",
       "2023-03-06               76949.0                      46.52            10.90   \n",
       "\n",
       "            Spread Close-Open  \n",
       "Date                           \n",
       "2023-02-28              -1.65  \n",
       "2023-03-01              -5.50  \n",
       "2023-03-02              -0.35  \n",
       "2023-03-03              13.75  \n",
       "2023-03-06              -5.85  "
      ]
     },
     "execution_count": 21,
     "metadata": {},
     "output_type": "execute_result"
    }
   ],
   "source": [
    "icici_df[-5:]"
   ]
  },
  {
   "cell_type": "markdown",
   "metadata": {},
   "source": [
    "### Select columns"
   ]
  },
  {
   "cell_type": "code",
   "execution_count": 22,
   "metadata": {},
   "outputs": [],
   "source": [
    "icici_df = icici_df[['Close Price', 'Open Price']]"
   ]
  },
  {
   "cell_type": "code",
   "execution_count": 23,
   "metadata": {},
   "outputs": [
    {
     "data": {
      "text/html": [
       "<div>\n",
       "<style scoped>\n",
       "    .dataframe tbody tr th:only-of-type {\n",
       "        vertical-align: middle;\n",
       "    }\n",
       "\n",
       "    .dataframe tbody tr th {\n",
       "        vertical-align: top;\n",
       "    }\n",
       "\n",
       "    .dataframe thead th {\n",
       "        text-align: right;\n",
       "    }\n",
       "</style>\n",
       "<table border=\"1\" class=\"dataframe\">\n",
       "  <thead>\n",
       "    <tr style=\"text-align: right;\">\n",
       "      <th></th>\n",
       "      <th>Close Price</th>\n",
       "      <th>Open Price</th>\n",
       "    </tr>\n",
       "    <tr>\n",
       "      <th>Date</th>\n",
       "      <th></th>\n",
       "      <th></th>\n",
       "    </tr>\n",
       "  </thead>\n",
       "  <tbody>\n",
       "    <tr>\n",
       "      <th>2022-10-03</th>\n",
       "      <td>848.05</td>\n",
       "      <td>860.0</td>\n",
       "    </tr>\n",
       "    <tr>\n",
       "      <th>2022-10-04</th>\n",
       "      <td>867.65</td>\n",
       "      <td>862.0</td>\n",
       "    </tr>\n",
       "    <tr>\n",
       "      <th>2022-10-06</th>\n",
       "      <td>885.35</td>\n",
       "      <td>870.0</td>\n",
       "    </tr>\n",
       "    <tr>\n",
       "      <th>2022-10-07</th>\n",
       "      <td>882.00</td>\n",
       "      <td>876.4</td>\n",
       "    </tr>\n",
       "    <tr>\n",
       "      <th>2022-10-10</th>\n",
       "      <td>881.50</td>\n",
       "      <td>869.1</td>\n",
       "    </tr>\n",
       "  </tbody>\n",
       "</table>\n",
       "</div>"
      ],
      "text/plain": [
       "            Close Price  Open Price\n",
       "Date                               \n",
       "2022-10-03       848.05       860.0\n",
       "2022-10-04       867.65       862.0\n",
       "2022-10-06       885.35       870.0\n",
       "2022-10-07       882.00       876.4\n",
       "2022-10-10       881.50       869.1"
      ]
     },
     "execution_count": 23,
     "metadata": {},
     "output_type": "execute_result"
    }
   ],
   "source": [
    "icici_df[0:5]"
   ]
  },
  {
   "cell_type": "markdown",
   "metadata": {},
   "source": [
    "### Load Yes Bank Data"
   ]
  },
  {
   "cell_type": "code",
   "execution_count": 24,
   "metadata": {},
   "outputs": [
    {
     "data": {
      "text/html": [
       "<div>\n",
       "<style scoped>\n",
       "    .dataframe tbody tr th:only-of-type {\n",
       "        vertical-align: middle;\n",
       "    }\n",
       "\n",
       "    .dataframe tbody tr th {\n",
       "        vertical-align: top;\n",
       "    }\n",
       "\n",
       "    .dataframe thead th {\n",
       "        text-align: right;\n",
       "    }\n",
       "</style>\n",
       "<table border=\"1\" class=\"dataframe\">\n",
       "  <thead>\n",
       "    <tr style=\"text-align: right;\">\n",
       "      <th></th>\n",
       "      <th>Close Price</th>\n",
       "      <th>Open Price</th>\n",
       "    </tr>\n",
       "    <tr>\n",
       "      <th>Date</th>\n",
       "      <th></th>\n",
       "      <th></th>\n",
       "    </tr>\n",
       "  </thead>\n",
       "  <tbody>\n",
       "    <tr>\n",
       "      <th>2022-10-03</th>\n",
       "      <td>15.40</td>\n",
       "      <td>15.65</td>\n",
       "    </tr>\n",
       "    <tr>\n",
       "      <th>2022-10-04</th>\n",
       "      <td>16.20</td>\n",
       "      <td>15.60</td>\n",
       "    </tr>\n",
       "    <tr>\n",
       "      <th>2022-10-06</th>\n",
       "      <td>16.50</td>\n",
       "      <td>16.30</td>\n",
       "    </tr>\n",
       "    <tr>\n",
       "      <th>2022-10-07</th>\n",
       "      <td>16.50</td>\n",
       "      <td>16.65</td>\n",
       "    </tr>\n",
       "    <tr>\n",
       "      <th>2022-10-10</th>\n",
       "      <td>16.45</td>\n",
       "      <td>16.35</td>\n",
       "    </tr>\n",
       "  </tbody>\n",
       "</table>\n",
       "</div>"
      ],
      "text/plain": [
       "            Close Price  Open Price\n",
       "Date                               \n",
       "2022-10-03        15.40       15.65\n",
       "2022-10-04        16.20       15.60\n",
       "2022-10-06        16.50       16.30\n",
       "2022-10-07        16.50       16.65\n",
       "2022-10-10        16.45       16.35"
      ]
     },
     "execution_count": 24,
     "metadata": {},
     "output_type": "execute_result"
    }
   ],
   "source": [
    "# Read the csv file\n",
    "yes_df = pd.read_csv('https://raw.githubusercontent.com/manaranjanp/MLCourseV1/main/Session_1/Yes.csv',\n",
    "                     parse_dates=['Date'] )\n",
    "\n",
    "# Set the time index \n",
    "yes_df = yes_df.set_index(['Date'], drop=True)\n",
    "\n",
    "# Sort the records based on time\n",
    "yes_df.sort_index(ascending = True, inplace=True)\n",
    "\n",
    "# Select only Close and Open Price columns for further analysis\n",
    "yes_df = yes_df[['Close Price', 'Open Price']]\n",
    "\n",
    "# Print Few Records\n",
    "yes_df.head( 5 )"
   ]
  },
  {
   "cell_type": "markdown",
   "metadata": {},
   "source": [
    "### Calculate daily gains\n",
    "\n",
    "\n",
    "- Calculate daily gain or loss in terms of percentage \n",
    "\n",
    "$$ gain = {(Close Price - Open Price) * 100 \\over Open Price} $$\n"
   ]
  },
  {
   "cell_type": "code",
   "execution_count": 25,
   "metadata": {},
   "outputs": [],
   "source": [
    "icici_df[\"gain\"] = ((icici_df['Close Price'] - icici_df['Open Price']) * 100 /\n",
    "                    icici_df['Open Price'])"
   ]
  },
  {
   "cell_type": "code",
   "execution_count": 26,
   "metadata": {},
   "outputs": [
    {
     "data": {
      "text/html": [
       "<div>\n",
       "<style scoped>\n",
       "    .dataframe tbody tr th:only-of-type {\n",
       "        vertical-align: middle;\n",
       "    }\n",
       "\n",
       "    .dataframe tbody tr th {\n",
       "        vertical-align: top;\n",
       "    }\n",
       "\n",
       "    .dataframe thead th {\n",
       "        text-align: right;\n",
       "    }\n",
       "</style>\n",
       "<table border=\"1\" class=\"dataframe\">\n",
       "  <thead>\n",
       "    <tr style=\"text-align: right;\">\n",
       "      <th></th>\n",
       "      <th>Close Price</th>\n",
       "      <th>Open Price</th>\n",
       "      <th>gain</th>\n",
       "    </tr>\n",
       "    <tr>\n",
       "      <th>Date</th>\n",
       "      <th></th>\n",
       "      <th></th>\n",
       "      <th></th>\n",
       "    </tr>\n",
       "  </thead>\n",
       "  <tbody>\n",
       "    <tr>\n",
       "      <th>2022-10-03</th>\n",
       "      <td>848.05</td>\n",
       "      <td>860.0</td>\n",
       "      <td>-1.389535</td>\n",
       "    </tr>\n",
       "    <tr>\n",
       "      <th>2022-10-04</th>\n",
       "      <td>867.65</td>\n",
       "      <td>862.0</td>\n",
       "      <td>0.655452</td>\n",
       "    </tr>\n",
       "    <tr>\n",
       "      <th>2022-10-06</th>\n",
       "      <td>885.35</td>\n",
       "      <td>870.0</td>\n",
       "      <td>1.764368</td>\n",
       "    </tr>\n",
       "    <tr>\n",
       "      <th>2022-10-07</th>\n",
       "      <td>882.00</td>\n",
       "      <td>876.4</td>\n",
       "      <td>0.638978</td>\n",
       "    </tr>\n",
       "    <tr>\n",
       "      <th>2022-10-10</th>\n",
       "      <td>881.50</td>\n",
       "      <td>869.1</td>\n",
       "      <td>1.426763</td>\n",
       "    </tr>\n",
       "  </tbody>\n",
       "</table>\n",
       "</div>"
      ],
      "text/plain": [
       "            Close Price  Open Price      gain\n",
       "Date                                         \n",
       "2022-10-03       848.05       860.0 -1.389535\n",
       "2022-10-04       867.65       862.0  0.655452\n",
       "2022-10-06       885.35       870.0  1.764368\n",
       "2022-10-07       882.00       876.4  0.638978\n",
       "2022-10-10       881.50       869.1  1.426763"
      ]
     },
     "execution_count": 26,
     "metadata": {},
     "output_type": "execute_result"
    }
   ],
   "source": [
    "icici_df.head( 5 )"
   ]
  },
  {
   "cell_type": "code",
   "execution_count": 27,
   "metadata": {},
   "outputs": [],
   "source": [
    "yes_df[\"gain\"] = ((yes_df['Close Price'] - yes_df['Open Price']) * 100 / \n",
    "                  yes_df['Open Price'])"
   ]
  },
  {
   "cell_type": "code",
   "execution_count": 28,
   "metadata": {},
   "outputs": [
    {
     "data": {
      "text/html": [
       "<div>\n",
       "<style scoped>\n",
       "    .dataframe tbody tr th:only-of-type {\n",
       "        vertical-align: middle;\n",
       "    }\n",
       "\n",
       "    .dataframe tbody tr th {\n",
       "        vertical-align: top;\n",
       "    }\n",
       "\n",
       "    .dataframe thead th {\n",
       "        text-align: right;\n",
       "    }\n",
       "</style>\n",
       "<table border=\"1\" class=\"dataframe\">\n",
       "  <thead>\n",
       "    <tr style=\"text-align: right;\">\n",
       "      <th></th>\n",
       "      <th>Close Price</th>\n",
       "      <th>Open Price</th>\n",
       "      <th>gain</th>\n",
       "    </tr>\n",
       "    <tr>\n",
       "      <th>Date</th>\n",
       "      <th></th>\n",
       "      <th></th>\n",
       "      <th></th>\n",
       "    </tr>\n",
       "  </thead>\n",
       "  <tbody>\n",
       "    <tr>\n",
       "      <th>2022-10-03</th>\n",
       "      <td>15.40</td>\n",
       "      <td>15.65</td>\n",
       "      <td>-1.597444</td>\n",
       "    </tr>\n",
       "    <tr>\n",
       "      <th>2022-10-04</th>\n",
       "      <td>16.20</td>\n",
       "      <td>15.60</td>\n",
       "      <td>3.846154</td>\n",
       "    </tr>\n",
       "    <tr>\n",
       "      <th>2022-10-06</th>\n",
       "      <td>16.50</td>\n",
       "      <td>16.30</td>\n",
       "      <td>1.226994</td>\n",
       "    </tr>\n",
       "    <tr>\n",
       "      <th>2022-10-07</th>\n",
       "      <td>16.50</td>\n",
       "      <td>16.65</td>\n",
       "      <td>-0.900901</td>\n",
       "    </tr>\n",
       "    <tr>\n",
       "      <th>2022-10-10</th>\n",
       "      <td>16.45</td>\n",
       "      <td>16.35</td>\n",
       "      <td>0.611621</td>\n",
       "    </tr>\n",
       "  </tbody>\n",
       "</table>\n",
       "</div>"
      ],
      "text/plain": [
       "            Close Price  Open Price      gain\n",
       "Date                                         \n",
       "2022-10-03        15.40       15.65 -1.597444\n",
       "2022-10-04        16.20       15.60  3.846154\n",
       "2022-10-06        16.50       16.30  1.226994\n",
       "2022-10-07        16.50       16.65 -0.900901\n",
       "2022-10-10        16.45       16.35  0.611621"
      ]
     },
     "execution_count": 28,
     "metadata": {},
     "output_type": "execute_result"
    }
   ],
   "source": [
    "yes_df[0:5]"
   ]
  },
  {
   "cell_type": "markdown",
   "metadata": {},
   "source": [
    "## Plotting Historical Price Trends "
   ]
  },
  {
   "cell_type": "markdown",
   "metadata": {},
   "source": [
    "For plotting the price trends we will plot the close price on time scale.\n",
    "The figure size can be set using figsize\n",
    "\n",
    "**figsize(width, height)**\n",
    "    - Width, height in inches.\n",
    "\n",
    "https://matplotlib.org/stable/api/_as_gen/matplotlib.pyplot.figure.html"
   ]
  },
  {
   "cell_type": "code",
   "execution_count": 29,
   "metadata": {},
   "outputs": [
    {
     "data": {
      "image/png": "[encoded data removed]",
      "text/plain": [
       "<Figure size 864x432 with 1 Axes>"
      ]
     },
     "metadata": {
      "needs_background": "light"
     },
     "output_type": "display_data"
    }
   ],
   "source": [
    "plt.figure(figsize = (12, 6))\n",
    "plt.plot(icici_df['Close Price'], color = 'r');"
   ]
  },
  {
   "cell_type": "code",
   "execution_count": 30,
   "metadata": {},
   "outputs": [
    {
     "data": {
      "image/png": "[encoded data removed]",
      "text/plain": [
       "<Figure size 864x432 with 1 Axes>"
      ]
     },
     "metadata": {
      "needs_background": "light"
     },
     "output_type": "display_data"
    }
   ],
   "source": [
    "plt.figure(figsize = (12, 6))\n",
    "plt.plot(yes_df['Close Price'], color = 'r');"
   ]
  },
  {
   "cell_type": "markdown",
   "metadata": {},
   "source": [
    "- From December 2022, the stock prices have fallen and reached the october 2022 levels.\n",
    "\n",
    "- But our focus will be on daily gains here .e.g how much gain or loss if remain invested for a day."
   ]
  },
  {
   "cell_type": "markdown",
   "metadata": {},
   "source": [
    "## Plotting Daily Gains\n",
    "\n",
    "How much the stock price changes every day. Is there any pattern in the change of price?"
   ]
  },
  {
   "cell_type": "code",
   "execution_count": 31,
   "metadata": {},
   "outputs": [
    {
     "data": {
      "image/png": "[encoded data removed]",
      "text/plain": [
       "<Figure size 864x288 with 1 Axes>"
      ]
     },
     "metadata": {
      "needs_background": "light"
     },
     "output_type": "display_data"
    }
   ],
   "source": [
    "plt.figure(figsize = (12, 4))\n",
    "plt.plot( icici_df.gain, 'r' );"
   ]
  },
  {
   "cell_type": "markdown",
   "metadata": {},
   "source": []
  },
  {
   "cell_type": "code",
   "execution_count": 32,
   "metadata": {},
   "outputs": [
    {
     "data": {
      "image/png": "[encoded data removed]",
      "text/plain": [
       "<Figure size 864x288 with 1 Axes>"
      ]
     },
     "metadata": {
      "needs_background": "light"
     },
     "output_type": "display_data"
    }
   ],
   "source": [
    "plt.figure(figsize = (12, 4))\n",
    "plt.plot( yes_df.gain, 'b' );"
   ]
  },
  {
   "cell_type": "markdown",
   "metadata": {},
   "source": [
    "### Calculating min and max gains"
   ]
  },
  {
   "cell_type": "code",
   "execution_count": 33,
   "metadata": {},
   "outputs": [
    {
     "data": {
      "text/plain": [
       "(-3.31545587518284, 2.7010167799887834)"
      ]
     },
     "execution_count": 33,
     "metadata": {},
     "output_type": "execute_result"
    }
   ],
   "source": [
    "icici_df.gain.min(), icici_df.gain.max()"
   ]
  },
  {
   "cell_type": "code",
   "execution_count": 34,
   "metadata": {},
   "outputs": [
    {
     "data": {
      "text/plain": [
       "(-8.488612836438913, 12.607449856733522)"
      ]
     },
     "execution_count": 34,
     "metadata": {},
     "output_type": "execute_result"
    }
   ],
   "source": [
    "yes_df.gain.min(), yes_df.gain.max()"
   ]
  },
  {
   "cell_type": "markdown",
   "metadata": {},
   "source": [
    "### What is stock volatility?\n",
    "- Volatility is the rate at which the price of a stock increases or decreases over a particular period.\n",
    "\n",
    "- Higher stock price volatility often means higher risk and helps an investor to estimate the fluctuations that may happen in the future.\n",
    "\n",
    "Source: [Stock Volatility](https://www.fidelity.com.sg/beginners/your-guide-to-stock-investing/understanding-stock-market-volatility-and-how-it-could-help-you#:~:text=Volatility%20is%20the%20standard%20deviation,said%20to%20have%20high%20volatility.)"
   ]
  },
  {
   "cell_type": "markdown",
   "metadata": {},
   "source": [
    "### Plotting frequency of various gain values\n",
    "\n",
    "- How many times (in terms of frequency) we are observing different values of gain or loss? \n",
    "    - Frequenecy of -2% to -1% loss \n",
    "    - Frequenecy of -1% to 0% loss \n",
    "    - Frequenecy of 0% to 1% gain \n",
    "    - Frequenecy of 1% to 2% gain\n",
    "    - and so on\n",
    "\n",
    "- Do we observe very high gain or loss very frequently or this is a rare event?\n",
    "\n",
    "- A **histogram** can show the frequency of data items in successive numerical intervals of equal size. "
   ]
  },
  {
   "cell_type": "code",
   "execution_count": 39,
   "metadata": {},
   "outputs": [
    {
     "data": {
      "image/png": "[encoded data removed]",
      "text/plain": [
       "<Figure size 864x288 with 1 Axes>"
      ]
     },
     "metadata": {
      "needs_background": "light"
     },
     "output_type": "display_data"
    }
   ],
   "source": [
    "plt.figure(figsize = (12, 4))\n",
    "plt.hist(icici_df.gain);"
   ]
  },
  {
   "cell_type": "markdown",
   "metadata": {},
   "source": [
    "- The bin intervals are calculated by dividing the difference of max and min value by 10. By default it creates 10 equal sized bins.\n",
    "- We can create our own bins to make the histogram more readable.\n",
    "- Create bins from -4.0 to +4.0 with bin size of 1.0 and show frequencey for each bin"
   ]
  },
  {
   "cell_type": "code",
   "execution_count": 40,
   "metadata": {},
   "outputs": [
    {
     "data": {
      "image/png": "[encoded data removed]",
      "text/plain": [
       "<Figure size 864x288 with 1 Axes>"
      ]
     },
     "metadata": {
      "needs_background": "light"
     },
     "output_type": "display_data"
    }
   ],
   "source": [
    "plt.figure(figsize = (12, 4))\n",
    "plt.hist(icici_df.gain, bins = range(-4, 4, 1));"
   ]
  },
  {
   "cell_type": "markdown",
   "metadata": {},
   "source": [
    "#### Note:\n",
    "\n",
    "- What is the probability of the stock making a gain of (0% to 1%)?\n",
    "- What is the probability of the stock making a loss of (0% to -1%)?"
   ]
  },
  {
   "cell_type": "code",
   "execution_count": 42,
   "metadata": {},
   "outputs": [
    {
     "data": {
      "image/png": "[encoded data removed]",
      "text/plain": [
       "<Figure size 864x432 with 1 Axes>"
      ]
     },
     "metadata": {
      "needs_background": "light"
     },
     "output_type": "display_data"
    }
   ],
   "source": [
    "plt.figure(figsize = (12, 6))\n",
    "plt.hist(yes_df.gain, bins = range(-9, 13, 1));\n",
    "plt.xticks(range(-9, 13, 1));"
   ]
  },
  {
   "cell_type": "markdown",
   "metadata": {},
   "source": [
    "### Plotting Distribution Plots\n",
    "\n",
    "In the probability distribution curve, the x-axis indicates the possible values and y-axis indicates the probability of that value occuring."
   ]
  },
  {
   "cell_type": "code",
   "execution_count": 43,
   "metadata": {},
   "outputs": [
    {
     "data": {
      "image/png": "[encoded data removed]",
      "text/plain": [
       "<Figure size 432x288 with 1 Axes>"
      ]
     },
     "metadata": {
      "needs_background": "light"
     },
     "output_type": "display_data"
    }
   ],
   "source": [
    "sn.kdeplot(icici_df.gain);"
   ]
  },
  {
   "cell_type": "code",
   "execution_count": 44,
   "metadata": {},
   "outputs": [
    {
     "data": {
      "image/png": "[encoded data removed]",
      "text/plain": [
       "<Figure size 864x360 with 1 Axes>"
      ]
     },
     "metadata": {
      "needs_background": "light"
     },
     "output_type": "display_data"
    }
   ],
   "source": [
    "plt.figure(figsize = (12, 5))\n",
    "sn.kdeplot(icici_df.gain, label = 'ICICI Bank' );\n",
    "sn.kdeplot(yes_df.gain, label = 'Yes Bank' );\n",
    "plt.title(\"Volatility of Stocks\")\n",
    "plt.legend();"
   ]
  },
  {
   "cell_type": "markdown",
   "metadata": {},
   "source": [
    "#### Note:\n",
    "   - Yes Bank has higher dispersion than ICICI Bank, which indicates it is higher volatile.\n",
    "   - But can we measure volatility?"
   ]
  },
  {
   "cell_type": "markdown",
   "metadata": {},
   "source": [
    "## Probability Distributions\n",
    "\n",
    "- **Probability distribution**  describes the probabilities of occurrence of different possible outcomes.\n",
    "\n",
    "- It describes all the possible values and likelihoods that a random variable can take within a given range. This range will be bounded between the minimum and maximum possible values.\n",
    "\n",
    "- There are several probability distributions:\n",
    "\n",
    "    - Normal Distribution\n",
    "    - Binnomial Distribution\n",
    "    - Exponential Distribution\n",
    "    - Poisson Distribution\n",
    "\n",
    "- Probability plots is the most widely used approach to determine whether your data follow a particular distribution. This process is simple to do visually.\n",
    "\n",
    "[Examples of different distributions](https://statdist.com/)"
   ]
  },
  {
   "cell_type": "markdown",
   "metadata": {},
   "source": [
    "## What is Normal Distribution?\n",
    "\n",
    "The normal distribution, also known as the Gaussian distribution, is the most important probability distribution in statistics for independent, random variables. Most people recognize its familiar bell-shaped curve in statistical reports.\n",
    "\n",
    "- The normal distribution is a continuous probability distribution that is symmetrical around its mean, most of the observations cluster around the central peak, and the probabilities for values further away from the mean taper off equally in both directions. \n",
    "- Extreme values in both tails of the distribution are similarly unlikely. While the normal distribution is symmetrical, not all symmetrical distributions are normal\n",
    "\n",
    "Source: https://statisticsbyjim.com/basics/normal-distribution/\n",
    "\n",
    "References:\n",
    "\n",
    "https://en.wikipedia.org/wiki/Normal_distribution\n",
    "\n",
    "https://courses.lumenlearning.com/math4libarts/chapter/understanding-normal-distribution/\n",
    "\n",
    "<img src=\"normal.png\" alt=\"Normal Distribution\" width=\"500\"/>\n",
    "\n",
    "Source: https://en.wikipedia.org/wiki/Normal_distribution"
   ]
  },
  {
   "cell_type": "markdown",
   "metadata": {},
   "source": [
    "### Calculate Mean, Standard Deviation of Daily Returns for ICICI Bank\n",
    "\n",
    "The normal distribution is parameterized by two parameters: the mean of the distribution $\\mu$ and the variance $\\sigma^2$. \n",
    "\n",
    "The sample mean of a normal distribution is given by, \n",
    "\n",
    "$\\bar x = \\frac{1}{n}\\sum_{i=1}^{n}x_{i}$\n",
    "\n",
    "Variance is given by, \n",
    "\n",
    "$\\sigma^2 = \\frac{1}{n}\\sqrt \\sum_{i=1}^{n}(x_{i}-\\bar x)^2$. \n",
    "\n",
    "And standard deviation is square root of variance and is denoted by $\\sigma$.\n",
    "\n",
    "- In investing, standard deviation is used as an indicator of market volatility and thus of risk. The more unpredictable the price action and the wider the range, the greater the risk."
   ]
  },
  {
   "cell_type": "code",
   "execution_count": 45,
   "metadata": {},
   "outputs": [
    {
     "data": {
      "text/plain": [
       "-0.08787483804793535"
      ]
     },
     "execution_count": 45,
     "metadata": {},
     "output_type": "execute_result"
    }
   ],
   "source": [
    "icici_df.gain.mean()"
   ]
  },
  {
   "cell_type": "code",
   "execution_count": 46,
   "metadata": {},
   "outputs": [
    {
     "data": {
      "text/plain": [
       "1.1200765129090908"
      ]
     },
     "execution_count": 46,
     "metadata": {},
     "output_type": "execute_result"
    }
   ],
   "source": [
    "icici_df.gain.std()"
   ]
  },
  {
   "cell_type": "markdown",
   "metadata": {},
   "source": [
    "### Confidence Interval\n",
    "\n",
    "- Confidence interval is a range of values, bounded above and below the mean value.\n",
    "\n",
    "- It is the probability that a parameter will fall between a set of values for a certain proportion of times. \n",
    "\n",
    "- Most often used confidence intervals are either 90% or 95% or 99%."
   ]
  },
  {
   "cell_type": "code",
   "execution_count": 47,
   "metadata": {},
   "outputs": [],
   "source": [
    "from scipy import stats"
   ]
  },
  {
   "cell_type": "code",
   "execution_count": 48,
   "metadata": {},
   "outputs": [],
   "source": [
    "icici_ci_90 = stats.norm.interval(0.90,\n",
    "                                  loc=icici_df.gain.mean(),\n",
    "                                  scale=icici_df.gain.std())"
   ]
  },
  {
   "cell_type": "code",
   "execution_count": 49,
   "metadata": {},
   "outputs": [
    {
     "data": {
      "text/plain": [
       "(-1.9302367527696116, 1.7544870766737402)"
      ]
     },
     "execution_count": 49,
     "metadata": {},
     "output_type": "execute_result"
    }
   ],
   "source": [
    "icici_ci_90"
   ]
  },
  {
   "cell_type": "code",
   "execution_count": 50,
   "metadata": {},
   "outputs": [
    {
     "data": {
      "text/html": [
       "<div>\n",
       "<style scoped>\n",
       "    .dataframe tbody tr th:only-of-type {\n",
       "        vertical-align: middle;\n",
       "    }\n",
       "\n",
       "    .dataframe tbody tr th {\n",
       "        vertical-align: top;\n",
       "    }\n",
       "\n",
       "    .dataframe thead th {\n",
       "        text-align: right;\n",
       "    }\n",
       "</style>\n",
       "<table border=\"1\" class=\"dataframe\">\n",
       "  <thead>\n",
       "    <tr style=\"text-align: right;\">\n",
       "      <th></th>\n",
       "      <th>Close Price</th>\n",
       "      <th>Open Price</th>\n",
       "      <th>gain</th>\n",
       "    </tr>\n",
       "    <tr>\n",
       "      <th>Date</th>\n",
       "      <th></th>\n",
       "      <th></th>\n",
       "      <th></th>\n",
       "    </tr>\n",
       "  </thead>\n",
       "  <tbody>\n",
       "    <tr>\n",
       "      <th>2022-12-21</th>\n",
       "      <td>892.35</td>\n",
       "      <td>922.95</td>\n",
       "      <td>-3.315456</td>\n",
       "    </tr>\n",
       "    <tr>\n",
       "      <th>2023-01-05</th>\n",
       "      <td>879.00</td>\n",
       "      <td>902.00</td>\n",
       "      <td>-2.549889</td>\n",
       "    </tr>\n",
       "    <tr>\n",
       "      <th>2023-01-25</th>\n",
       "      <td>855.30</td>\n",
       "      <td>873.00</td>\n",
       "      <td>-2.027491</td>\n",
       "    </tr>\n",
       "    <tr>\n",
       "      <th>2023-01-27</th>\n",
       "      <td>817.55</td>\n",
       "      <td>841.00</td>\n",
       "      <td>-2.788347</td>\n",
       "    </tr>\n",
       "  </tbody>\n",
       "</table>\n",
       "</div>"
      ],
      "text/plain": [
       "            Close Price  Open Price      gain\n",
       "Date                                         \n",
       "2022-12-21       892.35      922.95 -3.315456\n",
       "2023-01-05       879.00      902.00 -2.549889\n",
       "2023-01-25       855.30      873.00 -2.027491\n",
       "2023-01-27       817.55      841.00 -2.788347"
      ]
     },
     "execution_count": 50,
     "metadata": {},
     "output_type": "execute_result"
    }
   ],
   "source": [
    "icici_df[icici_df.gain < icici_ci_90[0]]"
   ]
  },
  {
   "cell_type": "markdown",
   "metadata": {},
   "source": [
    "### VaR - Value At Risk"
   ]
  },
  {
   "cell_type": "markdown",
   "metadata": {},
   "source": [
    "- Value at Risk (VaR) is a statistic that is used in risk management to predict the greatest possible losses over a specific time frame.\n",
    "\n",
    "<img src=\"var_investopedia.png\" alt=\"Normal Distribution\" width=\"500\"/>\n",
    "\n",
    "Source: https://en.wikipedia.org/wiki/Normal_distribution\n",
    "\n",
    "- What is the value at risk if invested one lakh?"
   ]
  },
  {
   "cell_type": "code",
   "execution_count": 51,
   "metadata": {},
   "outputs": [],
   "source": [
    "invest_amt = 100000"
   ]
  },
  {
   "cell_type": "code",
   "execution_count": 52,
   "metadata": {},
   "outputs": [
    {
     "data": {
      "text/plain": [
       "100000"
      ]
     },
     "execution_count": 52,
     "metadata": {},
     "output_type": "execute_result"
    }
   ],
   "source": [
    "invest_amt"
   ]
  },
  {
   "cell_type": "code",
   "execution_count": 53,
   "metadata": {},
   "outputs": [
    {
     "data": {
      "text/plain": [
       "-1.9302367527696116"
      ]
     },
     "execution_count": 53,
     "metadata": {},
     "output_type": "execute_result"
    }
   ],
   "source": [
    "icici_ci_90[0]"
   ]
  },
  {
   "cell_type": "code",
   "execution_count": 54,
   "metadata": {},
   "outputs": [],
   "source": [
    "icici_var = invest_amt * icici_ci_90[0] / 100"
   ]
  },
  {
   "cell_type": "code",
   "execution_count": 55,
   "metadata": {},
   "outputs": [
    {
     "data": {
      "text/plain": [
       "-1930.2367527696115"
      ]
     },
     "execution_count": 55,
     "metadata": {},
     "output_type": "execute_result"
    }
   ],
   "source": [
    "icici_var"
   ]
  },
  {
   "cell_type": "markdown",
   "metadata": {},
   "source": [
    "#### Note: \n",
    "\n",
    "- Value at risk for 95% CI is 1930.23 rupees, if invested one lakh rupees for day trading in ICICI Bank."
   ]
  },
  {
   "cell_type": "markdown",
   "metadata": {},
   "source": [
    "https://www.moneycontrol.com/news/business/markets/december-21-share-market-live-updates-stock-market-today-december-latest-news-bse-nse-sensex-nifty-covid-coronavirus-9739291.html"
   ]
  },
  {
   "cell_type": "markdown",
   "metadata": {},
   "source": [
    "### Are there any Outlier Events?\n",
    "\n",
    "- Values that are greater than +3 standard deviations from the mean, or less than -3 standard deviations are considered as outliers."
   ]
  },
  {
   "cell_type": "code",
   "execution_count": 56,
   "metadata": {},
   "outputs": [],
   "source": [
    "icici_ci_99_7 = stats.norm.interval(0.997,\n",
    "                                    loc=icici_df.gain.mean(),\n",
    "                                    scale=icici_df.gain.std())"
   ]
  },
  {
   "cell_type": "code",
   "execution_count": 57,
   "metadata": {},
   "outputs": [
    {
     "data": {
      "text/plain": [
       "(-3.4119683846928197, 3.2362187085969363)"
      ]
     },
     "execution_count": 57,
     "metadata": {},
     "output_type": "execute_result"
    }
   ],
   "source": [
    "icici_ci_99_7"
   ]
  },
  {
   "cell_type": "code",
   "execution_count": 58,
   "metadata": {},
   "outputs": [
    {
     "data": {
      "text/html": [
       "<div>\n",
       "<style scoped>\n",
       "    .dataframe tbody tr th:only-of-type {\n",
       "        vertical-align: middle;\n",
       "    }\n",
       "\n",
       "    .dataframe tbody tr th {\n",
       "        vertical-align: top;\n",
       "    }\n",
       "\n",
       "    .dataframe thead th {\n",
       "        text-align: right;\n",
       "    }\n",
       "</style>\n",
       "<table border=\"1\" class=\"dataframe\">\n",
       "  <thead>\n",
       "    <tr style=\"text-align: right;\">\n",
       "      <th></th>\n",
       "      <th>Close Price</th>\n",
       "      <th>Open Price</th>\n",
       "      <th>gain</th>\n",
       "    </tr>\n",
       "    <tr>\n",
       "      <th>Date</th>\n",
       "      <th></th>\n",
       "      <th></th>\n",
       "      <th></th>\n",
       "    </tr>\n",
       "  </thead>\n",
       "  <tbody>\n",
       "  </tbody>\n",
       "</table>\n",
       "</div>"
      ],
      "text/plain": [
       "Empty DataFrame\n",
       "Columns: [Close Price, Open Price, gain]\n",
       "Index: []"
      ]
     },
     "execution_count": 58,
     "metadata": {},
     "output_type": "execute_result"
    }
   ],
   "source": [
    "icici_df[icici_df.gain > icici_ci_99_7[1]]"
   ]
  },
  {
   "cell_type": "markdown",
   "metadata": {},
   "source": [
    "### Yes Bank "
   ]
  },
  {
   "cell_type": "code",
   "execution_count": 59,
   "metadata": {},
   "outputs": [
    {
     "data": {
      "text/plain": [
       "0.07874271698742263"
      ]
     },
     "execution_count": 59,
     "metadata": {},
     "output_type": "execute_result"
    }
   ],
   "source": [
    "yes_df.gain.mean()"
   ]
  },
  {
   "cell_type": "code",
   "execution_count": 60,
   "metadata": {},
   "outputs": [
    {
     "data": {
      "text/plain": [
       "3.0025040387657396"
      ]
     },
     "execution_count": 60,
     "metadata": {},
     "output_type": "execute_result"
    }
   ],
   "source": [
    "yes_df.gain.std()"
   ]
  },
  {
   "cell_type": "code",
   "execution_count": 61,
   "metadata": {},
   "outputs": [],
   "source": [
    "yes_ci_90 = stats.norm.interval(0.90,\n",
    "                                loc=yes_df.gain.mean(),\n",
    "                                scale=yes_df.gain.std())"
   ]
  },
  {
   "cell_type": "code",
   "execution_count": 62,
   "metadata": {},
   "outputs": [
    {
     "data": {
      "text/plain": [
       "(-4.85993694111285, 5.017422375087693)"
      ]
     },
     "execution_count": 62,
     "metadata": {},
     "output_type": "execute_result"
    }
   ],
   "source": [
    "yes_ci_90"
   ]
  },
  {
   "cell_type": "markdown",
   "metadata": {},
   "source": [
    "- Yes Bank higher risk of higher loss. But it also provides opportunity for higher gains.\n",
    "\n",
    "- Volatility is not always a bad thing, as it can sometimes provide entry points from which investors can take advantage."
   ]
  },
  {
   "cell_type": "markdown",
   "metadata": {},
   "source": [
    "## Cumulative Distribution Function"
   ]
  },
  {
   "cell_type": "code",
   "execution_count": 63,
   "metadata": {},
   "outputs": [
    {
     "data": {
      "image/png": "[encoded data removed]",
      "text/plain": [
       "<Figure size 864x360 with 1 Axes>"
      ]
     },
     "metadata": {
      "needs_background": "light"
     },
     "output_type": "display_data"
    }
   ],
   "source": [
    "plt.figure(figsize = (12, 5))\n",
    "sn.kdeplot(yes_df.gain, label = 'Yes Bank' );\n",
    "plt.legend();"
   ]
  },
  {
   "cell_type": "markdown",
   "metadata": {},
   "source": [
    "#### CDF - Cummulative Distribution Function\n",
    "\n",
    "- CDF is the probability that a random variable (let X) will take a value less than or equal to the random variable (X).\n",
    "\n",
    "- For example: The probability that the stock will make a loss of -3% or more is the sum of all probabilities of the stocks making -3.0%, -3.1%, -3.2% and so on until highest loss it has encountered historically.\n",
    "\n",
    "$$\\int_{-\\infty}^{-3} p(x) \\; dx  $$\n",
    "\n",
    "<img src=\"cdf.png\" alt=\"Cummulative Distribution Function\" width=\"400\"/>"
   ]
  },
  {
   "cell_type": "markdown",
   "metadata": {},
   "source": [
    "## What is the probability that the stock will make a loss of 3% or more?"
   ]
  },
  {
   "cell_type": "markdown",
   "metadata": {},
   "source": [
    "### ICICI Bank - probability of a loss of 3% or more"
   ]
  },
  {
   "cell_type": "code",
   "execution_count": 64,
   "metadata": {},
   "outputs": [
    {
     "data": {
      "text/plain": [
       "0.004662082715571748"
      ]
     },
     "execution_count": 64,
     "metadata": {},
     "output_type": "execute_result"
    }
   ],
   "source": [
    "stats.norm.cdf( -3.0,\n",
    "               loc=icici_df.gain.mean(),\n",
    "               scale=icici_df.gain.std())"
   ]
  },
  {
   "cell_type": "markdown",
   "metadata": {},
   "source": [
    "### Yes Bank - probability of a loss of 3% or more"
   ]
  },
  {
   "cell_type": "code",
   "execution_count": 65,
   "metadata": {},
   "outputs": [
    {
     "data": {
      "text/plain": [
       "0.24436306062835444"
      ]
     },
     "execution_count": 65,
     "metadata": {},
     "output_type": "execute_result"
    }
   ],
   "source": [
    "stats.norm.cdf( -2.0,\n",
    "               loc=yes_df.gain.mean(),\n",
    "               scale=yes_df.gain.std())"
   ]
  },
  {
   "cell_type": "markdown",
   "metadata": {},
   "source": [
    "#### Note:\n",
    "\n",
    "- Yes Bank higher probablity compared to ICICI Bank."
   ]
  },
  {
   "cell_type": "markdown",
   "metadata": {},
   "source": [
    "## What is the probability that the stock will make a gain of 3% or more?"
   ]
  },
  {
   "cell_type": "markdown",
   "metadata": {},
   "source": [
    "### ICICI Bank - probability of a gain of 3%"
   ]
  },
  {
   "cell_type": "code",
   "execution_count": 66,
   "metadata": {},
   "outputs": [
    {
     "data": {
      "text/plain": [
       "0.0029181203539810907"
      ]
     },
     "execution_count": 66,
     "metadata": {},
     "output_type": "execute_result"
    }
   ],
   "source": [
    "1 - stats.norm.cdf(3.0,\n",
    "                   loc=icici_df.gain.mean(),\n",
    "                   scale=icici_df.gain.std())               "
   ]
  },
  {
   "cell_type": "markdown",
   "metadata": {},
   "source": [
    "### Yes Bank - probability of a gain of 3%"
   ]
  },
  {
   "cell_type": "code",
   "execution_count": 67,
   "metadata": {},
   "outputs": [
    {
     "data": {
      "text/plain": [
       "0.16529147856226234"
      ]
     },
     "execution_count": 67,
     "metadata": {},
     "output_type": "execute_result"
    }
   ],
   "source": [
    "1 - stats.norm.cdf(3.0,\n",
    "                   loc=yes_df.gain.mean(),\n",
    "                   scale=yes_df.gain.std())               "
   ]
  },
  {
   "cell_type": "markdown",
   "metadata": {},
   "source": [
    "#### Note:\n",
    "- Yes Bank has 16% probability of making a gain of 3% or more."
   ]
  },
  {
   "cell_type": "markdown",
   "metadata": {},
   "source": [
    "## Ex1: Participant Exercise\n",
    "\n",
    "1. Download the daily stock price of four or five randomly selected stocks. The stocks can belong to one sector.\n",
    "\n",
    "2. Find out the value at risk (Var) of each stock at 95%.\n",
    "\n",
    "3. Plot the daily gain or loss of all the stocks in one plot.\n",
    "\n",
    "4. Find out the probability of making 4% gain in each of the stock."
   ]
  }
 ],
 "metadata": {
  "anaconda-cloud": {},
  "kernelspec": {
   "display_name": "Python 3",
   "language": "python",
   "name": "python3"
  },
  "language_info": {
   "codemirror_mode": {
    "name": "ipython",
    "version": 3
   },
   "file_extension": ".py",
   "mimetype": "text/x-python",
   "name": "python",
   "nbconvert_exporter": "python",
   "pygments_lexer": "ipython3",
   "version": "3.8.3"
  }
 },
 "nbformat": 4,
 "nbformat_minor": 1
}
