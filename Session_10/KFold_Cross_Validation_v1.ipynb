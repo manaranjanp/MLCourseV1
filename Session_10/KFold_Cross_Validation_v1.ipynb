{
 "cells": [
  {
   "cell_type": "markdown",
   "metadata": {
    "id": "-HoZzUgtw217"
   },
   "source": [
    "# KFold Cross Validation and Hyperparameter Tuning\n",
    "\n",
    "**Author:** Manaranjan Pradhan</br>\n",
    "**Email ID:** manaranjan@gmail.com</br>\n",
    "**LinkedIn:** https://www.linkedin.com/in/manaranjanpradhan/"
   ]
  },
  {
   "cell_type": "markdown",
   "metadata": {
    "id": "BJ84YzgTw21_"
   },
   "source": [
    "## Load Dataset\n",
    "\n",
    "Loading the used car resale price dataset."
   ]
  },
  {
   "cell_type": "code",
   "execution_count": 1,
   "metadata": {
    "executionInfo": {
     "elapsed": 568,
     "status": "ok",
     "timestamp": 1666335322858,
     "user": {
      "displayName": "MANARANJAN PRADHAN",
      "userId": "03885802779803335284"
     },
     "user_tz": -330
    },
    "id": "G5L_CTj3w21_"
   },
   "outputs": [],
   "source": [
    "import pandas as pd\n",
    "import numpy as np\n",
    "import matplotlib.pyplot as plt\n",
    "import seaborn as sn"
   ]
  },
  {
   "cell_type": "code",
   "execution_count": 2,
   "metadata": {
    "executionInfo": {
     "elapsed": 1154,
     "status": "ok",
     "timestamp": 1666335324433,
     "user": {
      "displayName": "MANARANJAN PRADHAN",
      "userId": "03885802779803335284"
     },
     "user_tz": -330
    },
    "id": "Eq48r_ddw22C"
   },
   "outputs": [],
   "source": [
    "cars_df = pd.read_csv( \"final_cars_maruti.csv\" )"
   ]
  },
  {
   "cell_type": "code",
   "execution_count": 3,
   "metadata": {
    "colab": {
     "base_uri": "https://localhost:8080/",
     "height": 206
    },
    "executionInfo": {
     "elapsed": 8,
     "status": "ok",
     "timestamp": 1666335326581,
     "user": {
      "displayName": "MANARANJAN PRADHAN",
      "userId": "03885802779803335284"
     },
     "user_tz": -330
    },
    "id": "2w3n5IPYw22C",
    "outputId": "40b8e6b8-718e-41f2-bd01-cc8293265764"
   },
   "outputs": [
    {
     "data": {
      "text/html": [
       "<div>\n",
       "<style scoped>\n",
       "    .dataframe tbody tr th:only-of-type {\n",
       "        vertical-align: middle;\n",
       "    }\n",
       "\n",
       "    .dataframe tbody tr th {\n",
       "        vertical-align: top;\n",
       "    }\n",
       "\n",
       "    .dataframe thead th {\n",
       "        text-align: right;\n",
       "    }\n",
       "</style>\n",
       "<table border=\"1\" class=\"dataframe\">\n",
       "  <thead>\n",
       "    <tr style=\"text-align: right;\">\n",
       "      <th></th>\n",
       "      <th>Location</th>\n",
       "      <th>Fuel_Type</th>\n",
       "      <th>Transmission</th>\n",
       "      <th>Owner_Type</th>\n",
       "      <th>Seats</th>\n",
       "      <th>Price</th>\n",
       "      <th>Age</th>\n",
       "      <th>Model</th>\n",
       "      <th>Mileage</th>\n",
       "      <th>Power</th>\n",
       "      <th>KM_Driven</th>\n",
       "    </tr>\n",
       "  </thead>\n",
       "  <tbody>\n",
       "    <tr>\n",
       "      <th>186</th>\n",
       "      <td>Pune</td>\n",
       "      <td>Petrol</td>\n",
       "      <td>Manual</td>\n",
       "      <td>First</td>\n",
       "      <td>5</td>\n",
       "      <td>4.65</td>\n",
       "      <td>7</td>\n",
       "      <td>swift</td>\n",
       "      <td>18.60</td>\n",
       "      <td>85.80</td>\n",
       "      <td>32</td>\n",
       "    </tr>\n",
       "    <tr>\n",
       "      <th>965</th>\n",
       "      <td>Coimbatore</td>\n",
       "      <td>Petrol</td>\n",
       "      <td>Manual</td>\n",
       "      <td>First</td>\n",
       "      <td>5</td>\n",
       "      <td>4.11</td>\n",
       "      <td>1</td>\n",
       "      <td>omni</td>\n",
       "      <td>14.00</td>\n",
       "      <td>35.00</td>\n",
       "      <td>4</td>\n",
       "    </tr>\n",
       "    <tr>\n",
       "      <th>585</th>\n",
       "      <td>Coimbatore</td>\n",
       "      <td>Petrol</td>\n",
       "      <td>Automatic</td>\n",
       "      <td>First</td>\n",
       "      <td>5</td>\n",
       "      <td>6.93</td>\n",
       "      <td>3</td>\n",
       "      <td>swift</td>\n",
       "      <td>18.50</td>\n",
       "      <td>83.14</td>\n",
       "      <td>46</td>\n",
       "    </tr>\n",
       "    <tr>\n",
       "      <th>582</th>\n",
       "      <td>Ahmedabad</td>\n",
       "      <td>Diesel</td>\n",
       "      <td>Manual</td>\n",
       "      <td>First</td>\n",
       "      <td>5</td>\n",
       "      <td>6.25</td>\n",
       "      <td>5</td>\n",
       "      <td>ciaz</td>\n",
       "      <td>28.09</td>\n",
       "      <td>88.50</td>\n",
       "      <td>52</td>\n",
       "    </tr>\n",
       "    <tr>\n",
       "      <th>398</th>\n",
       "      <td>Kochi</td>\n",
       "      <td>Petrol</td>\n",
       "      <td>Automatic</td>\n",
       "      <td>First</td>\n",
       "      <td>5</td>\n",
       "      <td>7.22</td>\n",
       "      <td>3</td>\n",
       "      <td>baleno</td>\n",
       "      <td>21.40</td>\n",
       "      <td>83.10</td>\n",
       "      <td>36</td>\n",
       "    </tr>\n",
       "  </tbody>\n",
       "</table>\n",
       "</div>"
      ],
      "text/plain": [
       "       Location Fuel_Type Transmission Owner_Type  Seats  Price  Age   Model  \\\n",
       "186        Pune    Petrol       Manual      First      5   4.65    7   swift   \n",
       "965  Coimbatore    Petrol       Manual      First      5   4.11    1    omni   \n",
       "585  Coimbatore    Petrol    Automatic      First      5   6.93    3   swift   \n",
       "582   Ahmedabad    Diesel       Manual      First      5   6.25    5    ciaz   \n",
       "398       Kochi    Petrol    Automatic      First      5   7.22    3  baleno   \n",
       "\n",
       "     Mileage  Power  KM_Driven  \n",
       "186    18.60  85.80         32  \n",
       "965    14.00  35.00          4  \n",
       "585    18.50  83.14         46  \n",
       "582    28.09  88.50         52  \n",
       "398    21.40  83.10         36  "
      ]
     },
     "execution_count": 3,
     "metadata": {},
     "output_type": "execute_result"
    }
   ],
   "source": [
    "cars_df.sample(5)"
   ]
  },
  {
   "cell_type": "code",
   "execution_count": 4,
   "metadata": {
    "colab": {
     "base_uri": "https://localhost:8080/"
    },
    "executionInfo": {
     "elapsed": 388,
     "status": "ok",
     "timestamp": 1666335375261,
     "user": {
      "displayName": "MANARANJAN PRADHAN",
      "userId": "03885802779803335284"
     },
     "user_tz": -330
    },
    "id": "6mX167jxw22C",
    "outputId": "31028ec2-9dbe-4dcf-f01a-a9789f74acd4"
   },
   "outputs": [
    {
     "name": "stdout",
     "output_type": "stream",
     "text": [
      "<class 'pandas.core.frame.DataFrame'>\n",
      "RangeIndex: 1010 entries, 0 to 1009\n",
      "Data columns (total 11 columns):\n",
      " #   Column        Non-Null Count  Dtype  \n",
      "---  ------        --------------  -----  \n",
      " 0   Location      1010 non-null   object \n",
      " 1   Fuel_Type     1010 non-null   object \n",
      " 2   Transmission  1010 non-null   object \n",
      " 3   Owner_Type    1010 non-null   object \n",
      " 4   Seats         1010 non-null   int64  \n",
      " 5   Price         1010 non-null   float64\n",
      " 6   Age           1010 non-null   int64  \n",
      " 7   Model         1010 non-null   object \n",
      " 8   Mileage       1010 non-null   float64\n",
      " 9   Power         1010 non-null   float64\n",
      " 10  KM_Driven     1010 non-null   int64  \n",
      "dtypes: float64(3), int64(3), object(5)\n",
      "memory usage: 86.9+ KB\n"
     ]
    }
   ],
   "source": [
    "cars_df.info()"
   ]
  },
  {
   "cell_type": "markdown",
   "metadata": {},
   "source": [
    "Selecting the features that will be used for modeling."
   ]
  },
  {
   "cell_type": "code",
   "execution_count": 5,
   "metadata": {
    "executionInfo": {
     "elapsed": 2,
     "status": "ok",
     "timestamp": 1666335402733,
     "user": {
      "displayName": "MANARANJAN PRADHAN",
      "userId": "03885802779803335284"
     },
     "user_tz": -330
    },
    "id": "pedL0bwww22E"
   },
   "outputs": [],
   "source": [
    "x_features = ['Fuel_Type', \n",
    "              'Transmission', \n",
    "              'Owner_Type', \n",
    "              'Age', \n",
    "              'Model', \n",
    "              'KM_Driven']"
   ]
  },
  {
   "cell_type": "code",
   "execution_count": 6,
   "metadata": {},
   "outputs": [
    {
     "data": {
      "text/plain": [
       "['Fuel_Type', 'Transmission', 'Owner_Type', 'Age', 'Model', 'KM_Driven']"
      ]
     },
     "execution_count": 6,
     "metadata": {},
     "output_type": "execute_result"
    }
   ],
   "source": [
    "x_features"
   ]
  },
  {
   "cell_type": "code",
   "execution_count": 7,
   "metadata": {
    "executionInfo": {
     "elapsed": 663,
     "status": "ok",
     "timestamp": 1666335441961,
     "user": {
      "displayName": "MANARANJAN PRADHAN",
      "userId": "03885802779803335284"
     },
     "user_tz": -330
    },
    "id": "bgywybWAw22F"
   },
   "outputs": [],
   "source": [
    "cat_vars = ['Fuel_Type',\n",
    "            'Transmission',\n",
    "            'Owner_Type',\n",
    "            'Model']"
   ]
  },
  {
   "cell_type": "code",
   "execution_count": 8,
   "metadata": {
    "executionInfo": {
     "elapsed": 5,
     "status": "ok",
     "timestamp": 1666335441962,
     "user": {
      "displayName": "MANARANJAN PRADHAN",
      "userId": "03885802779803335284"
     },
     "user_tz": -330
    },
    "id": "2DnPA-jzw22F"
   },
   "outputs": [],
   "source": [
    "num_vars = list(set(x_features) - set(cat_vars))"
   ]
  },
  {
   "cell_type": "code",
   "execution_count": 9,
   "metadata": {
    "colab": {
     "base_uri": "https://localhost:8080/"
    },
    "executionInfo": {
     "elapsed": 9,
     "status": "ok",
     "timestamp": 1666335450713,
     "user": {
      "displayName": "MANARANJAN PRADHAN",
      "userId": "03885802779803335284"
     },
     "user_tz": -330
    },
    "id": "jjXxkrb7w22F",
    "outputId": "66291839-94a8-4a80-b9aa-7738353d6b9f"
   },
   "outputs": [
    {
     "data": {
      "text/plain": [
       "['KM_Driven', 'Age']"
      ]
     },
     "execution_count": 9,
     "metadata": {},
     "output_type": "execute_result"
    }
   ],
   "source": [
    "num_vars"
   ]
  },
  {
   "cell_type": "markdown",
   "metadata": {
    "id": "eK3WNm4Tw22I"
   },
   "source": [
    "### Setting X and y variables"
   ]
  },
  {
   "cell_type": "code",
   "execution_count": 10,
   "metadata": {
    "executionInfo": {
     "elapsed": 362,
     "status": "ok",
     "timestamp": 1666335528166,
     "user": {
      "displayName": "MANARANJAN PRADHAN",
      "userId": "03885802779803335284"
     },
     "user_tz": -330
    },
    "id": "kNJGjz5dw22I"
   },
   "outputs": [],
   "source": [
    "X = cars_df[x_features]\n",
    "y = cars_df['Price']"
   ]
  },
  {
   "cell_type": "markdown",
   "metadata": {
    "id": "4Dn5xMfJw22I"
   },
   "source": [
    "### Data Splitting"
   ]
  },
  {
   "cell_type": "code",
   "execution_count": 11,
   "metadata": {
    "executionInfo": {
     "elapsed": 440,
     "status": "ok",
     "timestamp": 1666335562159,
     "user": {
      "displayName": "MANARANJAN PRADHAN",
      "userId": "03885802779803335284"
     },
     "user_tz": -330
    },
    "id": "SZJO1MTKw22I"
   },
   "outputs": [],
   "source": [
    "from sklearn.model_selection import train_test_split"
   ]
  },
  {
   "cell_type": "code",
   "execution_count": 12,
   "metadata": {
    "executionInfo": {
     "elapsed": 635,
     "status": "ok",
     "timestamp": 1666335580571,
     "user": {
      "displayName": "MANARANJAN PRADHAN",
      "userId": "03885802779803335284"
     },
     "user_tz": -330
    },
    "id": "_w4QYKouw22J"
   },
   "outputs": [],
   "source": [
    "X_train, X_test, y_train, y_test = train_test_split(X,\n",
    "                                                    y,\n",
    "                                                    train_size = 0.8,\n",
    "                                                    random_state = 80)"
   ]
  },
  {
   "cell_type": "code",
   "execution_count": 13,
   "metadata": {
    "colab": {
     "base_uri": "https://localhost:8080/"
    },
    "executionInfo": {
     "elapsed": 6,
     "status": "ok",
     "timestamp": 1666335580574,
     "user": {
      "displayName": "MANARANJAN PRADHAN",
      "userId": "03885802779803335284"
     },
     "user_tz": -330
    },
    "id": "MJvUKKtEw22J",
    "outputId": "df500033-d013-4cc7-f971-d4286ba08c78"
   },
   "outputs": [
    {
     "data": {
      "text/plain": [
       "(808, 6)"
      ]
     },
     "execution_count": 13,
     "metadata": {},
     "output_type": "execute_result"
    }
   ],
   "source": [
    "X_train.shape"
   ]
  },
  {
   "cell_type": "code",
   "execution_count": 14,
   "metadata": {
    "colab": {
     "base_uri": "https://localhost:8080/"
    },
    "executionInfo": {
     "elapsed": 374,
     "status": "ok",
     "timestamp": 1666335581673,
     "user": {
      "displayName": "MANARANJAN PRADHAN",
      "userId": "03885802779803335284"
     },
     "user_tz": -330
    },
    "id": "guj1I1pTw22K",
    "outputId": "969d917d-07d0-4087-ee0c-83694bdf2218"
   },
   "outputs": [
    {
     "data": {
      "text/plain": [
       "(202, 6)"
      ]
     },
     "execution_count": 14,
     "metadata": {},
     "output_type": "execute_result"
    }
   ],
   "source": [
    "X_test.shape"
   ]
  },
  {
   "cell_type": "markdown",
   "metadata": {
    "id": "UoUXpIAnsWTV"
   },
   "source": [
    "## Creating Pipelines for feature transformation.\n",
    "\n",
    "1. Categorical columns\n",
    "    - OHE Encoding\n",
    "2. Numerical Columns\n",
    "    - No Transformation Required"
   ]
  },
  {
   "cell_type": "code",
   "execution_count": 15,
   "metadata": {},
   "outputs": [],
   "source": [
    "from sklearn.preprocessing import OneHotEncoder, MinMaxScaler\n",
    "from sklearn.compose import ColumnTransformer\n",
    "from sklearn.pipeline import Pipeline"
   ]
  },
  {
   "cell_type": "markdown",
   "metadata": {},
   "source": [
    "#### Pipeline for OHE for categorical columns"
   ]
  },
  {
   "cell_type": "code",
   "execution_count": 16,
   "metadata": {},
   "outputs": [],
   "source": [
    "ohe_encoder = OneHotEncoder(handle_unknown='ignore')\n",
    "cat_transformer = Pipeline(steps=[('oheencoder', ohe_encoder)])"
   ]
  },
  {
   "cell_type": "markdown",
   "metadata": {},
   "source": [
    "#### Pipeline for OHE for numerical columns"
   ]
  },
  {
   "cell_type": "code",
   "execution_count": 17,
   "metadata": {},
   "outputs": [],
   "source": [
    "minmax_scaler = MinMaxScaler()\n",
    "num_transformer = Pipeline(steps=[('scaler', minmax_scaler)])"
   ]
  },
  {
   "cell_type": "markdown",
   "metadata": {},
   "source": [
    "#### Defining the processing pipeline"
   ]
  },
  {
   "cell_type": "code",
   "execution_count": 18,
   "metadata": {},
   "outputs": [],
   "source": [
    "preprocessor = ColumnTransformer(\n",
    "        transformers = [('numerical', num_transformer, num_vars),\n",
    "                        ('categorical', cat_transformer, cat_vars)])"
   ]
  },
  {
   "cell_type": "markdown",
   "metadata": {
    "id": "ENbz3exkw22L"
   },
   "source": [
    "## KNN Regression\n",
    "\n",
    "Building the model."
   ]
  },
  {
   "cell_type": "code",
   "execution_count": 19,
   "metadata": {},
   "outputs": [],
   "source": [
    "from sklearn.neighbors import KNeighborsRegressor"
   ]
  },
  {
   "cell_type": "markdown",
   "metadata": {},
   "source": [
    "We will use 5 neighbors and uniform weights to estimated the price."
   ]
  },
  {
   "cell_type": "code",
   "execution_count": 20,
   "metadata": {},
   "outputs": [],
   "source": [
    "knn = KNeighborsRegressor(n_neighbors=5, \n",
    "                          weights='uniform')"
   ]
  },
  {
   "cell_type": "code",
   "execution_count": 21,
   "metadata": {},
   "outputs": [],
   "source": [
    "knn_pipeline = Pipeline (steps = [('preprocessor', preprocessor),\n",
    "                                   ('regression', knn)])"
   ]
  },
  {
   "cell_type": "code",
   "execution_count": 22,
   "metadata": {},
   "outputs": [
    {
     "data": {
      "text/html": [
       "<style>#sk-container-id-1 {color: black;background-color: white;}#sk-container-id-1 pre{padding: 0;}#sk-container-id-1 div.sk-toggleable {background-color: white;}#sk-container-id-1 label.sk-toggleable__label {cursor: pointer;display: block;width: 100%;margin-bottom: 0;padding: 0.3em;box-sizing: border-box;text-align: center;}#sk-container-id-1 label.sk-toggleable__label-arrow:before {content: \"▸\";float: left;margin-right: 0.25em;color: #696969;}#sk-container-id-1 label.sk-toggleable__label-arrow:hover:before {color: black;}#sk-container-id-1 div.sk-estimator:hover label.sk-toggleable__label-arrow:before {color: black;}#sk-container-id-1 div.sk-toggleable__content {max-height: 0;max-width: 0;overflow: hidden;text-align: left;background-color: #f0f8ff;}#sk-container-id-1 div.sk-toggleable__content pre {margin: 0.2em;color: black;border-radius: 0.25em;background-color: #f0f8ff;}#sk-container-id-1 input.sk-toggleable__control:checked~div.sk-toggleable__content {max-height: 200px;max-width: 100%;overflow: auto;}#sk-container-id-1 input.sk-toggleable__control:checked~label.sk-toggleable__label-arrow:before {content: \"▾\";}#sk-container-id-1 div.sk-estimator input.sk-toggleable__control:checked~label.sk-toggleable__label {background-color: #d4ebff;}#sk-container-id-1 div.sk-label input.sk-toggleable__control:checked~label.sk-toggleable__label {background-color: #d4ebff;}#sk-container-id-1 input.sk-hidden--visually {border: 0;clip: rect(1px 1px 1px 1px);clip: rect(1px, 1px, 1px, 1px);height: 1px;margin: -1px;overflow: hidden;padding: 0;position: absolute;width: 1px;}#sk-container-id-1 div.sk-estimator {font-family: monospace;background-color: #f0f8ff;border: 1px dotted black;border-radius: 0.25em;box-sizing: border-box;margin-bottom: 0.5em;}#sk-container-id-1 div.sk-estimator:hover {background-color: #d4ebff;}#sk-container-id-1 div.sk-parallel-item::after {content: \"\";width: 100%;border-bottom: 1px solid gray;flex-grow: 1;}#sk-container-id-1 div.sk-label:hover label.sk-toggleable__label {background-color: #d4ebff;}#sk-container-id-1 div.sk-serial::before {content: \"\";position: absolute;border-left: 1px solid gray;box-sizing: border-box;top: 0;bottom: 0;left: 50%;z-index: 0;}#sk-container-id-1 div.sk-serial {display: flex;flex-direction: column;align-items: center;background-color: white;padding-right: 0.2em;padding-left: 0.2em;position: relative;}#sk-container-id-1 div.sk-item {position: relative;z-index: 1;}#sk-container-id-1 div.sk-parallel {display: flex;align-items: stretch;justify-content: center;background-color: white;position: relative;}#sk-container-id-1 div.sk-item::before, #sk-container-id-1 div.sk-parallel-item::before {content: \"\";position: absolute;border-left: 1px solid gray;box-sizing: border-box;top: 0;bottom: 0;left: 50%;z-index: -1;}#sk-container-id-1 div.sk-parallel-item {display: flex;flex-direction: column;z-index: 1;position: relative;background-color: white;}#sk-container-id-1 div.sk-parallel-item:first-child::after {align-self: flex-end;width: 50%;}#sk-container-id-1 div.sk-parallel-item:last-child::after {align-self: flex-start;width: 50%;}#sk-container-id-1 div.sk-parallel-item:only-child::after {width: 0;}#sk-container-id-1 div.sk-dashed-wrapped {border: 1px dashed gray;margin: 0 0.4em 0.5em 0.4em;box-sizing: border-box;padding-bottom: 0.4em;background-color: white;}#sk-container-id-1 div.sk-label label {font-family: monospace;font-weight: bold;display: inline-block;line-height: 1.2em;}#sk-container-id-1 div.sk-label-container {text-align: center;}#sk-container-id-1 div.sk-container {/* jupyter's `normalize.less` sets `[hidden] { display: none; }` but bootstrap.min.css set `[hidden] { display: none !important; }` so we also need the `!important` here to be able to override the default hidden behavior on the sphinx rendered scikit-learn.org. See: https://github.com/scikit-learn/scikit-learn/issues/21755 */display: inline-block !important;position: relative;}#sk-container-id-1 div.sk-text-repr-fallback {display: none;}</style><div id=\"sk-container-id-1\" class=\"sk-top-container\"><div class=\"sk-text-repr-fallback\"><pre>Pipeline(steps=[(&#x27;preprocessor&#x27;,\n",
       "                 ColumnTransformer(transformers=[(&#x27;numerical&#x27;,\n",
       "                                                  Pipeline(steps=[(&#x27;scaler&#x27;,\n",
       "                                                                   MinMaxScaler())]),\n",
       "                                                  [&#x27;KM_Driven&#x27;, &#x27;Age&#x27;]),\n",
       "                                                 (&#x27;categorical&#x27;,\n",
       "                                                  Pipeline(steps=[(&#x27;oheencoder&#x27;,\n",
       "                                                                   OneHotEncoder(handle_unknown=&#x27;ignore&#x27;))]),\n",
       "                                                  [&#x27;Fuel_Type&#x27;, &#x27;Transmission&#x27;,\n",
       "                                                   &#x27;Owner_Type&#x27;, &#x27;Model&#x27;])])),\n",
       "                (&#x27;regression&#x27;, KNeighborsRegressor())])</pre><b>In a Jupyter environment, please rerun this cell to show the HTML representation or trust the notebook. <br />On GitHub, the HTML representation is unable to render, please try loading this page with nbviewer.org.</b></div><div class=\"sk-container\" hidden><div class=\"sk-item sk-dashed-wrapped\"><div class=\"sk-label-container\"><div class=\"sk-label sk-toggleable\"><input class=\"sk-toggleable__control sk-hidden--visually\" id=\"sk-estimator-id-1\" type=\"checkbox\" ><label for=\"sk-estimator-id-1\" class=\"sk-toggleable__label sk-toggleable__label-arrow\">Pipeline</label><div class=\"sk-toggleable__content\"><pre>Pipeline(steps=[(&#x27;preprocessor&#x27;,\n",
       "                 ColumnTransformer(transformers=[(&#x27;numerical&#x27;,\n",
       "                                                  Pipeline(steps=[(&#x27;scaler&#x27;,\n",
       "                                                                   MinMaxScaler())]),\n",
       "                                                  [&#x27;KM_Driven&#x27;, &#x27;Age&#x27;]),\n",
       "                                                 (&#x27;categorical&#x27;,\n",
       "                                                  Pipeline(steps=[(&#x27;oheencoder&#x27;,\n",
       "                                                                   OneHotEncoder(handle_unknown=&#x27;ignore&#x27;))]),\n",
       "                                                  [&#x27;Fuel_Type&#x27;, &#x27;Transmission&#x27;,\n",
       "                                                   &#x27;Owner_Type&#x27;, &#x27;Model&#x27;])])),\n",
       "                (&#x27;regression&#x27;, KNeighborsRegressor())])</pre></div></div></div><div class=\"sk-serial\"><div class=\"sk-item sk-dashed-wrapped\"><div class=\"sk-label-container\"><div class=\"sk-label sk-toggleable\"><input class=\"sk-toggleable__control sk-hidden--visually\" id=\"sk-estimator-id-2\" type=\"checkbox\" ><label for=\"sk-estimator-id-2\" class=\"sk-toggleable__label sk-toggleable__label-arrow\">preprocessor: ColumnTransformer</label><div class=\"sk-toggleable__content\"><pre>ColumnTransformer(transformers=[(&#x27;numerical&#x27;,\n",
       "                                 Pipeline(steps=[(&#x27;scaler&#x27;, MinMaxScaler())]),\n",
       "                                 [&#x27;KM_Driven&#x27;, &#x27;Age&#x27;]),\n",
       "                                (&#x27;categorical&#x27;,\n",
       "                                 Pipeline(steps=[(&#x27;oheencoder&#x27;,\n",
       "                                                  OneHotEncoder(handle_unknown=&#x27;ignore&#x27;))]),\n",
       "                                 [&#x27;Fuel_Type&#x27;, &#x27;Transmission&#x27;, &#x27;Owner_Type&#x27;,\n",
       "                                  &#x27;Model&#x27;])])</pre></div></div></div><div class=\"sk-parallel\"><div class=\"sk-parallel-item\"><div class=\"sk-item\"><div class=\"sk-label-container\"><div class=\"sk-label sk-toggleable\"><input class=\"sk-toggleable__control sk-hidden--visually\" id=\"sk-estimator-id-3\" type=\"checkbox\" ><label for=\"sk-estimator-id-3\" class=\"sk-toggleable__label sk-toggleable__label-arrow\">numerical</label><div class=\"sk-toggleable__content\"><pre>[&#x27;KM_Driven&#x27;, &#x27;Age&#x27;]</pre></div></div></div><div class=\"sk-serial\"><div class=\"sk-item\"><div class=\"sk-serial\"><div class=\"sk-item\"><div class=\"sk-estimator sk-toggleable\"><input class=\"sk-toggleable__control sk-hidden--visually\" id=\"sk-estimator-id-4\" type=\"checkbox\" ><label for=\"sk-estimator-id-4\" class=\"sk-toggleable__label sk-toggleable__label-arrow\">MinMaxScaler</label><div class=\"sk-toggleable__content\"><pre>MinMaxScaler()</pre></div></div></div></div></div></div></div></div><div class=\"sk-parallel-item\"><div class=\"sk-item\"><div class=\"sk-label-container\"><div class=\"sk-label sk-toggleable\"><input class=\"sk-toggleable__control sk-hidden--visually\" id=\"sk-estimator-id-5\" type=\"checkbox\" ><label for=\"sk-estimator-id-5\" class=\"sk-toggleable__label sk-toggleable__label-arrow\">categorical</label><div class=\"sk-toggleable__content\"><pre>[&#x27;Fuel_Type&#x27;, &#x27;Transmission&#x27;, &#x27;Owner_Type&#x27;, &#x27;Model&#x27;]</pre></div></div></div><div class=\"sk-serial\"><div class=\"sk-item\"><div class=\"sk-serial\"><div class=\"sk-item\"><div class=\"sk-estimator sk-toggleable\"><input class=\"sk-toggleable__control sk-hidden--visually\" id=\"sk-estimator-id-6\" type=\"checkbox\" ><label for=\"sk-estimator-id-6\" class=\"sk-toggleable__label sk-toggleable__label-arrow\">OneHotEncoder</label><div class=\"sk-toggleable__content\"><pre>OneHotEncoder(handle_unknown=&#x27;ignore&#x27;)</pre></div></div></div></div></div></div></div></div></div></div><div class=\"sk-item\"><div class=\"sk-estimator sk-toggleable\"><input class=\"sk-toggleable__control sk-hidden--visually\" id=\"sk-estimator-id-7\" type=\"checkbox\" ><label for=\"sk-estimator-id-7\" class=\"sk-toggleable__label sk-toggleable__label-arrow\">KNeighborsRegressor</label><div class=\"sk-toggleable__content\"><pre>KNeighborsRegressor()</pre></div></div></div></div></div></div></div>"
      ],
      "text/plain": [
       "Pipeline(steps=[('preprocessor',\n",
       "                 ColumnTransformer(transformers=[('numerical',\n",
       "                                                  Pipeline(steps=[('scaler',\n",
       "                                                                   MinMaxScaler())]),\n",
       "                                                  ['KM_Driven', 'Age']),\n",
       "                                                 ('categorical',\n",
       "                                                  Pipeline(steps=[('oheencoder',\n",
       "                                                                   OneHotEncoder(handle_unknown='ignore'))]),\n",
       "                                                  ['Fuel_Type', 'Transmission',\n",
       "                                                   'Owner_Type', 'Model'])])),\n",
       "                ('regression', KNeighborsRegressor())])"
      ]
     },
     "execution_count": 22,
     "metadata": {},
     "output_type": "execute_result"
    }
   ],
   "source": [
    "knn_pipeline.fit(X_train, y_train)"
   ]
  },
  {
   "cell_type": "markdown",
   "metadata": {
    "id": "zRdZEa4Rw22N"
   },
   "source": [
    "## Predict on Test Set\n",
    "\n",
    "How well it is performing on the test set?"
   ]
  },
  {
   "cell_type": "code",
   "execution_count": 23,
   "metadata": {},
   "outputs": [],
   "source": [
    "y_pred = knn_pipeline.predict(X_test)"
   ]
  },
  {
   "cell_type": "code",
   "execution_count": 24,
   "metadata": {},
   "outputs": [],
   "source": [
    "from sklearn.metrics import mean_squared_error, r2_score"
   ]
  },
  {
   "cell_type": "code",
   "execution_count": 25,
   "metadata": {},
   "outputs": [
    {
     "data": {
      "text/plain": [
       "0.85531"
      ]
     },
     "execution_count": 25,
     "metadata": {},
     "output_type": "execute_result"
    }
   ],
   "source": [
    "np.round(r2_score(y_test, y_pred), 5)"
   ]
  },
  {
   "cell_type": "markdown",
   "metadata": {},
   "source": [
    "## What happens if the training set and test set changes?\n",
    "\n",
    "- Change the random_state, build model and measure accuracy again"
   ]
  },
  {
   "cell_type": "code",
   "execution_count": 26,
   "metadata": {},
   "outputs": [],
   "source": [
    "X_train, X_test, y_train, y_test = train_test_split(X,\n",
    "                                                    y,\n",
    "                                                    train_size = 0.8,\n",
    "                                                    random_state = 200)"
   ]
  },
  {
   "cell_type": "code",
   "execution_count": 27,
   "metadata": {},
   "outputs": [
    {
     "data": {
      "text/plain": [
       "0.87923"
      ]
     },
     "execution_count": 27,
     "metadata": {},
     "output_type": "execute_result"
    }
   ],
   "source": [
    "knn_pipeline.fit(X_train, y_train)\n",
    "np.round(r2_score(y_test,  knn_pipeline.predict(X_test)), 5)"
   ]
  },
  {
   "cell_type": "markdown",
   "metadata": {},
   "source": [
    "## Drawbacks of using only one train and test split\n",
    "\n",
    "Relying on a single train-test split for measuring model accuracy can introduce bias, variability, and lack of confidence in the reported performance.\n",
    "\n",
    "- The performance of the model can be highly dependent on the specific instances included in the training and test sets. If the split happens to be unrepresentative of the overall data distribution, the obtained accuracy may not reflect the true performance of the model.\n",
    "\n",
    "- With only one train-test split, there is no measure of confidence or uncertainty in the reported accuracy. There is no way to estimate the confidence intervals and assess the stability of the model's performance."
   ]
  },
  {
   "cell_type": "markdown",
   "metadata": {},
   "source": [
    "### K-Fold Cross Validation\n",
    "\n",
    "- Cross-validation provides a more robust estimate of a model's performance compared to a single train-test split. It partitions the data into k subsets (folds) and performs k iterations, each time using a different fold as test set and remaining data as train set.\n",
    "\n",
    "Source: https://scikit-learn.org/stable/modules/cross_validation.html\n",
    "\n",
    "<img src=\"kfold.png\" alt=\"Normal Distribution\" width=\"600\"/>\n",
    "\n",
    "- It provides more comprehensive evaluation of the model's performance across different data subsets.\n",
    "- \n",
    "Better Utilization of Data: Cross-validation allows us to make efficient use of the available data. In traditional train-test splits, a portion of the data is used only once for testing, which reduces the amount of data available for training. With k-fold cross-validation, every data point is used for both training and validation, leading to a more reliable estimation of performance."
   ]
  },
  {
   "cell_type": "code",
   "execution_count": 28,
   "metadata": {},
   "outputs": [],
   "source": [
    "from sklearn.model_selection import cross_val_score"
   ]
  },
  {
   "cell_type": "code",
   "execution_count": 29,
   "metadata": {},
   "outputs": [],
   "source": [
    "scores = cross_val_score(knn_pipeline,\n",
    "                         X_train,\n",
    "                         y_train,\n",
    "                         cv = 5,\n",
    "                         scoring = 'r2')"
   ]
  },
  {
   "cell_type": "code",
   "execution_count": 30,
   "metadata": {},
   "outputs": [
    {
     "data": {
      "text/plain": [
       "array([0.85730414, 0.85397204, 0.82937946, 0.85533755, 0.85889236])"
      ]
     },
     "execution_count": 30,
     "metadata": {},
     "output_type": "execute_result"
    }
   ],
   "source": [
    "scores"
   ]
  },
  {
   "cell_type": "code",
   "execution_count": 31,
   "metadata": {},
   "outputs": [
    {
     "data": {
      "text/plain": [
       "0.8509771107614357"
      ]
     },
     "execution_count": 31,
     "metadata": {},
     "output_type": "execute_result"
    }
   ],
   "source": [
    "scores.mean()"
   ]
  },
  {
   "cell_type": "code",
   "execution_count": 32,
   "metadata": {},
   "outputs": [
    {
     "data": {
      "text/plain": [
       "0.01092816485058668"
      ]
     },
     "execution_count": 32,
     "metadata": {},
     "output_type": "execute_result"
    }
   ],
   "source": [
    "scores.std()"
   ]
  },
  {
   "cell_type": "markdown",
   "metadata": {},
   "source": [
    "### Interpreting the cross validation scores \n",
    "\n",
    "- **Mean Accuracy:** Mean accuracy represents the average performance of the model. If the mean accuracy is high and consistent across the folds, it indicates that the model is performing well and is likely to generalize to new data.\n",
    "\n",
    "\n",
    "- **Variance:**  Look at the variance or standard deviation of the accuracy values across the folds. A high variance suggests that the model's performance is sensitive to the specific data splits used in cross-validation. It may indicate *instability or inconsistency* in the model's predictions when faced with different subsets of the data.\n",
    "\n",
    "\n",
    "- **Data Quality and Quantity:** The variance in model accuracy could also be influenced by the quality and quantity of the available data. If the dataset is small or contains a high level of noise or outliers, it can contribute to increased variance. Increasing the amount of data or improving its quality can potentially reduce the variance.\n",
    "\n",
    "\n",
    "- **Model Selection and Hyperparameter Tuning:** Cross-validation helps in comparing and selecting the best model among different alternatives or in tuning hyperparameters. By evaluating each model on multiple folds and averaging the results, we can make more informed decisions about which model or set of hyperparameters performs the best on average across different data subsets."
   ]
  },
  {
   "cell_type": "markdown",
   "metadata": {},
   "source": [
    "## Hyperparameter Tuning using Grid Search\n",
    "\n",
    "- In Grid search, we define a grid of hyperparameter values to explore. \n",
    "- The grid search algorithm exhaustively searches through all possible combinations of hyperparameters to find the optimal set that yields the best performance metric, such as r2 score. \n",
    "- The performance of each combination is compared, and the hyperparameter set with the best performance is selected as the optimal choice.\n",
    "- For better compare the metrics, KFold cross-validation is used, which involves dividing the training data into multiple subsets (folds), training the model on a combination of folds, and evaluating it on the remaining fold. This process is repeated for each combination of hyperparameters."
   ]
  },
  {
   "cell_type": "code",
   "execution_count": 33,
   "metadata": {},
   "outputs": [],
   "source": [
    "from sklearn.model_selection import GridSearchCV"
   ]
  },
  {
   "cell_type": "markdown",
   "metadata": {},
   "source": [
    "### Defining pipeline"
   ]
  },
  {
   "cell_type": "code",
   "execution_count": 34,
   "metadata": {},
   "outputs": [],
   "source": [
    "knn = KNeighborsRegressor()\n",
    "knn_pipeline = Pipeline (steps = [('preprocessor', preprocessor),\n",
    "                                  ('knn', knn)])"
   ]
  },
  {
   "cell_type": "markdown",
   "metadata": {},
   "source": [
    "### Defining Grid"
   ]
  },
  {
   "cell_type": "code",
   "execution_count": 35,
   "metadata": {},
   "outputs": [],
   "source": [
    "grid = {'knn__n_neighbors': list(range(5, 30, 2)),\n",
    "        'knn__weights': ['uniform', 'distance']}"
   ]
  },
  {
   "cell_type": "code",
   "execution_count": 36,
   "metadata": {},
   "outputs": [],
   "source": [
    "knn_grid = GridSearchCV(knn_pipeline,\n",
    "                        param_grid = grid,\n",
    "                        cv = 5,\n",
    "                        scoring = 'r2')"
   ]
  },
  {
   "cell_type": "markdown",
   "metadata": {},
   "source": [
    "### Searching for optimal hyperparamters"
   ]
  },
  {
   "cell_type": "code",
   "execution_count": 37,
   "metadata": {},
   "outputs": [
    {
     "data": {
      "text/html": [
       "<style>#sk-container-id-2 {color: black;background-color: white;}#sk-container-id-2 pre{padding: 0;}#sk-container-id-2 div.sk-toggleable {background-color: white;}#sk-container-id-2 label.sk-toggleable__label {cursor: pointer;display: block;width: 100%;margin-bottom: 0;padding: 0.3em;box-sizing: border-box;text-align: center;}#sk-container-id-2 label.sk-toggleable__label-arrow:before {content: \"▸\";float: left;margin-right: 0.25em;color: #696969;}#sk-container-id-2 label.sk-toggleable__label-arrow:hover:before {color: black;}#sk-container-id-2 div.sk-estimator:hover label.sk-toggleable__label-arrow:before {color: black;}#sk-container-id-2 div.sk-toggleable__content {max-height: 0;max-width: 0;overflow: hidden;text-align: left;background-color: #f0f8ff;}#sk-container-id-2 div.sk-toggleable__content pre {margin: 0.2em;color: black;border-radius: 0.25em;background-color: #f0f8ff;}#sk-container-id-2 input.sk-toggleable__control:checked~div.sk-toggleable__content {max-height: 200px;max-width: 100%;overflow: auto;}#sk-container-id-2 input.sk-toggleable__control:checked~label.sk-toggleable__label-arrow:before {content: \"▾\";}#sk-container-id-2 div.sk-estimator input.sk-toggleable__control:checked~label.sk-toggleable__label {background-color: #d4ebff;}#sk-container-id-2 div.sk-label input.sk-toggleable__control:checked~label.sk-toggleable__label {background-color: #d4ebff;}#sk-container-id-2 input.sk-hidden--visually {border: 0;clip: rect(1px 1px 1px 1px);clip: rect(1px, 1px, 1px, 1px);height: 1px;margin: -1px;overflow: hidden;padding: 0;position: absolute;width: 1px;}#sk-container-id-2 div.sk-estimator {font-family: monospace;background-color: #f0f8ff;border: 1px dotted black;border-radius: 0.25em;box-sizing: border-box;margin-bottom: 0.5em;}#sk-container-id-2 div.sk-estimator:hover {background-color: #d4ebff;}#sk-container-id-2 div.sk-parallel-item::after {content: \"\";width: 100%;border-bottom: 1px solid gray;flex-grow: 1;}#sk-container-id-2 div.sk-label:hover label.sk-toggleable__label {background-color: #d4ebff;}#sk-container-id-2 div.sk-serial::before {content: \"\";position: absolute;border-left: 1px solid gray;box-sizing: border-box;top: 0;bottom: 0;left: 50%;z-index: 0;}#sk-container-id-2 div.sk-serial {display: flex;flex-direction: column;align-items: center;background-color: white;padding-right: 0.2em;padding-left: 0.2em;position: relative;}#sk-container-id-2 div.sk-item {position: relative;z-index: 1;}#sk-container-id-2 div.sk-parallel {display: flex;align-items: stretch;justify-content: center;background-color: white;position: relative;}#sk-container-id-2 div.sk-item::before, #sk-container-id-2 div.sk-parallel-item::before {content: \"\";position: absolute;border-left: 1px solid gray;box-sizing: border-box;top: 0;bottom: 0;left: 50%;z-index: -1;}#sk-container-id-2 div.sk-parallel-item {display: flex;flex-direction: column;z-index: 1;position: relative;background-color: white;}#sk-container-id-2 div.sk-parallel-item:first-child::after {align-self: flex-end;width: 50%;}#sk-container-id-2 div.sk-parallel-item:last-child::after {align-self: flex-start;width: 50%;}#sk-container-id-2 div.sk-parallel-item:only-child::after {width: 0;}#sk-container-id-2 div.sk-dashed-wrapped {border: 1px dashed gray;margin: 0 0.4em 0.5em 0.4em;box-sizing: border-box;padding-bottom: 0.4em;background-color: white;}#sk-container-id-2 div.sk-label label {font-family: monospace;font-weight: bold;display: inline-block;line-height: 1.2em;}#sk-container-id-2 div.sk-label-container {text-align: center;}#sk-container-id-2 div.sk-container {/* jupyter's `normalize.less` sets `[hidden] { display: none; }` but bootstrap.min.css set `[hidden] { display: none !important; }` so we also need the `!important` here to be able to override the default hidden behavior on the sphinx rendered scikit-learn.org. See: https://github.com/scikit-learn/scikit-learn/issues/21755 */display: inline-block !important;position: relative;}#sk-container-id-2 div.sk-text-repr-fallback {display: none;}</style><div id=\"sk-container-id-2\" class=\"sk-top-container\"><div class=\"sk-text-repr-fallback\"><pre>GridSearchCV(cv=5,\n",
       "             estimator=Pipeline(steps=[(&#x27;preprocessor&#x27;,\n",
       "                                        ColumnTransformer(transformers=[(&#x27;numerical&#x27;,\n",
       "                                                                         Pipeline(steps=[(&#x27;scaler&#x27;,\n",
       "                                                                                          MinMaxScaler())]),\n",
       "                                                                         [&#x27;KM_Driven&#x27;,\n",
       "                                                                          &#x27;Age&#x27;]),\n",
       "                                                                        (&#x27;categorical&#x27;,\n",
       "                                                                         Pipeline(steps=[(&#x27;oheencoder&#x27;,\n",
       "                                                                                          OneHotEncoder(handle_unknown=&#x27;ignore&#x27;))]),\n",
       "                                                                         [&#x27;Fuel_Type&#x27;,\n",
       "                                                                          &#x27;Transmission&#x27;,\n",
       "                                                                          &#x27;Owner_Type&#x27;,\n",
       "                                                                          &#x27;Model&#x27;])])),\n",
       "                                       (&#x27;knn&#x27;, KNeighborsRegressor())]),\n",
       "             param_grid={&#x27;knn__n_neighbors&#x27;: [5, 7, 9, 11, 13, 15, 17, 19, 21,\n",
       "                                              23, 25, 27, 29],\n",
       "                         &#x27;knn__weights&#x27;: [&#x27;uniform&#x27;, &#x27;distance&#x27;]},\n",
       "             scoring=&#x27;r2&#x27;)</pre><b>In a Jupyter environment, please rerun this cell to show the HTML representation or trust the notebook. <br />On GitHub, the HTML representation is unable to render, please try loading this page with nbviewer.org.</b></div><div class=\"sk-container\" hidden><div class=\"sk-item sk-dashed-wrapped\"><div class=\"sk-label-container\"><div class=\"sk-label sk-toggleable\"><input class=\"sk-toggleable__control sk-hidden--visually\" id=\"sk-estimator-id-8\" type=\"checkbox\" ><label for=\"sk-estimator-id-8\" class=\"sk-toggleable__label sk-toggleable__label-arrow\">GridSearchCV</label><div class=\"sk-toggleable__content\"><pre>GridSearchCV(cv=5,\n",
       "             estimator=Pipeline(steps=[(&#x27;preprocessor&#x27;,\n",
       "                                        ColumnTransformer(transformers=[(&#x27;numerical&#x27;,\n",
       "                                                                         Pipeline(steps=[(&#x27;scaler&#x27;,\n",
       "                                                                                          MinMaxScaler())]),\n",
       "                                                                         [&#x27;KM_Driven&#x27;,\n",
       "                                                                          &#x27;Age&#x27;]),\n",
       "                                                                        (&#x27;categorical&#x27;,\n",
       "                                                                         Pipeline(steps=[(&#x27;oheencoder&#x27;,\n",
       "                                                                                          OneHotEncoder(handle_unknown=&#x27;ignore&#x27;))]),\n",
       "                                                                         [&#x27;Fuel_Type&#x27;,\n",
       "                                                                          &#x27;Transmission&#x27;,\n",
       "                                                                          &#x27;Owner_Type&#x27;,\n",
       "                                                                          &#x27;Model&#x27;])])),\n",
       "                                       (&#x27;knn&#x27;, KNeighborsRegressor())]),\n",
       "             param_grid={&#x27;knn__n_neighbors&#x27;: [5, 7, 9, 11, 13, 15, 17, 19, 21,\n",
       "                                              23, 25, 27, 29],\n",
       "                         &#x27;knn__weights&#x27;: [&#x27;uniform&#x27;, &#x27;distance&#x27;]},\n",
       "             scoring=&#x27;r2&#x27;)</pre></div></div></div><div class=\"sk-parallel\"><div class=\"sk-parallel-item\"><div class=\"sk-item\"><div class=\"sk-label-container\"><div class=\"sk-label sk-toggleable\"><input class=\"sk-toggleable__control sk-hidden--visually\" id=\"sk-estimator-id-9\" type=\"checkbox\" ><label for=\"sk-estimator-id-9\" class=\"sk-toggleable__label sk-toggleable__label-arrow\">estimator: Pipeline</label><div class=\"sk-toggleable__content\"><pre>Pipeline(steps=[(&#x27;preprocessor&#x27;,\n",
       "                 ColumnTransformer(transformers=[(&#x27;numerical&#x27;,\n",
       "                                                  Pipeline(steps=[(&#x27;scaler&#x27;,\n",
       "                                                                   MinMaxScaler())]),\n",
       "                                                  [&#x27;KM_Driven&#x27;, &#x27;Age&#x27;]),\n",
       "                                                 (&#x27;categorical&#x27;,\n",
       "                                                  Pipeline(steps=[(&#x27;oheencoder&#x27;,\n",
       "                                                                   OneHotEncoder(handle_unknown=&#x27;ignore&#x27;))]),\n",
       "                                                  [&#x27;Fuel_Type&#x27;, &#x27;Transmission&#x27;,\n",
       "                                                   &#x27;Owner_Type&#x27;, &#x27;Model&#x27;])])),\n",
       "                (&#x27;knn&#x27;, KNeighborsRegressor())])</pre></div></div></div><div class=\"sk-serial\"><div class=\"sk-item\"><div class=\"sk-serial\"><div class=\"sk-item sk-dashed-wrapped\"><div class=\"sk-label-container\"><div class=\"sk-label sk-toggleable\"><input class=\"sk-toggleable__control sk-hidden--visually\" id=\"sk-estimator-id-10\" type=\"checkbox\" ><label for=\"sk-estimator-id-10\" class=\"sk-toggleable__label sk-toggleable__label-arrow\">preprocessor: ColumnTransformer</label><div class=\"sk-toggleable__content\"><pre>ColumnTransformer(transformers=[(&#x27;numerical&#x27;,\n",
       "                                 Pipeline(steps=[(&#x27;scaler&#x27;, MinMaxScaler())]),\n",
       "                                 [&#x27;KM_Driven&#x27;, &#x27;Age&#x27;]),\n",
       "                                (&#x27;categorical&#x27;,\n",
       "                                 Pipeline(steps=[(&#x27;oheencoder&#x27;,\n",
       "                                                  OneHotEncoder(handle_unknown=&#x27;ignore&#x27;))]),\n",
       "                                 [&#x27;Fuel_Type&#x27;, &#x27;Transmission&#x27;, &#x27;Owner_Type&#x27;,\n",
       "                                  &#x27;Model&#x27;])])</pre></div></div></div><div class=\"sk-parallel\"><div class=\"sk-parallel-item\"><div class=\"sk-item\"><div class=\"sk-label-container\"><div class=\"sk-label sk-toggleable\"><input class=\"sk-toggleable__control sk-hidden--visually\" id=\"sk-estimator-id-11\" type=\"checkbox\" ><label for=\"sk-estimator-id-11\" class=\"sk-toggleable__label sk-toggleable__label-arrow\">numerical</label><div class=\"sk-toggleable__content\"><pre>[&#x27;KM_Driven&#x27;, &#x27;Age&#x27;]</pre></div></div></div><div class=\"sk-serial\"><div class=\"sk-item\"><div class=\"sk-serial\"><div class=\"sk-item\"><div class=\"sk-estimator sk-toggleable\"><input class=\"sk-toggleable__control sk-hidden--visually\" id=\"sk-estimator-id-12\" type=\"checkbox\" ><label for=\"sk-estimator-id-12\" class=\"sk-toggleable__label sk-toggleable__label-arrow\">MinMaxScaler</label><div class=\"sk-toggleable__content\"><pre>MinMaxScaler()</pre></div></div></div></div></div></div></div></div><div class=\"sk-parallel-item\"><div class=\"sk-item\"><div class=\"sk-label-container\"><div class=\"sk-label sk-toggleable\"><input class=\"sk-toggleable__control sk-hidden--visually\" id=\"sk-estimator-id-13\" type=\"checkbox\" ><label for=\"sk-estimator-id-13\" class=\"sk-toggleable__label sk-toggleable__label-arrow\">categorical</label><div class=\"sk-toggleable__content\"><pre>[&#x27;Fuel_Type&#x27;, &#x27;Transmission&#x27;, &#x27;Owner_Type&#x27;, &#x27;Model&#x27;]</pre></div></div></div><div class=\"sk-serial\"><div class=\"sk-item\"><div class=\"sk-serial\"><div class=\"sk-item\"><div class=\"sk-estimator sk-toggleable\"><input class=\"sk-toggleable__control sk-hidden--visually\" id=\"sk-estimator-id-14\" type=\"checkbox\" ><label for=\"sk-estimator-id-14\" class=\"sk-toggleable__label sk-toggleable__label-arrow\">OneHotEncoder</label><div class=\"sk-toggleable__content\"><pre>OneHotEncoder(handle_unknown=&#x27;ignore&#x27;)</pre></div></div></div></div></div></div></div></div></div></div><div class=\"sk-item\"><div class=\"sk-estimator sk-toggleable\"><input class=\"sk-toggleable__control sk-hidden--visually\" id=\"sk-estimator-id-15\" type=\"checkbox\" ><label for=\"sk-estimator-id-15\" class=\"sk-toggleable__label sk-toggleable__label-arrow\">KNeighborsRegressor</label><div class=\"sk-toggleable__content\"><pre>KNeighborsRegressor()</pre></div></div></div></div></div></div></div></div></div></div></div></div>"
      ],
      "text/plain": [
       "GridSearchCV(cv=5,\n",
       "             estimator=Pipeline(steps=[('preprocessor',\n",
       "                                        ColumnTransformer(transformers=[('numerical',\n",
       "                                                                         Pipeline(steps=[('scaler',\n",
       "                                                                                          MinMaxScaler())]),\n",
       "                                                                         ['KM_Driven',\n",
       "                                                                          'Age']),\n",
       "                                                                        ('categorical',\n",
       "                                                                         Pipeline(steps=[('oheencoder',\n",
       "                                                                                          OneHotEncoder(handle_unknown='ignore'))]),\n",
       "                                                                         ['Fuel_Type',\n",
       "                                                                          'Transmission',\n",
       "                                                                          'Owner_Type',\n",
       "                                                                          'Model'])])),\n",
       "                                       ('knn', KNeighborsRegressor())]),\n",
       "             param_grid={'knn__n_neighbors': [5, 7, 9, 11, 13, 15, 17, 19, 21,\n",
       "                                              23, 25, 27, 29],\n",
       "                         'knn__weights': ['uniform', 'distance']},\n",
       "             scoring='r2')"
      ]
     },
     "execution_count": 37,
     "metadata": {},
     "output_type": "execute_result"
    }
   ],
   "source": [
    "knn_grid.fit(X_train, y_train)"
   ]
  },
  {
   "cell_type": "markdown",
   "metadata": {},
   "source": [
    "### What are the optimal values for the parameters?"
   ]
  },
  {
   "cell_type": "code",
   "execution_count": 38,
   "metadata": {},
   "outputs": [
    {
     "data": {
      "text/plain": [
       "{'knn__n_neighbors': 7, 'knn__weights': 'distance'}"
      ]
     },
     "execution_count": 38,
     "metadata": {},
     "output_type": "execute_result"
    }
   ],
   "source": [
    "knn_grid.best_params_"
   ]
  },
  {
   "cell_type": "code",
   "execution_count": 39,
   "metadata": {
    "scrolled": true
   },
   "outputs": [
    {
     "data": {
      "text/plain": [
       "0.8531482991210609"
      ]
     },
     "execution_count": 39,
     "metadata": {},
     "output_type": "execute_result"
    }
   ],
   "source": [
    "knn_grid.best_score_"
   ]
  },
  {
   "cell_type": "markdown",
   "metadata": {},
   "source": [
    "### Detailed Search Results"
   ]
  },
  {
   "cell_type": "code",
   "execution_count": 40,
   "metadata": {},
   "outputs": [
    {
     "data": {
      "text/html": [
       "<div>\n",
       "<style scoped>\n",
       "    .dataframe tbody tr th:only-of-type {\n",
       "        vertical-align: middle;\n",
       "    }\n",
       "\n",
       "    .dataframe tbody tr th {\n",
       "        vertical-align: top;\n",
       "    }\n",
       "\n",
       "    .dataframe thead th {\n",
       "        text-align: right;\n",
       "    }\n",
       "</style>\n",
       "<table border=\"1\" class=\"dataframe\">\n",
       "  <thead>\n",
       "    <tr style=\"text-align: right;\">\n",
       "      <th></th>\n",
       "      <th>mean_fit_time</th>\n",
       "      <th>std_fit_time</th>\n",
       "      <th>mean_score_time</th>\n",
       "      <th>std_score_time</th>\n",
       "      <th>param_knn__n_neighbors</th>\n",
       "      <th>param_knn__weights</th>\n",
       "      <th>params</th>\n",
       "      <th>split0_test_score</th>\n",
       "      <th>split1_test_score</th>\n",
       "      <th>split2_test_score</th>\n",
       "      <th>split3_test_score</th>\n",
       "      <th>split4_test_score</th>\n",
       "      <th>mean_test_score</th>\n",
       "      <th>std_test_score</th>\n",
       "      <th>rank_test_score</th>\n",
       "    </tr>\n",
       "  </thead>\n",
       "  <tbody>\n",
       "    <tr>\n",
       "      <th>0</th>\n",
       "      <td>0.014722</td>\n",
       "      <td>0.004276</td>\n",
       "      <td>0.017744</td>\n",
       "      <td>0.005612</td>\n",
       "      <td>5</td>\n",
       "      <td>uniform</td>\n",
       "      <td>{'knn__n_neighbors': 5, 'knn__weights': 'unifo...</td>\n",
       "      <td>0.857304</td>\n",
       "      <td>0.853972</td>\n",
       "      <td>0.829379</td>\n",
       "      <td>0.855338</td>\n",
       "      <td>0.858892</td>\n",
       "      <td>0.850977</td>\n",
       "      <td>0.010928</td>\n",
       "      <td>4</td>\n",
       "    </tr>\n",
       "    <tr>\n",
       "      <th>1</th>\n",
       "      <td>0.012273</td>\n",
       "      <td>0.000885</td>\n",
       "      <td>0.014646</td>\n",
       "      <td>0.000757</td>\n",
       "      <td>5</td>\n",
       "      <td>distance</td>\n",
       "      <td>{'knn__n_neighbors': 5, 'knn__weights': 'dista...</td>\n",
       "      <td>0.856650</td>\n",
       "      <td>0.858882</td>\n",
       "      <td>0.817858</td>\n",
       "      <td>0.855694</td>\n",
       "      <td>0.857488</td>\n",
       "      <td>0.849314</td>\n",
       "      <td>0.015763</td>\n",
       "      <td>5</td>\n",
       "    </tr>\n",
       "    <tr>\n",
       "      <th>2</th>\n",
       "      <td>0.011225</td>\n",
       "      <td>0.000367</td>\n",
       "      <td>0.013766</td>\n",
       "      <td>0.000517</td>\n",
       "      <td>7</td>\n",
       "      <td>uniform</td>\n",
       "      <td>{'knn__n_neighbors': 7, 'knn__weights': 'unifo...</td>\n",
       "      <td>0.863646</td>\n",
       "      <td>0.849905</td>\n",
       "      <td>0.826109</td>\n",
       "      <td>0.868080</td>\n",
       "      <td>0.854528</td>\n",
       "      <td>0.852454</td>\n",
       "      <td>0.014658</td>\n",
       "      <td>2</td>\n",
       "    </tr>\n",
       "    <tr>\n",
       "      <th>3</th>\n",
       "      <td>0.011616</td>\n",
       "      <td>0.000594</td>\n",
       "      <td>0.013753</td>\n",
       "      <td>0.000372</td>\n",
       "      <td>7</td>\n",
       "      <td>distance</td>\n",
       "      <td>{'knn__n_neighbors': 7, 'knn__weights': 'dista...</td>\n",
       "      <td>0.861462</td>\n",
       "      <td>0.859444</td>\n",
       "      <td>0.817708</td>\n",
       "      <td>0.865248</td>\n",
       "      <td>0.861880</td>\n",
       "      <td>0.853148</td>\n",
       "      <td>0.017818</td>\n",
       "      <td>1</td>\n",
       "    </tr>\n",
       "    <tr>\n",
       "      <th>4</th>\n",
       "      <td>0.011060</td>\n",
       "      <td>0.000168</td>\n",
       "      <td>0.013241</td>\n",
       "      <td>0.000141</td>\n",
       "      <td>9</td>\n",
       "      <td>uniform</td>\n",
       "      <td>{'knn__n_neighbors': 9, 'knn__weights': 'unifo...</td>\n",
       "      <td>0.864624</td>\n",
       "      <td>0.838064</td>\n",
       "      <td>0.819089</td>\n",
       "      <td>0.852279</td>\n",
       "      <td>0.843348</td>\n",
       "      <td>0.843481</td>\n",
       "      <td>0.015158</td>\n",
       "      <td>9</td>\n",
       "    </tr>\n",
       "    <tr>\n",
       "      <th>5</th>\n",
       "      <td>0.011126</td>\n",
       "      <td>0.000271</td>\n",
       "      <td>0.013661</td>\n",
       "      <td>0.000182</td>\n",
       "      <td>9</td>\n",
       "      <td>distance</td>\n",
       "      <td>{'knn__n_neighbors': 9, 'knn__weights': 'dista...</td>\n",
       "      <td>0.865120</td>\n",
       "      <td>0.852849</td>\n",
       "      <td>0.816658</td>\n",
       "      <td>0.860852</td>\n",
       "      <td>0.861978</td>\n",
       "      <td>0.851491</td>\n",
       "      <td>0.017880</td>\n",
       "      <td>3</td>\n",
       "    </tr>\n",
       "    <tr>\n",
       "      <th>6</th>\n",
       "      <td>0.010777</td>\n",
       "      <td>0.000091</td>\n",
       "      <td>0.013264</td>\n",
       "      <td>0.000191</td>\n",
       "      <td>11</td>\n",
       "      <td>uniform</td>\n",
       "      <td>{'knn__n_neighbors': 11, 'knn__weights': 'unif...</td>\n",
       "      <td>0.857138</td>\n",
       "      <td>0.823300</td>\n",
       "      <td>0.816639</td>\n",
       "      <td>0.837699</td>\n",
       "      <td>0.823373</td>\n",
       "      <td>0.831630</td>\n",
       "      <td>0.014490</td>\n",
       "      <td>17</td>\n",
       "    </tr>\n",
       "    <tr>\n",
       "      <th>7</th>\n",
       "      <td>0.011472</td>\n",
       "      <td>0.000521</td>\n",
       "      <td>0.014372</td>\n",
       "      <td>0.000361</td>\n",
       "      <td>11</td>\n",
       "      <td>distance</td>\n",
       "      <td>{'knn__n_neighbors': 11, 'knn__weights': 'dist...</td>\n",
       "      <td>0.863945</td>\n",
       "      <td>0.845988</td>\n",
       "      <td>0.817736</td>\n",
       "      <td>0.856368</td>\n",
       "      <td>0.856036</td>\n",
       "      <td>0.848015</td>\n",
       "      <td>0.016179</td>\n",
       "      <td>6</td>\n",
       "    </tr>\n",
       "    <tr>\n",
       "      <th>8</th>\n",
       "      <td>0.012205</td>\n",
       "      <td>0.001056</td>\n",
       "      <td>0.014224</td>\n",
       "      <td>0.000488</td>\n",
       "      <td>13</td>\n",
       "      <td>uniform</td>\n",
       "      <td>{'knn__n_neighbors': 13, 'knn__weights': 'unif...</td>\n",
       "      <td>0.849161</td>\n",
       "      <td>0.807225</td>\n",
       "      <td>0.820745</td>\n",
       "      <td>0.827329</td>\n",
       "      <td>0.807801</td>\n",
       "      <td>0.822452</td>\n",
       "      <td>0.015405</td>\n",
       "      <td>18</td>\n",
       "    </tr>\n",
       "    <tr>\n",
       "      <th>9</th>\n",
       "      <td>0.012058</td>\n",
       "      <td>0.000407</td>\n",
       "      <td>0.016593</td>\n",
       "      <td>0.001557</td>\n",
       "      <td>13</td>\n",
       "      <td>distance</td>\n",
       "      <td>{'knn__n_neighbors': 13, 'knn__weights': 'dist...</td>\n",
       "      <td>0.863177</td>\n",
       "      <td>0.838261</td>\n",
       "      <td>0.821456</td>\n",
       "      <td>0.854579</td>\n",
       "      <td>0.853126</td>\n",
       "      <td>0.846120</td>\n",
       "      <td>0.014708</td>\n",
       "      <td>7</td>\n",
       "    </tr>\n",
       "    <tr>\n",
       "      <th>10</th>\n",
       "      <td>0.011886</td>\n",
       "      <td>0.000314</td>\n",
       "      <td>0.014909</td>\n",
       "      <td>0.001043</td>\n",
       "      <td>15</td>\n",
       "      <td>uniform</td>\n",
       "      <td>{'knn__n_neighbors': 15, 'knn__weights': 'unif...</td>\n",
       "      <td>0.846780</td>\n",
       "      <td>0.791949</td>\n",
       "      <td>0.816102</td>\n",
       "      <td>0.829615</td>\n",
       "      <td>0.799810</td>\n",
       "      <td>0.816851</td>\n",
       "      <td>0.019848</td>\n",
       "      <td>19</td>\n",
       "    </tr>\n",
       "    <tr>\n",
       "      <th>11</th>\n",
       "      <td>0.011626</td>\n",
       "      <td>0.000469</td>\n",
       "      <td>0.014521</td>\n",
       "      <td>0.000648</td>\n",
       "      <td>15</td>\n",
       "      <td>distance</td>\n",
       "      <td>{'knn__n_neighbors': 15, 'knn__weights': 'dist...</td>\n",
       "      <td>0.863777</td>\n",
       "      <td>0.829975</td>\n",
       "      <td>0.822289</td>\n",
       "      <td>0.856261</td>\n",
       "      <td>0.851053</td>\n",
       "      <td>0.844671</td>\n",
       "      <td>0.015856</td>\n",
       "      <td>8</td>\n",
       "    </tr>\n",
       "    <tr>\n",
       "      <th>12</th>\n",
       "      <td>0.013026</td>\n",
       "      <td>0.000750</td>\n",
       "      <td>0.015274</td>\n",
       "      <td>0.000453</td>\n",
       "      <td>17</td>\n",
       "      <td>uniform</td>\n",
       "      <td>{'knn__n_neighbors': 17, 'knn__weights': 'unif...</td>\n",
       "      <td>0.840940</td>\n",
       "      <td>0.789468</td>\n",
       "      <td>0.810194</td>\n",
       "      <td>0.828073</td>\n",
       "      <td>0.799167</td>\n",
       "      <td>0.813568</td>\n",
       "      <td>0.018757</td>\n",
       "      <td>20</td>\n",
       "    </tr>\n",
       "    <tr>\n",
       "      <th>13</th>\n",
       "      <td>0.011078</td>\n",
       "      <td>0.000754</td>\n",
       "      <td>0.013989</td>\n",
       "      <td>0.000658</td>\n",
       "      <td>17</td>\n",
       "      <td>distance</td>\n",
       "      <td>{'knn__n_neighbors': 17, 'knn__weights': 'dist...</td>\n",
       "      <td>0.861154</td>\n",
       "      <td>0.827926</td>\n",
       "      <td>0.819978</td>\n",
       "      <td>0.855160</td>\n",
       "      <td>0.850476</td>\n",
       "      <td>0.842939</td>\n",
       "      <td>0.016066</td>\n",
       "      <td>10</td>\n",
       "    </tr>\n",
       "    <tr>\n",
       "      <th>14</th>\n",
       "      <td>0.010787</td>\n",
       "      <td>0.000166</td>\n",
       "      <td>0.013581</td>\n",
       "      <td>0.000372</td>\n",
       "      <td>19</td>\n",
       "      <td>uniform</td>\n",
       "      <td>{'knn__n_neighbors': 19, 'knn__weights': 'unif...</td>\n",
       "      <td>0.838903</td>\n",
       "      <td>0.783815</td>\n",
       "      <td>0.806084</td>\n",
       "      <td>0.826014</td>\n",
       "      <td>0.800327</td>\n",
       "      <td>0.811029</td>\n",
       "      <td>0.019396</td>\n",
       "      <td>21</td>\n",
       "    </tr>\n",
       "    <tr>\n",
       "      <th>15</th>\n",
       "      <td>0.011716</td>\n",
       "      <td>0.000820</td>\n",
       "      <td>0.014309</td>\n",
       "      <td>0.000420</td>\n",
       "      <td>19</td>\n",
       "      <td>distance</td>\n",
       "      <td>{'knn__n_neighbors': 19, 'knn__weights': 'dist...</td>\n",
       "      <td>0.861745</td>\n",
       "      <td>0.822579</td>\n",
       "      <td>0.819651</td>\n",
       "      <td>0.854584</td>\n",
       "      <td>0.849031</td>\n",
       "      <td>0.841518</td>\n",
       "      <td>0.017165</td>\n",
       "      <td>11</td>\n",
       "    </tr>\n",
       "    <tr>\n",
       "      <th>16</th>\n",
       "      <td>0.010864</td>\n",
       "      <td>0.000131</td>\n",
       "      <td>0.013440</td>\n",
       "      <td>0.000197</td>\n",
       "      <td>21</td>\n",
       "      <td>uniform</td>\n",
       "      <td>{'knn__n_neighbors': 21, 'knn__weights': 'unif...</td>\n",
       "      <td>0.835471</td>\n",
       "      <td>0.778945</td>\n",
       "      <td>0.804431</td>\n",
       "      <td>0.823134</td>\n",
       "      <td>0.793416</td>\n",
       "      <td>0.807080</td>\n",
       "      <td>0.020244</td>\n",
       "      <td>22</td>\n",
       "    </tr>\n",
       "    <tr>\n",
       "      <th>17</th>\n",
       "      <td>0.010766</td>\n",
       "      <td>0.000191</td>\n",
       "      <td>0.013745</td>\n",
       "      <td>0.000285</td>\n",
       "      <td>21</td>\n",
       "      <td>distance</td>\n",
       "      <td>{'knn__n_neighbors': 21, 'knn__weights': 'dist...</td>\n",
       "      <td>0.861843</td>\n",
       "      <td>0.819704</td>\n",
       "      <td>0.818346</td>\n",
       "      <td>0.853517</td>\n",
       "      <td>0.847396</td>\n",
       "      <td>0.840161</td>\n",
       "      <td>0.017862</td>\n",
       "      <td>12</td>\n",
       "    </tr>\n",
       "    <tr>\n",
       "      <th>18</th>\n",
       "      <td>0.010791</td>\n",
       "      <td>0.000199</td>\n",
       "      <td>0.013586</td>\n",
       "      <td>0.000199</td>\n",
       "      <td>23</td>\n",
       "      <td>uniform</td>\n",
       "      <td>{'knn__n_neighbors': 23, 'knn__weights': 'unif...</td>\n",
       "      <td>0.834339</td>\n",
       "      <td>0.773182</td>\n",
       "      <td>0.799967</td>\n",
       "      <td>0.823870</td>\n",
       "      <td>0.790741</td>\n",
       "      <td>0.804420</td>\n",
       "      <td>0.022164</td>\n",
       "      <td>23</td>\n",
       "    </tr>\n",
       "    <tr>\n",
       "      <th>19</th>\n",
       "      <td>0.010691</td>\n",
       "      <td>0.000121</td>\n",
       "      <td>0.014205</td>\n",
       "      <td>0.000484</td>\n",
       "      <td>23</td>\n",
       "      <td>distance</td>\n",
       "      <td>{'knn__n_neighbors': 23, 'knn__weights': 'dist...</td>\n",
       "      <td>0.862682</td>\n",
       "      <td>0.815578</td>\n",
       "      <td>0.818217</td>\n",
       "      <td>0.852697</td>\n",
       "      <td>0.847318</td>\n",
       "      <td>0.839298</td>\n",
       "      <td>0.018962</td>\n",
       "      <td>13</td>\n",
       "    </tr>\n",
       "    <tr>\n",
       "      <th>20</th>\n",
       "      <td>0.010806</td>\n",
       "      <td>0.000226</td>\n",
       "      <td>0.013595</td>\n",
       "      <td>0.000147</td>\n",
       "      <td>25</td>\n",
       "      <td>uniform</td>\n",
       "      <td>{'knn__n_neighbors': 25, 'knn__weights': 'unif...</td>\n",
       "      <td>0.831626</td>\n",
       "      <td>0.766506</td>\n",
       "      <td>0.798986</td>\n",
       "      <td>0.817945</td>\n",
       "      <td>0.789585</td>\n",
       "      <td>0.800930</td>\n",
       "      <td>0.022580</td>\n",
       "      <td>24</td>\n",
       "    </tr>\n",
       "    <tr>\n",
       "      <th>21</th>\n",
       "      <td>0.010734</td>\n",
       "      <td>0.000108</td>\n",
       "      <td>0.014010</td>\n",
       "      <td>0.000147</td>\n",
       "      <td>25</td>\n",
       "      <td>distance</td>\n",
       "      <td>{'knn__n_neighbors': 25, 'knn__weights': 'dist...</td>\n",
       "      <td>0.862457</td>\n",
       "      <td>0.811583</td>\n",
       "      <td>0.818063</td>\n",
       "      <td>0.851873</td>\n",
       "      <td>0.847379</td>\n",
       "      <td>0.838271</td>\n",
       "      <td>0.019868</td>\n",
       "      <td>14</td>\n",
       "    </tr>\n",
       "    <tr>\n",
       "      <th>22</th>\n",
       "      <td>0.011413</td>\n",
       "      <td>0.000560</td>\n",
       "      <td>0.015251</td>\n",
       "      <td>0.001149</td>\n",
       "      <td>27</td>\n",
       "      <td>uniform</td>\n",
       "      <td>{'knn__n_neighbors': 27, 'knn__weights': 'unif...</td>\n",
       "      <td>0.827597</td>\n",
       "      <td>0.755611</td>\n",
       "      <td>0.793693</td>\n",
       "      <td>0.811420</td>\n",
       "      <td>0.785179</td>\n",
       "      <td>0.794700</td>\n",
       "      <td>0.024419</td>\n",
       "      <td>25</td>\n",
       "    </tr>\n",
       "    <tr>\n",
       "      <th>23</th>\n",
       "      <td>0.012005</td>\n",
       "      <td>0.000248</td>\n",
       "      <td>0.015363</td>\n",
       "      <td>0.000363</td>\n",
       "      <td>27</td>\n",
       "      <td>distance</td>\n",
       "      <td>{'knn__n_neighbors': 27, 'knn__weights': 'dist...</td>\n",
       "      <td>0.861778</td>\n",
       "      <td>0.806492</td>\n",
       "      <td>0.816216</td>\n",
       "      <td>0.850256</td>\n",
       "      <td>0.845800</td>\n",
       "      <td>0.836108</td>\n",
       "      <td>0.021099</td>\n",
       "      <td>15</td>\n",
       "    </tr>\n",
       "    <tr>\n",
       "      <th>24</th>\n",
       "      <td>0.012248</td>\n",
       "      <td>0.000202</td>\n",
       "      <td>0.015289</td>\n",
       "      <td>0.000559</td>\n",
       "      <td>29</td>\n",
       "      <td>uniform</td>\n",
       "      <td>{'knn__n_neighbors': 29, 'knn__weights': 'unif...</td>\n",
       "      <td>0.819711</td>\n",
       "      <td>0.755000</td>\n",
       "      <td>0.789868</td>\n",
       "      <td>0.810558</td>\n",
       "      <td>0.781748</td>\n",
       "      <td>0.791377</td>\n",
       "      <td>0.022755</td>\n",
       "      <td>26</td>\n",
       "    </tr>\n",
       "    <tr>\n",
       "      <th>25</th>\n",
       "      <td>0.012069</td>\n",
       "      <td>0.000431</td>\n",
       "      <td>0.015619</td>\n",
       "      <td>0.000785</td>\n",
       "      <td>29</td>\n",
       "      <td>distance</td>\n",
       "      <td>{'knn__n_neighbors': 29, 'knn__weights': 'dist...</td>\n",
       "      <td>0.859220</td>\n",
       "      <td>0.805739</td>\n",
       "      <td>0.816658</td>\n",
       "      <td>0.849933</td>\n",
       "      <td>0.844913</td>\n",
       "      <td>0.835293</td>\n",
       "      <td>0.020494</td>\n",
       "      <td>16</td>\n",
       "    </tr>\n",
       "  </tbody>\n",
       "</table>\n",
       "</div>"
      ],
      "text/plain": [
       "    mean_fit_time  std_fit_time  mean_score_time  std_score_time  \\\n",
       "0        0.014722      0.004276         0.017744        0.005612   \n",
       "1        0.012273      0.000885         0.014646        0.000757   \n",
       "2        0.011225      0.000367         0.013766        0.000517   \n",
       "3        0.011616      0.000594         0.013753        0.000372   \n",
       "4        0.011060      0.000168         0.013241        0.000141   \n",
       "5        0.011126      0.000271         0.013661        0.000182   \n",
       "6        0.010777      0.000091         0.013264        0.000191   \n",
       "7        0.011472      0.000521         0.014372        0.000361   \n",
       "8        0.012205      0.001056         0.014224        0.000488   \n",
       "9        0.012058      0.000407         0.016593        0.001557   \n",
       "10       0.011886      0.000314         0.014909        0.001043   \n",
       "11       0.011626      0.000469         0.014521        0.000648   \n",
       "12       0.013026      0.000750         0.015274        0.000453   \n",
       "13       0.011078      0.000754         0.013989        0.000658   \n",
       "14       0.010787      0.000166         0.013581        0.000372   \n",
       "15       0.011716      0.000820         0.014309        0.000420   \n",
       "16       0.010864      0.000131         0.013440        0.000197   \n",
       "17       0.010766      0.000191         0.013745        0.000285   \n",
       "18       0.010791      0.000199         0.013586        0.000199   \n",
       "19       0.010691      0.000121         0.014205        0.000484   \n",
       "20       0.010806      0.000226         0.013595        0.000147   \n",
       "21       0.010734      0.000108         0.014010        0.000147   \n",
       "22       0.011413      0.000560         0.015251        0.001149   \n",
       "23       0.012005      0.000248         0.015363        0.000363   \n",
       "24       0.012248      0.000202         0.015289        0.000559   \n",
       "25       0.012069      0.000431         0.015619        0.000785   \n",
       "\n",
       "   param_knn__n_neighbors param_knn__weights  \\\n",
       "0                       5            uniform   \n",
       "1                       5           distance   \n",
       "2                       7            uniform   \n",
       "3                       7           distance   \n",
       "4                       9            uniform   \n",
       "5                       9           distance   \n",
       "6                      11            uniform   \n",
       "7                      11           distance   \n",
       "8                      13            uniform   \n",
       "9                      13           distance   \n",
       "10                     15            uniform   \n",
       "11                     15           distance   \n",
       "12                     17            uniform   \n",
       "13                     17           distance   \n",
       "14                     19            uniform   \n",
       "15                     19           distance   \n",
       "16                     21            uniform   \n",
       "17                     21           distance   \n",
       "18                     23            uniform   \n",
       "19                     23           distance   \n",
       "20                     25            uniform   \n",
       "21                     25           distance   \n",
       "22                     27            uniform   \n",
       "23                     27           distance   \n",
       "24                     29            uniform   \n",
       "25                     29           distance   \n",
       "\n",
       "                                               params  split0_test_score  \\\n",
       "0   {'knn__n_neighbors': 5, 'knn__weights': 'unifo...           0.857304   \n",
       "1   {'knn__n_neighbors': 5, 'knn__weights': 'dista...           0.856650   \n",
       "2   {'knn__n_neighbors': 7, 'knn__weights': 'unifo...           0.863646   \n",
       "3   {'knn__n_neighbors': 7, 'knn__weights': 'dista...           0.861462   \n",
       "4   {'knn__n_neighbors': 9, 'knn__weights': 'unifo...           0.864624   \n",
       "5   {'knn__n_neighbors': 9, 'knn__weights': 'dista...           0.865120   \n",
       "6   {'knn__n_neighbors': 11, 'knn__weights': 'unif...           0.857138   \n",
       "7   {'knn__n_neighbors': 11, 'knn__weights': 'dist...           0.863945   \n",
       "8   {'knn__n_neighbors': 13, 'knn__weights': 'unif...           0.849161   \n",
       "9   {'knn__n_neighbors': 13, 'knn__weights': 'dist...           0.863177   \n",
       "10  {'knn__n_neighbors': 15, 'knn__weights': 'unif...           0.846780   \n",
       "11  {'knn__n_neighbors': 15, 'knn__weights': 'dist...           0.863777   \n",
       "12  {'knn__n_neighbors': 17, 'knn__weights': 'unif...           0.840940   \n",
       "13  {'knn__n_neighbors': 17, 'knn__weights': 'dist...           0.861154   \n",
       "14  {'knn__n_neighbors': 19, 'knn__weights': 'unif...           0.838903   \n",
       "15  {'knn__n_neighbors': 19, 'knn__weights': 'dist...           0.861745   \n",
       "16  {'knn__n_neighbors': 21, 'knn__weights': 'unif...           0.835471   \n",
       "17  {'knn__n_neighbors': 21, 'knn__weights': 'dist...           0.861843   \n",
       "18  {'knn__n_neighbors': 23, 'knn__weights': 'unif...           0.834339   \n",
       "19  {'knn__n_neighbors': 23, 'knn__weights': 'dist...           0.862682   \n",
       "20  {'knn__n_neighbors': 25, 'knn__weights': 'unif...           0.831626   \n",
       "21  {'knn__n_neighbors': 25, 'knn__weights': 'dist...           0.862457   \n",
       "22  {'knn__n_neighbors': 27, 'knn__weights': 'unif...           0.827597   \n",
       "23  {'knn__n_neighbors': 27, 'knn__weights': 'dist...           0.861778   \n",
       "24  {'knn__n_neighbors': 29, 'knn__weights': 'unif...           0.819711   \n",
       "25  {'knn__n_neighbors': 29, 'knn__weights': 'dist...           0.859220   \n",
       "\n",
       "    split1_test_score  split2_test_score  split3_test_score  \\\n",
       "0            0.853972           0.829379           0.855338   \n",
       "1            0.858882           0.817858           0.855694   \n",
       "2            0.849905           0.826109           0.868080   \n",
       "3            0.859444           0.817708           0.865248   \n",
       "4            0.838064           0.819089           0.852279   \n",
       "5            0.852849           0.816658           0.860852   \n",
       "6            0.823300           0.816639           0.837699   \n",
       "7            0.845988           0.817736           0.856368   \n",
       "8            0.807225           0.820745           0.827329   \n",
       "9            0.838261           0.821456           0.854579   \n",
       "10           0.791949           0.816102           0.829615   \n",
       "11           0.829975           0.822289           0.856261   \n",
       "12           0.789468           0.810194           0.828073   \n",
       "13           0.827926           0.819978           0.855160   \n",
       "14           0.783815           0.806084           0.826014   \n",
       "15           0.822579           0.819651           0.854584   \n",
       "16           0.778945           0.804431           0.823134   \n",
       "17           0.819704           0.818346           0.853517   \n",
       "18           0.773182           0.799967           0.823870   \n",
       "19           0.815578           0.818217           0.852697   \n",
       "20           0.766506           0.798986           0.817945   \n",
       "21           0.811583           0.818063           0.851873   \n",
       "22           0.755611           0.793693           0.811420   \n",
       "23           0.806492           0.816216           0.850256   \n",
       "24           0.755000           0.789868           0.810558   \n",
       "25           0.805739           0.816658           0.849933   \n",
       "\n",
       "    split4_test_score  mean_test_score  std_test_score  rank_test_score  \n",
       "0            0.858892         0.850977        0.010928                4  \n",
       "1            0.857488         0.849314        0.015763                5  \n",
       "2            0.854528         0.852454        0.014658                2  \n",
       "3            0.861880         0.853148        0.017818                1  \n",
       "4            0.843348         0.843481        0.015158                9  \n",
       "5            0.861978         0.851491        0.017880                3  \n",
       "6            0.823373         0.831630        0.014490               17  \n",
       "7            0.856036         0.848015        0.016179                6  \n",
       "8            0.807801         0.822452        0.015405               18  \n",
       "9            0.853126         0.846120        0.014708                7  \n",
       "10           0.799810         0.816851        0.019848               19  \n",
       "11           0.851053         0.844671        0.015856                8  \n",
       "12           0.799167         0.813568        0.018757               20  \n",
       "13           0.850476         0.842939        0.016066               10  \n",
       "14           0.800327         0.811029        0.019396               21  \n",
       "15           0.849031         0.841518        0.017165               11  \n",
       "16           0.793416         0.807080        0.020244               22  \n",
       "17           0.847396         0.840161        0.017862               12  \n",
       "18           0.790741         0.804420        0.022164               23  \n",
       "19           0.847318         0.839298        0.018962               13  \n",
       "20           0.789585         0.800930        0.022580               24  \n",
       "21           0.847379         0.838271        0.019868               14  \n",
       "22           0.785179         0.794700        0.024419               25  \n",
       "23           0.845800         0.836108        0.021099               15  \n",
       "24           0.781748         0.791377        0.022755               26  \n",
       "25           0.844913         0.835293        0.020494               16  "
      ]
     },
     "execution_count": 40,
     "metadata": {},
     "output_type": "execute_result"
    }
   ],
   "source": [
    "pd.DataFrame(knn_grid.cv_results_)"
   ]
  },
  {
   "cell_type": "markdown",
   "metadata": {},
   "source": [
    "## Building the final model"
   ]
  },
  {
   "cell_type": "code",
   "execution_count": 41,
   "metadata": {},
   "outputs": [
    {
     "data": {
      "text/html": [
       "<style>#sk-container-id-3 {color: black;background-color: white;}#sk-container-id-3 pre{padding: 0;}#sk-container-id-3 div.sk-toggleable {background-color: white;}#sk-container-id-3 label.sk-toggleable__label {cursor: pointer;display: block;width: 100%;margin-bottom: 0;padding: 0.3em;box-sizing: border-box;text-align: center;}#sk-container-id-3 label.sk-toggleable__label-arrow:before {content: \"▸\";float: left;margin-right: 0.25em;color: #696969;}#sk-container-id-3 label.sk-toggleable__label-arrow:hover:before {color: black;}#sk-container-id-3 div.sk-estimator:hover label.sk-toggleable__label-arrow:before {color: black;}#sk-container-id-3 div.sk-toggleable__content {max-height: 0;max-width: 0;overflow: hidden;text-align: left;background-color: #f0f8ff;}#sk-container-id-3 div.sk-toggleable__content pre {margin: 0.2em;color: black;border-radius: 0.25em;background-color: #f0f8ff;}#sk-container-id-3 input.sk-toggleable__control:checked~div.sk-toggleable__content {max-height: 200px;max-width: 100%;overflow: auto;}#sk-container-id-3 input.sk-toggleable__control:checked~label.sk-toggleable__label-arrow:before {content: \"▾\";}#sk-container-id-3 div.sk-estimator input.sk-toggleable__control:checked~label.sk-toggleable__label {background-color: #d4ebff;}#sk-container-id-3 div.sk-label input.sk-toggleable__control:checked~label.sk-toggleable__label {background-color: #d4ebff;}#sk-container-id-3 input.sk-hidden--visually {border: 0;clip: rect(1px 1px 1px 1px);clip: rect(1px, 1px, 1px, 1px);height: 1px;margin: -1px;overflow: hidden;padding: 0;position: absolute;width: 1px;}#sk-container-id-3 div.sk-estimator {font-family: monospace;background-color: #f0f8ff;border: 1px dotted black;border-radius: 0.25em;box-sizing: border-box;margin-bottom: 0.5em;}#sk-container-id-3 div.sk-estimator:hover {background-color: #d4ebff;}#sk-container-id-3 div.sk-parallel-item::after {content: \"\";width: 100%;border-bottom: 1px solid gray;flex-grow: 1;}#sk-container-id-3 div.sk-label:hover label.sk-toggleable__label {background-color: #d4ebff;}#sk-container-id-3 div.sk-serial::before {content: \"\";position: absolute;border-left: 1px solid gray;box-sizing: border-box;top: 0;bottom: 0;left: 50%;z-index: 0;}#sk-container-id-3 div.sk-serial {display: flex;flex-direction: column;align-items: center;background-color: white;padding-right: 0.2em;padding-left: 0.2em;position: relative;}#sk-container-id-3 div.sk-item {position: relative;z-index: 1;}#sk-container-id-3 div.sk-parallel {display: flex;align-items: stretch;justify-content: center;background-color: white;position: relative;}#sk-container-id-3 div.sk-item::before, #sk-container-id-3 div.sk-parallel-item::before {content: \"\";position: absolute;border-left: 1px solid gray;box-sizing: border-box;top: 0;bottom: 0;left: 50%;z-index: -1;}#sk-container-id-3 div.sk-parallel-item {display: flex;flex-direction: column;z-index: 1;position: relative;background-color: white;}#sk-container-id-3 div.sk-parallel-item:first-child::after {align-self: flex-end;width: 50%;}#sk-container-id-3 div.sk-parallel-item:last-child::after {align-self: flex-start;width: 50%;}#sk-container-id-3 div.sk-parallel-item:only-child::after {width: 0;}#sk-container-id-3 div.sk-dashed-wrapped {border: 1px dashed gray;margin: 0 0.4em 0.5em 0.4em;box-sizing: border-box;padding-bottom: 0.4em;background-color: white;}#sk-container-id-3 div.sk-label label {font-family: monospace;font-weight: bold;display: inline-block;line-height: 1.2em;}#sk-container-id-3 div.sk-label-container {text-align: center;}#sk-container-id-3 div.sk-container {/* jupyter's `normalize.less` sets `[hidden] { display: none; }` but bootstrap.min.css set `[hidden] { display: none !important; }` so we also need the `!important` here to be able to override the default hidden behavior on the sphinx rendered scikit-learn.org. See: https://github.com/scikit-learn/scikit-learn/issues/21755 */display: inline-block !important;position: relative;}#sk-container-id-3 div.sk-text-repr-fallback {display: none;}</style><div id=\"sk-container-id-3\" class=\"sk-top-container\"><div class=\"sk-text-repr-fallback\"><pre>Pipeline(steps=[(&#x27;preprocessor&#x27;,\n",
       "                 ColumnTransformer(transformers=[(&#x27;numerical&#x27;,\n",
       "                                                  Pipeline(steps=[(&#x27;scaler&#x27;,\n",
       "                                                                   MinMaxScaler())]),\n",
       "                                                  [&#x27;KM_Driven&#x27;, &#x27;Age&#x27;]),\n",
       "                                                 (&#x27;categorical&#x27;,\n",
       "                                                  Pipeline(steps=[(&#x27;oheencoder&#x27;,\n",
       "                                                                   OneHotEncoder(handle_unknown=&#x27;ignore&#x27;))]),\n",
       "                                                  [&#x27;Fuel_Type&#x27;, &#x27;Transmission&#x27;,\n",
       "                                                   &#x27;Owner_Type&#x27;, &#x27;Model&#x27;])])),\n",
       "                (&#x27;knn&#x27;,\n",
       "                 KNeighborsRegressor(n_neighbors=7, weights=&#x27;distance&#x27;))])</pre><b>In a Jupyter environment, please rerun this cell to show the HTML representation or trust the notebook. <br />On GitHub, the HTML representation is unable to render, please try loading this page with nbviewer.org.</b></div><div class=\"sk-container\" hidden><div class=\"sk-item sk-dashed-wrapped\"><div class=\"sk-label-container\"><div class=\"sk-label sk-toggleable\"><input class=\"sk-toggleable__control sk-hidden--visually\" id=\"sk-estimator-id-16\" type=\"checkbox\" ><label for=\"sk-estimator-id-16\" class=\"sk-toggleable__label sk-toggleable__label-arrow\">Pipeline</label><div class=\"sk-toggleable__content\"><pre>Pipeline(steps=[(&#x27;preprocessor&#x27;,\n",
       "                 ColumnTransformer(transformers=[(&#x27;numerical&#x27;,\n",
       "                                                  Pipeline(steps=[(&#x27;scaler&#x27;,\n",
       "                                                                   MinMaxScaler())]),\n",
       "                                                  [&#x27;KM_Driven&#x27;, &#x27;Age&#x27;]),\n",
       "                                                 (&#x27;categorical&#x27;,\n",
       "                                                  Pipeline(steps=[(&#x27;oheencoder&#x27;,\n",
       "                                                                   OneHotEncoder(handle_unknown=&#x27;ignore&#x27;))]),\n",
       "                                                  [&#x27;Fuel_Type&#x27;, &#x27;Transmission&#x27;,\n",
       "                                                   &#x27;Owner_Type&#x27;, &#x27;Model&#x27;])])),\n",
       "                (&#x27;knn&#x27;,\n",
       "                 KNeighborsRegressor(n_neighbors=7, weights=&#x27;distance&#x27;))])</pre></div></div></div><div class=\"sk-serial\"><div class=\"sk-item sk-dashed-wrapped\"><div class=\"sk-label-container\"><div class=\"sk-label sk-toggleable\"><input class=\"sk-toggleable__control sk-hidden--visually\" id=\"sk-estimator-id-17\" type=\"checkbox\" ><label for=\"sk-estimator-id-17\" class=\"sk-toggleable__label sk-toggleable__label-arrow\">preprocessor: ColumnTransformer</label><div class=\"sk-toggleable__content\"><pre>ColumnTransformer(transformers=[(&#x27;numerical&#x27;,\n",
       "                                 Pipeline(steps=[(&#x27;scaler&#x27;, MinMaxScaler())]),\n",
       "                                 [&#x27;KM_Driven&#x27;, &#x27;Age&#x27;]),\n",
       "                                (&#x27;categorical&#x27;,\n",
       "                                 Pipeline(steps=[(&#x27;oheencoder&#x27;,\n",
       "                                                  OneHotEncoder(handle_unknown=&#x27;ignore&#x27;))]),\n",
       "                                 [&#x27;Fuel_Type&#x27;, &#x27;Transmission&#x27;, &#x27;Owner_Type&#x27;,\n",
       "                                  &#x27;Model&#x27;])])</pre></div></div></div><div class=\"sk-parallel\"><div class=\"sk-parallel-item\"><div class=\"sk-item\"><div class=\"sk-label-container\"><div class=\"sk-label sk-toggleable\"><input class=\"sk-toggleable__control sk-hidden--visually\" id=\"sk-estimator-id-18\" type=\"checkbox\" ><label for=\"sk-estimator-id-18\" class=\"sk-toggleable__label sk-toggleable__label-arrow\">numerical</label><div class=\"sk-toggleable__content\"><pre>[&#x27;KM_Driven&#x27;, &#x27;Age&#x27;]</pre></div></div></div><div class=\"sk-serial\"><div class=\"sk-item\"><div class=\"sk-serial\"><div class=\"sk-item\"><div class=\"sk-estimator sk-toggleable\"><input class=\"sk-toggleable__control sk-hidden--visually\" id=\"sk-estimator-id-19\" type=\"checkbox\" ><label for=\"sk-estimator-id-19\" class=\"sk-toggleable__label sk-toggleable__label-arrow\">MinMaxScaler</label><div class=\"sk-toggleable__content\"><pre>MinMaxScaler()</pre></div></div></div></div></div></div></div></div><div class=\"sk-parallel-item\"><div class=\"sk-item\"><div class=\"sk-label-container\"><div class=\"sk-label sk-toggleable\"><input class=\"sk-toggleable__control sk-hidden--visually\" id=\"sk-estimator-id-20\" type=\"checkbox\" ><label for=\"sk-estimator-id-20\" class=\"sk-toggleable__label sk-toggleable__label-arrow\">categorical</label><div class=\"sk-toggleable__content\"><pre>[&#x27;Fuel_Type&#x27;, &#x27;Transmission&#x27;, &#x27;Owner_Type&#x27;, &#x27;Model&#x27;]</pre></div></div></div><div class=\"sk-serial\"><div class=\"sk-item\"><div class=\"sk-serial\"><div class=\"sk-item\"><div class=\"sk-estimator sk-toggleable\"><input class=\"sk-toggleable__control sk-hidden--visually\" id=\"sk-estimator-id-21\" type=\"checkbox\" ><label for=\"sk-estimator-id-21\" class=\"sk-toggleable__label sk-toggleable__label-arrow\">OneHotEncoder</label><div class=\"sk-toggleable__content\"><pre>OneHotEncoder(handle_unknown=&#x27;ignore&#x27;)</pre></div></div></div></div></div></div></div></div></div></div><div class=\"sk-item\"><div class=\"sk-estimator sk-toggleable\"><input class=\"sk-toggleable__control sk-hidden--visually\" id=\"sk-estimator-id-22\" type=\"checkbox\" ><label for=\"sk-estimator-id-22\" class=\"sk-toggleable__label sk-toggleable__label-arrow\">KNeighborsRegressor</label><div class=\"sk-toggleable__content\"><pre>KNeighborsRegressor(n_neighbors=7, weights=&#x27;distance&#x27;)</pre></div></div></div></div></div></div></div>"
      ],
      "text/plain": [
       "Pipeline(steps=[('preprocessor',\n",
       "                 ColumnTransformer(transformers=[('numerical',\n",
       "                                                  Pipeline(steps=[('scaler',\n",
       "                                                                   MinMaxScaler())]),\n",
       "                                                  ['KM_Driven', 'Age']),\n",
       "                                                 ('categorical',\n",
       "                                                  Pipeline(steps=[('oheencoder',\n",
       "                                                                   OneHotEncoder(handle_unknown='ignore'))]),\n",
       "                                                  ['Fuel_Type', 'Transmission',\n",
       "                                                   'Owner_Type', 'Model'])])),\n",
       "                ('knn',\n",
       "                 KNeighborsRegressor(n_neighbors=7, weights='distance'))])"
      ]
     },
     "execution_count": 41,
     "metadata": {},
     "output_type": "execute_result"
    }
   ],
   "source": [
    "knn = KNeighborsRegressor(n_neighbors=7, weights='distance')\n",
    "knn_pipeline = Pipeline (steps = [('preprocessor', preprocessor),\n",
    "                                  ('knn', knn)])\n",
    "knn_pipeline.fit(X_train, y_train)"
   ]
  },
  {
   "cell_type": "code",
   "execution_count": 42,
   "metadata": {},
   "outputs": [
    {
     "data": {
      "text/plain": [
       "0.8603641992480204"
      ]
     },
     "execution_count": 42,
     "metadata": {},
     "output_type": "execute_result"
    }
   ],
   "source": [
    "r2_score(y_test, knn_pipeline.predict(X_test))"
   ]
  }
 ],
 "metadata": {
  "colab": {
   "collapsed_sections": [
    "XBOBX9wssWTS",
    "__tEV1ylw22K",
    "FZD0_QRmsWTU",
    "UoUXpIAnsWTV",
    "ENbz3exkw22L",
    "zRdZEa4Rw22N"
   ],
   "provenance": []
  },
  "kernelspec": {
   "display_name": "Python 3 (ipykernel)",
   "language": "python",
   "name": "python3"
  },
  "language_info": {
   "codemirror_mode": {
    "name": "ipython",
    "version": 3
   },
   "file_extension": ".py",
   "mimetype": "text/x-python",
   "name": "python",
   "nbconvert_exporter": "python",
   "pygments_lexer": "ipython3",
   "version": "3.10.9"
  }
 },
 "nbformat": 4,
 "nbformat_minor": 1
}
