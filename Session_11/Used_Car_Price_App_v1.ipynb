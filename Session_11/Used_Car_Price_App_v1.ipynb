{
 "cells": [
  {
   "cell_type": "markdown",
   "metadata": {
    "id": "nYwB7sRgOE7b"
   },
   "source": [
    "# Creating a Web App\n",
    "\n",
    "**Author:** Manaranjan Pradhan</br>\n",
    "**Email ID:** manaranjan@gmail.com</br>\n",
    "**LinkedIn:** https://www.linkedin.com/in/manaranjanpradhan/\n",
    "\n",
    "Use [Streamlit](https://streamlit.io/)\n",
    "\n",
    "Streamlit turns data scripts into shareable web apps in minutes.\n",
    "All in pure Python. No front‑end experience required."
   ]
  },
  {
   "cell_type": "code",
   "execution_count": null,
   "metadata": {},
   "outputs": [],
   "source": [
    "#!pip install streamlit"
   ]
  },
  {
   "cell_type": "markdown",
   "metadata": {
    "id": "bruYG5cSuRqR"
   },
   "source": [
    "## Creating the App"
   ]
  },
  {
   "cell_type": "code",
   "execution_count": null,
   "metadata": {},
   "outputs": [],
   "source": [
    "%%writefile app.py\n",
    "import streamlit as st\n",
    "import pandas as pd\n",
    "import numpy as np\n",
    "from joblib import load\n",
    "\n",
    "carmodel = load('carsmodel.pkl')\n",
    "\n",
    "def predict_price(model, \n",
    "                  fuelType,\n",
    "                  transmission, \n",
    "                  ownerType,\n",
    "                  kmDriven, \n",
    "                  age):\n",
    "\n",
    "    inputs_dict = {'KM_Driven' : float(kmDriven), \n",
    "                   'Fuel_Type': fuelType, \n",
    "                   'Age': float(age), \n",
    "                   'Transmission': transmission, \n",
    "                   'Owner_Type': ownerType, \n",
    "                   'Model': model.lower()}\n",
    "\n",
    "    df = pd.DataFrame(inputs_dict, index = [0])\n",
    "\n",
    "\n",
    "    price = carmodel.predict(df)[0]\n",
    "    return price \n",
    "\n",
    " \n",
    "#function to define the app_layout\n",
    "def app_layout():\n",
    "    \n",
    "    st.title('Car Resale Value Prediction')\n",
    "    st.header('Enter car detail:')  \n",
    "    \n",
    "    ## Creating the user input fields \n",
    "\n",
    "    model = st.selectbox('Model:', \n",
    "                         ['ertiga', 'swift', 'alto', 'wagon', \n",
    "                          'vitara', 'zen', 'ritz',\n",
    "                          'omni', 'eeco', 'ciaz', 'baleno', \n",
    "                          'a-star', 'celerio', 'dzire'])\n",
    "\n",
    "    transmission = st.radio('Transmission:', \n",
    "                            ['Manual', 'Automatic'], \n",
    "                            horizontal=True)\n",
    "    \n",
    "    fueltype = st.radio('Fuel Type:', \n",
    "                        ['Petrol', 'Diesel'], \n",
    "                        horizontal=True)\n",
    "    \n",
    "    ownertype = st.radio('Owner Type:', \n",
    "                         ['First', 'Second', 'Third'], \n",
    "                         horizontal=True)\n",
    "    \n",
    "    age = st.number_input('Age:', \n",
    "                          min_value=1,\n",
    "                          max_value=10, \n",
    "                          value=1)\n",
    "    \n",
    "    kmdriven = st.number_input('KM Driven in 1000 kms.:', \n",
    "                               min_value=1.0, \n",
    "                               max_value=150.0, \n",
    "                               value=10.0)\n",
    "    \n",
    "    if st.button('Predict Price'):\n",
    "        price = predict_price(model, \n",
    "                              fueltype, \n",
    "                              transmission, \n",
    "                              ownertype, \n",
    "                              kmdriven, \n",
    "                              age)\n",
    "        st.success(f'Explected resale value of the car is : INR {np.round(price, 2)} Lakhs')\n",
    " \n",
    "if __name__=='__main__':\n",
    "  app_layout()"
   ]
  },
  {
   "cell_type": "markdown",
   "metadata": {},
   "source": [
    "## Run the UI"
   ]
  },
  {
   "cell_type": "code",
   "execution_count": null,
   "metadata": {},
   "outputs": [],
   "source": [
    "!streamlit run app.py"
   ]
  }
 ],
 "metadata": {
  "colab": {
   "collapsed_sections": [],
   "name": "Used Car Price App.ipynb",
   "provenance": []
  },
  "kernelspec": {
   "display_name": "Python 3 (ipykernel)",
   "language": "python",
   "name": "python3"
  },
  "language_info": {
   "codemirror_mode": {
    "name": "ipython",
    "version": 3
   },
   "file_extension": ".py",
   "mimetype": "text/x-python",
   "name": "python",
   "nbconvert_exporter": "python",
   "pygments_lexer": "ipython3",
   "version": "3.10.9"
  }
 },
 "nbformat": 4,
 "nbformat_minor": 1
}
