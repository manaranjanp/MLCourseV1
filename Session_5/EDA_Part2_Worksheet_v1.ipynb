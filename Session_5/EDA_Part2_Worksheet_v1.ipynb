{
 "cells": [
  {
   "cell_type": "markdown",
   "metadata": {},
   "source": [
    "# Exploratory Data Analysis: Part 2"
   ]
  },
  {
   "cell_type": "markdown",
   "metadata": {},
   "source": [
    "## Dataset\n",
    "\n",
    "- A census dataset is available at [github](https://github.com/WinVector/zmPDSwR/blob/master/Custdata/custdata2.tsv), which will be used for demonstrating the steps of data cleaning, imputation and prepartion. The dataset is taken from the book [Practical Data Science with R](https://www.manning.com/books/practical-data-science-with-r)\n",
    "\n",
    "- The dataset contains information about customers like \n",
    "    - gender\n",
    "    - if he or she is currently employed or not\n",
    "    - income\n",
    "    - marital status\n",
    "    - house type where he or she lives\n",
    "    - whether moved in recently \n",
    "    - number of vehicles owned\n",
    "    - age \n",
    "    - state of residence\n",
    "    - Whether he or she has an insurance cover. "
   ]
  },
  {
   "cell_type": "code",
   "execution_count": 1,
   "metadata": {},
   "outputs": [],
   "source": [
    "import numpy as np\n",
    "import pandas as pd\n",
    "\n",
    "import warnings\n",
    "warnings.filterwarnings(\"ignore\")"
   ]
  },
  {
   "cell_type": "markdown",
   "metadata": {},
   "source": [
    "## Read Dataset"
   ]
  },
  {
   "cell_type": "markdown",
   "metadata": {},
   "source": [
    "## Metadata Exploration"
   ]
  },
  {
   "cell_type": "markdown",
   "metadata": {},
   "source": [
    "#### Note:\n",
    "\n",
    "* It can be observed that some of the columns like *is.employed*, *housing.type*, *recent.move* and *num.vehicles* have missing values."
   ]
  },
  {
   "cell_type": "markdown",
   "metadata": {},
   "source": [
    "## Visualize the missing values\n",
    "\n",
    "* There are libaries like **missingno** are available for visualizing missing values and if any relationship exist between these missing values like if one is missing the other is also missing. \n",
    "\n",
    "* *missingno* can be installed through *pip*\n",
    "    - pip install missingno"
   ]
  },
  {
   "cell_type": "code",
   "execution_count": 7,
   "metadata": {},
   "outputs": [],
   "source": [
    "#!pip install missingno"
   ]
  },
  {
   "cell_type": "code",
   "execution_count": 8,
   "metadata": {},
   "outputs": [],
   "source": [
    "import matplotlib.pyplot as plt\n",
    "import seaborn as sn\n",
    "import missingno as msno"
   ]
  },
  {
   "cell_type": "markdown",
   "metadata": {},
   "source": [
    "#### Note:\n",
    "\n",
    "* *is.employed* is missing from may observations. *housing.type*, *recent.move* and *num.vehicles* are also missing from some observations, but there seems to be some pattern to it. We can create a heatmap of these missing values and confirm this pattern."
   ]
  },
  {
   "cell_type": "markdown",
   "metadata": {},
   "source": [
    "### Count or percentage of missing values"
   ]
  },
  {
   "cell_type": "markdown",
   "metadata": {
    "collapsed": true
   },
   "source": [
    "## Why values are missing?\n",
    "\n",
    "- There can be multiple reasons, why data is missing.\n",
    "\n",
    "    - Data is not available at the time of capturing\n",
    "    - It could be recording error, left empty intentionally or unintentionally\n",
    "    - User might have intentionally not filled the data\n",
    "    \n",
    "  \n",
    "  \n",
    "    \n",
    "- Missing data mechanisms are typically classified as either \n",
    "    - Missing Completely at Random (MCAR)\n",
    "    - Missing at Random (MAR) \n",
    "    - Missing Not at Random (MNAR).\n",
    "\n",
    "https://cran.r-project.org/web/packages/finalfit/vignettes/missing.html\n",
    "\n",
    "\n",
    "For example,\n",
    "\n",
    "- Quite a lot of values are missing in *is.employed* column.   \n",
    "- This may be either because the person does not have an active/ full time job. So, at the time of capturing, user might not have filled the employment information if he or she is not employed? This is MNAR.\n",
    "\n",
    "\n",
    "## How to deal with missing values?\n",
    "\n",
    "There are multiple steps that can be taken\n",
    "\n",
    "- Obtain the missing data;\n",
    "- Leave out incomplete cases and use only those for which all variables are available;\n",
    "- Replace missing data by a conservative estimate, e.g. the sample mean;\n",
    "- Estimate the missing data from the other data on the person.\n",
    "\n",
    "### How much missing value is accepted?\n",
    "\n",
    "- More than 20% is too much missing.\n",
    "- In some domain, missing values can not be imputed as it may lead high risk or it may inject too much noise."
   ]
  },
  {
   "cell_type": "markdown",
   "metadata": {},
   "source": [
    "### Drop samples with missing values\n",
    "\n",
    "* All columns with null values can be removed from the dataset. Remove all observations where at least one data element is missing. "
   ]
  },
  {
   "cell_type": "markdown",
   "metadata": {},
   "source": [
    "### Drop if values are missing from specific columns\n",
    "\n",
    "* For example, only removing those observations where *is.employed* data is missing."
   ]
  },
  {
   "cell_type": "markdown",
   "metadata": {},
   "source": [
    "## Imputation Techniques\n",
    "\n",
    "- Impute with default values\n",
    "- Impute with estimated values\n",
    "    - Numerial Features - Mean or median based imputation\n",
    "    - Categorical Features - Most Frequent \n",
    "- Model based imputations"
   ]
  },
  {
   "cell_type": "markdown",
   "metadata": {},
   "source": [
    "## Income vs. Is Employed"
   ]
  },
  {
   "cell_type": "markdown",
   "metadata": {},
   "source": [
    "### Is *is.employed* missing below a certain income level?"
   ]
  },
  {
   "cell_type": "markdown",
   "metadata": {},
   "source": [
    "## Imputing Number of Vehicles\n",
    "\n",
    "- *num.vehicles* is a numerical variable and is a discrete variable. An imputation strategy of most frequent can be adopted for the missing values of this column."
   ]
  },
  {
   "cell_type": "markdown",
   "metadata": {
    "collapsed": true
   },
   "source": [
    "### Using Model based Imputation\n",
    "\n",
    "- The missing data can aso be estimated from other variables, for example income, age, housing.type etc. \n",
    "\n",
    "- We will discuss this later."
   ]
  },
  {
   "cell_type": "markdown",
   "metadata": {},
   "source": [
    "## When to apply imputation?\n",
    "\n",
    "- We will discuss this later."
   ]
  },
  {
   "cell_type": "markdown",
   "metadata": {},
   "source": [
    "## Income Vs Insurance"
   ]
  },
  {
   "cell_type": "markdown",
   "metadata": {},
   "source": [
    "## Gender Vs. Insurance"
   ]
  },
  {
   "cell_type": "markdown",
   "metadata": {},
   "source": [
    "## Income Vs State of Residence"
   ]
  },
  {
   "cell_type": "markdown",
   "metadata": {},
   "source": [
    "## State of Residence Vs. Housing Type"
   ]
  },
  {
   "cell_type": "markdown",
   "metadata": {},
   "source": [
    "## Age Vs. Income"
   ]
  },
  {
   "cell_type": "markdown",
   "metadata": {},
   "source": [
    "## Data Binning\n",
    "\n",
    "- Sometimes a continuous variable may need to be binned into categories. \n",
    "    - For example, age. Sometimes it may make sense to divide the ages into ranges and then create categories like young, adult, midage & old. \n",
    "    - For example, income can be categorized into low-income, middle-income and high-income etc."
   ]
  },
  {
   "cell_type": "markdown",
   "metadata": {},
   "source": [
    "## Income Vs Age Group"
   ]
  }
 ],
 "metadata": {
  "kernelspec": {
   "display_name": "Python 3",
   "language": "python",
   "name": "python3"
  },
  "language_info": {
   "codemirror_mode": {
    "name": "ipython",
    "version": 3
   },
   "file_extension": ".py",
   "mimetype": "text/x-python",
   "name": "python",
   "nbconvert_exporter": "python",
   "pygments_lexer": "ipython3",
   "version": "3.8.5"
  }
 },
 "nbformat": 4,
 "nbformat_minor": 1
}
