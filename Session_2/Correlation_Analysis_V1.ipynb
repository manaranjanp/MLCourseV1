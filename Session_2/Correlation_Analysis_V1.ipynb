{
 "cells": [
  {
   "cell_type": "markdown",
   "metadata": {},
   "source": [
    "# Correlation Analysis\n",
    "\n",
    "## 1. Datasets \n",
    "\n",
    "We will use the following real world data for this notebook.\n",
    "\n",
    "- Daily movement of sectoral indices.\n",
    "    - Banks\n",
    "    - Metal\n",
    "    - Healthcare\n",
    "    - Tech\n",
    "- For the period of **01 September 2022 to 14 March 2023**\n",
    "- The dails stock price data can be downloaded from **BSE India Site**\n",
    "\n",
    "https://www.bseindia.com/indices/IndexArchiveData.html"
   ]
  },
  {
   "cell_type": "markdown",
   "metadata": {},
   "source": [
    "## 2. Daily Data of Sensex "
   ]
  },
  {
   "cell_type": "code",
   "execution_count": null,
   "metadata": {},
   "outputs": [],
   "source": [
    "import pandas as pd\n",
    "import matplotlib.pyplot as plt\n",
    "import seaborn as sn"
   ]
  },
  {
   "cell_type": "code",
   "execution_count": null,
   "metadata": {},
   "outputs": [],
   "source": [
    "DATA_PATH = 'https://raw.githubusercontent.com/manaranjanp/MLCourseV1/main/Session_2/'"
   ]
  },
  {
   "cell_type": "code",
   "execution_count": null,
   "metadata": {},
   "outputs": [],
   "source": [
    "sensex_df = pd.read_csv(DATA_PATH+\"Sensex.csv\",\n",
    "                        index_col=False, \n",
    "                        parse_dates=['Date'])"
   ]
  },
  {
   "cell_type": "code",
   "execution_count": null,
   "metadata": {},
   "outputs": [],
   "source": [
    "sensex_df.info()"
   ]
  },
  {
   "cell_type": "code",
   "execution_count": null,
   "metadata": {},
   "outputs": [],
   "source": [
    "sensex_df.head()"
   ]
  },
  {
   "cell_type": "code",
   "execution_count": null,
   "metadata": {},
   "outputs": [],
   "source": [
    "sensex_df = sensex_df.set_index('Date', drop=True)"
   ]
  },
  {
   "cell_type": "markdown",
   "metadata": {},
   "source": [
    "### 2.a. Calculating daily gains"
   ]
  },
  {
   "cell_type": "code",
   "execution_count": null,
   "metadata": {},
   "outputs": [],
   "source": [
    "sensex_df['sensex_gain'] = (sensex_df.Close - sensex_df.Open)*100/sensex_df.Open"
   ]
  },
  {
   "cell_type": "code",
   "execution_count": null,
   "metadata": {},
   "outputs": [],
   "source": [
    "sensex_df[0:5]"
   ]
  },
  {
   "cell_type": "markdown",
   "metadata": {},
   "source": [
    "## 3. Sectoral Indexes\n",
    "\n",
    "For this analysis, we are comparing daily movement of the following sectoral indexes with the sensex.\n",
    "   - Banks\n",
    "   - Metal\n",
    "   - Healthcare\n",
    "   - Tech"
   ]
  },
  {
   "cell_type": "markdown",
   "metadata": {},
   "source": [
    "### 3.a. Defining a method to load data and calculate gains\n",
    "\n",
    "- Pass the file name and it will return a dataframe with daily open and close price and gain percentage "
   ]
  },
  {
   "cell_type": "code",
   "execution_count": null,
   "metadata": {},
   "outputs": [],
   "source": [
    "def get_sector_gain( filename ):\n",
    "\n",
    "    # Read the csv file\n",
    "    df = pd.read_csv(filename, index_col = False, parse_dates=['Date'])\n",
    "    # Set the time index \n",
    "    df = df.set_index(['Date'], drop=True)\n",
    "\n",
    "    # Sort the records based on time\n",
    "    df.sort_index(ascending = True, inplace=True)\n",
    "\n",
    "    # Select only Close and Open Price columns for further analysis\n",
    "    df['gain'] = ((df['Close'] - df['Open']) * 100 /\n",
    "                    df['Open'])\n",
    "\n",
    "    return df[['Close', 'Open', 'gain']]"
   ]
  },
  {
   "cell_type": "markdown",
   "metadata": {},
   "source": [
    "### 3.b. Loading the data for various sectors"
   ]
  },
  {
   "cell_type": "code",
   "execution_count": null,
   "metadata": {},
   "outputs": [],
   "source": [
    "bankex_df = get_sector_gain(DATA_PATH+\"BSE_BANKEX.csv\")\n",
    "metal_df = get_sector_gain(DATA_PATH+\"BSE_Metal.csv\")\n",
    "healthcare_df = get_sector_gain(DATA_PATH+\"BSE_Healthcare.csv\")\n",
    "tech_df = get_sector_gain(DATA_PATH+\"BSE_Tech.csv\")"
   ]
  },
  {
   "cell_type": "markdown",
   "metadata": {},
   "source": [
    "### 3.b. Calculate gain for various sectors"
   ]
  },
  {
   "cell_type": "code",
   "execution_count": null,
   "metadata": {},
   "outputs": [],
   "source": [
    "sensex_df['bankex_gain'] = bankex_df['gain']\n",
    "sensex_df['metal_gain'] = metal_df['gain']\n",
    "sensex_df['healthcare_gain'] = healthcare_df['gain']\n",
    "sensex_df['tech_gain'] = tech_df['gain']"
   ]
  },
  {
   "cell_type": "markdown",
   "metadata": {},
   "source": [
    "## 4. Insights\n",
    "\n",
    "Correlation is often used in portfolio management to measure the amount of diversification among the assets contained in a portfolio.\n",
    "1. Does the sectoral index goes up when the market index goes up. How strong or weak this movement are?\n",
    "2. Are there any sectors which have weak relationship with sensex? \n",
    "3. How to select stocks or stocks from specic sectors to create a portifoio that reduces the overall risk?"
   ]
  },
  {
   "cell_type": "markdown",
   "metadata": {},
   "source": [
    "## 5. What is correlation?\n",
    "\n",
    "Correlation measures the extent to which two variables are linearly related (meaning they change together at a constant rate).\n",
    "\n",
    "- We can observe the correlation using **scatter plot**.\n",
    "\n",
    "<img src=\"correlation.png\" alt=\"Nowmal Distribution\" width=\"600\"/>\n",
    "\n",
    "Source: *https://www.investopedia.com/ask/answers/032515/what-does-it-mean-if-correlation-coefficient-positive-negative-or-zero.asp*"
   ]
  },
  {
   "cell_type": "markdown",
   "metadata": {},
   "source": [
    "### 5.a. Scatter Plot between Sensex and Secotral Indexes"
   ]
  },
  {
   "cell_type": "code",
   "execution_count": null,
   "metadata": {},
   "outputs": [],
   "source": [
    "plt.figure(figsize=(12, 6))\n",
    "sn.scatterplot(data = sensex_df, x = 'sensex_gain', y = 'bankex_gain');"
   ]
  },
  {
   "cell_type": "code",
   "execution_count": null,
   "metadata": {},
   "outputs": [],
   "source": [
    "plt.figure(figsize=(12, 6))\n",
    "sn.scatterplot(data = sensex_df, x = 'sensex_gain', y = 'tech_gain');"
   ]
  },
  {
   "cell_type": "code",
   "execution_count": null,
   "metadata": {},
   "outputs": [],
   "source": [
    "plt.figure(figsize=(12, 6))\n",
    "sn.scatterplot(data = sensex_df, x = 'sensex_gain', y = 'healthcare_gain');"
   ]
  },
  {
   "cell_type": "code",
   "execution_count": null,
   "metadata": {},
   "outputs": [],
   "source": [
    "plt.figure(figsize=(12, 6))\n",
    "sn.scatterplot(data = sensex_df, x = 'bankex_gain', y = 'metal_gain');"
   ]
  },
  {
   "cell_type": "markdown",
   "metadata": {},
   "source": [
    "\n",
    "## 6. Strength of Correlation \n",
    "\n",
    "We describe correlations with a unit-free measure called the correlation coefficient which ranges from -1 to +1. The correlation is denoted by **r**.\n",
    "\n",
    "- The closer the correlation is to zero, the weaker the linear relationship.\n",
    "- Positive correlation values indicate a positive correlation, where the values of both variables tend to increase together.\n",
    "- Negative correlation values indicate a negative correlation, where the values of one variable tend to increase when the values of the other variable decrease.\n",
    "\n",
    "Source: https://www.jmp.com/en_in/statistics-knowledge-portal/what-is-correlation.html\n",
    "\n",
    "\n",
    "Correlation is given by:\n",
    "\n",
    "$$\\frac{{}\\sum_{i=1}^{n} (x_i - \\overline{x})(y_i - \\overline{y})}\n",
    "{\\sigma_{x}\\sigma_{y}}$$\n",
    "\n",
    "This is also known as **Pearson Correlation**.\n",
    "\n",
    "- | r | < 0.25 - No relationship\n",
    "- 0.25 < | r | < 0.5 - Weak relationship\n",
    "- 0.5 < | r | < 0.75 - Moderate relationship\n",
    "- | r | > 0.75 - Strong relationship\n",
    "\n",
    "The definition of a “weak” correlation can vary from domain to domain. Check the link below:\n",
    "   - https://www.statology.org/what-is-a-weak-correlation/"
   ]
  },
  {
   "cell_type": "code",
   "execution_count": null,
   "metadata": {},
   "outputs": [],
   "source": [
    "sensex_df[['sensex_gain', 'bankex_gain']].corr()"
   ]
  },
  {
   "cell_type": "markdown",
   "metadata": {},
   "source": [
    "### 6.a. Creating a Heatmap"
   ]
  },
  {
   "cell_type": "code",
   "execution_count": null,
   "metadata": {},
   "outputs": [],
   "source": [
    "sector_corr = sensex_df[['sensex_gain', \n",
    "                         'bankex_gain', \n",
    "                         'metal_gain',\n",
    "                         'healthcare_gain',\n",
    "                         'tech_gain']].corr()\n",
    "sector_corr"
   ]
  },
  {
   "cell_type": "code",
   "execution_count": null,
   "metadata": {},
   "outputs": [],
   "source": [
    "plt.figure(figsize=(8, 6))\n",
    "sn.heatmap(sector_corr,\n",
    "           annot = True,\n",
    "           fmt = \"0.2f\",\n",
    "           cmap = sn.diverging_palette(240, 10),\n",
    "           vmin = -1.0, \n",
    "           vmax = 1.0);"
   ]
  },
  {
   "cell_type": "markdown",
   "metadata": {},
   "source": [
    "### 6.b. How to use correlation to select stocks?\n",
    "\n",
    "\n",
    "- The correlation coefficient can be used to select stocks in different industries that tend to move in tandem, or to select stocks with a negative coefficient so that if one stock fails, the other is likely to get a boost.\n",
    "\n",
    "- Choosing a variety of stocks with different degrees and directions of correlation is one of the most common and effective diversification strategies. The result is a portfolio that displays a general upward trend, since, at any given time, at least one security should be doing well even if others are failing.\n",
    "\n",
    "**Source**: https://www.investopedia.com/ask/answers/021716/how-does-correlation-affect-stock-market.asp"
   ]
  },
  {
   "cell_type": "markdown",
   "metadata": {},
   "source": [
    "### 6.c. Correlation is not Causation\n",
    "\n",
    "Correlation measures the relationship between two variables. However, two variables moving together does not necessarily indicate if one variable causes the other to occur or change. \n",
    "\n",
    "**“correlation does not imply causation.”**\n",
    "\n",
    "#### Examples of spurious correlations:\n",
    "\n",
    "  - https://www.tylervigen.com/spurious-correlations"
   ]
  }
 ],
 "metadata": {
  "kernelspec": {
   "display_name": "Python 3",
   "language": "python",
   "name": "python3"
  },
  "language_info": {
   "codemirror_mode": {
    "name": "ipython",
    "version": 3
   },
   "file_extension": ".py",
   "mimetype": "text/x-python",
   "name": "python",
   "nbconvert_exporter": "python",
   "pygments_lexer": "ipython3",
   "version": "3.8.3"
  }
 },
 "nbformat": 4,
 "nbformat_minor": 4
}
