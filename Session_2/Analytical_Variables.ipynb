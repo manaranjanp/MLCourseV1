{
 "cells": [
  {
   "cell_type": "markdown",
   "metadata": {},
   "source": [
    "# 1. Variables"
   ]
  },
  {
   "cell_type": "markdown",
   "metadata": {},
   "source": [
    "In analytics or statistics , variables are classified into 4 different types:\n",
    "\n",
    "<img src=\"variables.png\" alt=\"Nowmal Distribution\" width=\"600\"/>"
   ]
  },
  {
   "cell_type": "markdown",
   "metadata": {},
   "source": [
    "## 1. a. Numerical Variable\n",
    "\n",
    "A numerical variable has a notion of magnitude or quantity. A numerical variable represents a measure and is also known as **quantitative variable**.\n",
    "\n",
    "- Numerical variables are divided into two types: **discrete** and **continuous**.\n",
    "\n",
    "- **Continuous** variables are not countable and have an infinite number of possibilities.\n",
    "    - Examples: Age, Salary, Sales Revenue\n",
    "    - Between the minimum and maximum values. It can take any possible values even the fractions. So, it can have infinite possibilities\n",
    "    \n",
    "- **Discrete** variables are countable (Integer values). The number of possibilities is finite. \n",
    "    - Number of cars a person owns.\n",
    "    - Number of children or dependents a person has.   \n",
    "    - Discrete variables can not take fraction or float values."
   ]
  },
  {
   "cell_type": "markdown",
   "metadata": {},
   "source": [
    "## 1.b. Categorical Variable \n",
    "\n",
    "Categorical variables are variables that are not numerical or measureble and values fits into levels or categories. They are also known as **Qualitative variables**.\n",
    "\n",
    "- Categorical variables are divided into two types: **nominal** and **ordinal**.\n",
    "\n",
    "- **Nominal** variable is where no ordering is possible or has unordered levels. Nominal variables can have two or more levels or categories.\n",
    "\n",
    "    - Gender\n",
    "    - Color of a car\n",
    "    - Name of week days\n",
    "    \n",
    "- **Ordinal** variable has an order implied in the levels or categories.\n",
    "\n",
    "    - Food Taste: Poor, Average, Good, Excellent\n",
    "    - Compesation Brackets: High, Medium or Low\n",
    "    - There is an order *High > Medium > Low*. But we can not quantify it.\n",
    "    \n",
    "#### Note: \n",
    "- Categorical values which are encoded as numerical values like 0 or 1 are still categorical variables. For example: male is encoded as 0 and female encoded as 1."
   ]
  },
  {
   "cell_type": "markdown",
   "metadata": {},
   "source": [
    "# 2. Customer Data"
   ]
  },
  {
   "cell_type": "code",
   "execution_count": null,
   "metadata": {},
   "outputs": [],
   "source": [
    "import pandas as pd\n",
    "import matplotlib.pyplot as plt\n",
    "import seaborn as sn"
   ]
  },
  {
   "cell_type": "code",
   "execution_count": null,
   "metadata": {},
   "outputs": [],
   "source": [
    "DATA_PATH = 'https://raw.githubusercontent.com/manaranjanp/MLCourseV1/main/Session_2/'\n",
    "\n",
    "customer_df = pd.read_csv(DATA_PATH+\"Customers.csv\")"
   ]
  },
  {
   "cell_type": "code",
   "execution_count": null,
   "metadata": {},
   "outputs": [],
   "source": [
    "customer_df.head(10)"
   ]
  },
  {
   "cell_type": "markdown",
   "metadata": {},
   "source": [
    "## 2.a. Variable Types:\n",
    "\n",
    "| Column| Variable|\n",
    "|--------|---------|\n",
    "|CustomerID | Not a variable|\n",
    "|Gender| Nominal|\n",
    "|Income| Continuous|\n",
    "|Profession| Nominal|\n",
    "|Family Size| Discrete|\n",
    "|Agegroup| Ordinal|\n",
    "    "
   ]
  },
  {
   "cell_type": "code",
   "execution_count": null,
   "metadata": {},
   "outputs": [],
   "source": [
    "customer_df.info()"
   ]
  },
  {
   "cell_type": "markdown",
   "metadata": {},
   "source": [
    "# 3. Distribution of Continuous Variables\n",
    "\n",
    "- Draw a histogram for continous values\n",
    "- Countplot or barplot for discrete values"
   ]
  },
  {
   "cell_type": "code",
   "execution_count": null,
   "metadata": {},
   "outputs": [],
   "source": [
    "income_stats = customer_df.Income.describe()\n",
    "income_stats"
   ]
  },
  {
   "cell_type": "code",
   "execution_count": null,
   "metadata": {},
   "outputs": [],
   "source": [
    "plt.figure(figsize=(12, 5))\n",
    "plt.hist(customer_df.Income, bins = range(0, 200000, 20000));\n",
    "plt.xticks(range(0, 200000, 20000));"
   ]
  },
  {
   "cell_type": "code",
   "execution_count": null,
   "metadata": {},
   "outputs": [],
   "source": [
    "plt.figure(figsize=(12, 5))\n",
    "sn.countplot(data = customer_df,\n",
    "             x = 'Family Size');"
   ]
  },
  {
   "cell_type": "markdown",
   "metadata": {},
   "source": [
    "# 3. Distribution of Categorical Variables\n",
    "\n",
    "- Finding unique values\n",
    "- Create a barplot\n",
    "- Order the barplot by count"
   ]
  },
  {
   "cell_type": "markdown",
   "metadata": {},
   "source": [
    "### 3.a. Find unique values and their frequencies"
   ]
  },
  {
   "cell_type": "code",
   "execution_count": null,
   "metadata": {},
   "outputs": [],
   "source": [
    "customer_df.Profession.unique()"
   ]
  },
  {
   "cell_type": "code",
   "execution_count": null,
   "metadata": {},
   "outputs": [],
   "source": [
    "customer_df.Profession.value_counts()"
   ]
  },
  {
   "cell_type": "code",
   "execution_count": null,
   "metadata": {},
   "outputs": [],
   "source": [
    "customer_df.Profession.value_counts(normalize=True)"
   ]
  },
  {
   "cell_type": "code",
   "execution_count": null,
   "metadata": {},
   "outputs": [],
   "source": [
    "customer_df.Agegroup.unique()"
   ]
  },
  {
   "cell_type": "code",
   "execution_count": null,
   "metadata": {},
   "outputs": [],
   "source": [
    "customer_df.Agegroup.value_counts(normalize=True)"
   ]
  },
  {
   "cell_type": "markdown",
   "metadata": {},
   "source": [
    "### 3.b. Create a bar plot"
   ]
  },
  {
   "cell_type": "code",
   "execution_count": null,
   "metadata": {},
   "outputs": [],
   "source": [
    "plt.figure(figsize=(12, 5))\n",
    "sn.countplot(data = customer_df,\n",
    "             x = 'Profession');"
   ]
  },
  {
   "cell_type": "code",
   "execution_count": null,
   "metadata": {},
   "outputs": [],
   "source": [
    "plt.figure(figsize=(12, 5))\n",
    "ax = sn.countplot(data = customer_df,\n",
    "                  x = 'Profession');\n",
    "\n",
    "ax.bar_label(ax.containers[0], label_type='edge');"
   ]
  },
  {
   "cell_type": "markdown",
   "metadata": {},
   "source": [
    "### 3.c. Order the barplot by counts"
   ]
  },
  {
   "cell_type": "code",
   "execution_count": null,
   "metadata": {},
   "outputs": [],
   "source": [
    "customer_df.Profession.value_counts()"
   ]
  },
  {
   "cell_type": "code",
   "execution_count": null,
   "metadata": {},
   "outputs": [],
   "source": [
    "customer_df.Profession.value_counts().index"
   ]
  },
  {
   "cell_type": "code",
   "execution_count": null,
   "metadata": {},
   "outputs": [],
   "source": [
    "plt.figure(figsize=(12, 5))\n",
    "ax = sn.countplot(data = customer_df,\n",
    "                  x = 'Profession',\n",
    "                  order = customer_df.Profession.value_counts().index);\n",
    "\n",
    "ax.bar_label(ax.containers[0], label_type='edge');"
   ]
  }
 ],
 "metadata": {
  "kernelspec": {
   "display_name": "Python 3",
   "language": "python",
   "name": "python3"
  },
  "language_info": {
   "codemirror_mode": {
    "name": "ipython",
    "version": 3
   },
   "file_extension": ".py",
   "mimetype": "text/x-python",
   "name": "python",
   "nbconvert_exporter": "python",
   "pygments_lexer": "ipython3",
   "version": "3.8.3"
  }
 },
 "nbformat": 4,
 "nbformat_minor": 4
}
