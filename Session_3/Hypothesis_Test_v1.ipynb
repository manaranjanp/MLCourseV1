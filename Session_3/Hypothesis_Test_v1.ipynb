{
 "cells": [
  {
   "cell_type": "markdown",
   "metadata": {},
   "source": [
    "# 1. Objective:\n",
    "\n",
    "Important statistical concepts that we will learn in this notebook are:\n",
    "\n",
    "- Variability in Mean\n",
    "- Sampling Distribution and Bootstrap Resampling\n",
    "- Central Limit Theorm\n",
    "- Hypothesis Testing\n",
    "- One Sample and Two Sample Test\n",
    "\n",
    "The above concepts are very important from the perspective of exploratory data analysis and A/B Testing."
   ]
  },
  {
   "cell_type": "markdown",
   "metadata": {},
   "source": [
    "# 2. Variability in Statistics"
   ]
  },
  {
   "cell_type": "code",
   "execution_count": null,
   "metadata": {},
   "outputs": [],
   "source": [
    "import numpy as np\n",
    "import pandas as pd\n",
    "import matplotlib.pyplot as plt\n",
    "import seaborn as sn\n",
    "\n",
    "import warnings\n",
    "warnings.filterwarnings('ignore')"
   ]
  },
  {
   "cell_type": "code",
   "execution_count": null,
   "metadata": {},
   "outputs": [],
   "source": [
    "DATA_PATH = 'https://raw.githubusercontent.com/manaranjanp/MLCourseV1/main/Session_3/'"
   ]
  },
  {
   "cell_type": "code",
   "execution_count": null,
   "metadata": {},
   "outputs": [],
   "source": [
    "cust_df = pd.read_csv(DATA_PATH+'Customers.csv')"
   ]
  },
  {
   "cell_type": "code",
   "execution_count": null,
   "metadata": {},
   "outputs": [],
   "source": [
    "cust_df.info()"
   ]
  },
  {
   "cell_type": "code",
   "execution_count": null,
   "metadata": {},
   "outputs": [],
   "source": [
    "cust_df.shape"
   ]
  },
  {
   "cell_type": "markdown",
   "metadata": {},
   "source": [
    "## 2.1 Sample Distribution\n",
    "\n",
    "- Sample distribution is the distribution of the sample taken from the population."
   ]
  },
  {
   "cell_type": "code",
   "execution_count": null,
   "metadata": {},
   "outputs": [],
   "source": [
    "sn.kdeplot(data = cust_df,\n",
    "           x = 'Income');"
   ]
  },
  {
   "cell_type": "code",
   "execution_count": null,
   "metadata": {},
   "outputs": [],
   "source": [
    "cust_df.Income.mean()"
   ]
  },
  {
   "cell_type": "code",
   "execution_count": null,
   "metadata": {},
   "outputs": [],
   "source": [
    "cust_df.Income.std()"
   ]
  },
  {
   "cell_type": "markdown",
   "metadata": {},
   "source": [
    "## 2.2 Variability in Mean:\n",
    "\n",
    "- What would be the mean if we have had gotten a different sample? \n",
    "- How the mean would have varied?"
   ]
  },
  {
   "cell_type": "markdown",
   "metadata": {},
   "source": [
    "## 2.2 Resample from the observed data\n",
    "\n",
    "- Bootstrap Resampling (with replaecement)\n",
    "\n",
    "The process of taking repeated samples with replacement from observed data.\n",
    "\n",
    "<img src=\"resampling.png\" alt=\"Normal Distribution\" width=\"300\"/>"
   ]
  },
  {
   "cell_type": "code",
   "execution_count": null,
   "metadata": {},
   "outputs": [],
   "source": [
    "sample_1 = cust_df['Income'].sample(500, replace=True)"
   ]
  },
  {
   "cell_type": "code",
   "execution_count": null,
   "metadata": {},
   "outputs": [],
   "source": [
    "sample_1.mean()"
   ]
  },
  {
   "cell_type": "code",
   "execution_count": null,
   "metadata": {},
   "outputs": [],
   "source": [
    "sample_means = []\n",
    "\n",
    "for i in range(200):\n",
    "    samp = cust_df['Income'].sample(2000, replace = True)\n",
    "    sample_means.append(samp.mean())    "
   ]
  },
  {
   "cell_type": "code",
   "execution_count": null,
   "metadata": {},
   "outputs": [],
   "source": [
    "sn.kdeplot(sample_means);"
   ]
  },
  {
   "cell_type": "markdown",
   "metadata": {},
   "source": [
    "## 2.3 Sampling Distribution\n",
    "\n",
    "- The sampling distribution considers the distribution of sample statistics, for example, mean.\n",
    "\n",
    "\n",
    "<img src=\"samplingdist.png\" alt=\"Normal Distribution\" width=\"400\"/>"
   ]
  },
  {
   "cell_type": "code",
   "execution_count": null,
   "metadata": {},
   "outputs": [],
   "source": [
    "np.array(sample_means).mean()"
   ]
  },
  {
   "cell_type": "code",
   "execution_count": null,
   "metadata": {},
   "outputs": [],
   "source": [
    "np.array(sample_means).std()"
   ]
  },
  {
   "cell_type": "markdown",
   "metadata": {},
   "source": [
    "## 2.3 Standard Error\n",
    "\n",
    "**Standard error (SE)** is the standard deviation of its sampling distribution. In this case the standard deviation of distribution of sample means.\n",
    "\n",
    "$$ SE = {\\sigma \\over \\sqrt n} $$"
   ]
  },
  {
   "cell_type": "code",
   "execution_count": null,
   "metadata": {},
   "outputs": [],
   "source": [
    "cust_df.Income.std()/np.sqrt(len(cust_df))"
   ]
  },
  {
   "cell_type": "code",
   "execution_count": null,
   "metadata": {},
   "outputs": [],
   "source": [
    "from scipy import stats"
   ]
  },
  {
   "cell_type": "code",
   "execution_count": null,
   "metadata": {},
   "outputs": [],
   "source": [
    "mean_interval = stats.norm.interval(0.95,\n",
    "                    np.array(sample_means).mean(),\n",
    "                    np.array(sample_means).std())\n",
    "\n",
    "np.round(mean_interval, 2)"
   ]
  },
  {
   "cell_type": "markdown",
   "metadata": {},
   "source": [
    "#### Note:\n",
    "\n",
    "95% confident that the actual population mean is between **108692.5** and **112757.72**."
   ]
  },
  {
   "cell_type": "markdown",
   "metadata": {},
   "source": [
    "# 3. Hypothesis Test\n",
    "\n",
    "In hypothesis testing, an analyst tests a statistical sample, with the objective of finding evidence on the plausibility of the null hypothesis.\n",
    "\n",
    "- **Null hypothesis**: There is no relationship between two variables.\t\n",
    "\n",
    "- **Alternative hypothesis**: There is some statistical significance between two measured phenomenon. No observed effect. Some observed effect. It is what the researcher tries to prove.\n",
    "\n",
    "## 3.1 Examples of Hypothesis Test\n",
    "\n",
    "[Source](https://studiousguy.com/hypothesis-testing-examples-in-real-life/#1_To_Check_the_Manufacturing_Processes)\n",
    "\n",
    "\n",
    "### Example 1:\n",
    "\n",
    "\n",
    "**Null Hypothesis**:  The average of the defective products produced is the same before and after the implementation of the new manufacturing method.\n",
    "\n",
    "$$H_{0}: \\mu_{before} = μ_{after}$$\n",
    "\n",
    "**Alternative Hypothesis**: The average number of defective products produced are different before and after the implementation of the new manufacturing method, i.e., μ after ≠ μ before\n",
    "\n",
    "$$H_{1}: \\mu_{before} \\neq μ_{after}$$\n",
    "\n",
    "\n",
    "### Example 2:\n",
    "\n",
    "\n",
    "**Null Hypothesis**: The average sales are the same before and after the rise in the digital advertisement budget, i.e., μafter = μbefore\n",
    "\n",
    "$$H_{0}: {AvareageSales}_{after} = {AvareageSales}_{before}$$\n",
    "\n",
    "**Alternative Hypothesis**: The average sales increase after the rise in the digital advertisement budget, i.e., μafter > μbefore\n",
    "\n",
    "$$H_{1}: {AvareageSales}_{after} \\gt {AvareageSales}_{before}$$"
   ]
  },
  {
   "cell_type": "markdown",
   "metadata": {},
   "source": [
    "## 3.2 Case -1 : Change in Height\n",
    "\n",
    "A new study claims that children between age of 5-10 grows at an average of more than 2.5 inches.\n",
    "\n",
    "Existing belief:\n",
    "\n",
    "Kids tend to get taller at a pretty steady pace, growing about 2.5 inches (6 to 7 centimeters) each year.\n",
    "\n",
    "[Kidshealth.org](https://kidshealth.org/en/parents/growth-6-12.html#:~:text=Kids%20tend%20to%20get%20taller,per%20year%20until%20puberty%20starts)\n",
    "\n",
    "\n",
    "**Null Hypothesis**: Average growth in height is 2.5  i.e., μafter = μbefore\n",
    "\n",
    "$$H_{0}: {Growth in Height}_{after} = {2.5 inches} $$\n",
    "\n",
    "**Alternative Hypothesis**: The average sales increase after the rise in the digital advertisement budget, i.e., μafter > μbefore\n",
    "\n",
    "$$H_{1}: {Growth in Height}_{after} > {2.5 inches} $$\n"
   ]
  },
  {
   "cell_type": "code",
   "execution_count": null,
   "metadata": {},
   "outputs": [],
   "source": [
    "heights_df = pd.read_csv(DATA_PATH+\"heights_v1.csv\")"
   ]
  },
  {
   "cell_type": "code",
   "execution_count": null,
   "metadata": {},
   "outputs": [],
   "source": [
    "heights_df.info();"
   ]
  },
  {
   "cell_type": "code",
   "execution_count": null,
   "metadata": {},
   "outputs": [],
   "source": [
    "heights_df.sample(10)"
   ]
  },
  {
   "cell_type": "code",
   "execution_count": null,
   "metadata": {},
   "outputs": [],
   "source": [
    "plt.figure(figsize=(15, 5))\n",
    "sn.kdeplot(heights_df.growth);"
   ]
  },
  {
   "cell_type": "code",
   "execution_count": null,
   "metadata": {},
   "outputs": [],
   "source": [
    "heights_df.growth.mean()"
   ]
  },
  {
   "cell_type": "code",
   "execution_count": null,
   "metadata": {},
   "outputs": [],
   "source": [
    "sample_means = []\n",
    "\n",
    "for i in range(200):\n",
    "    samp = heights_df['growth'].sample(100, replace = True)\n",
    "    sample_means.append(samp.mean())    "
   ]
  },
  {
   "cell_type": "code",
   "execution_count": null,
   "metadata": {},
   "outputs": [],
   "source": [
    "plt.figure(figsize=(15, 5))\n",
    "sn.kdeplot(sample_means, label = 'Obeserved Growth in Height');\n",
    "plt.axvline(2.5, color = 'r', label = 'Average Growth in Height');\n",
    "plt.legend();"
   ]
  },
  {
   "cell_type": "markdown",
   "metadata": {},
   "source": [
    "## 3.2.1 p-value and alpha value\n",
    "\n",
    "The **p-value** measures the probability of getting a more extreme value than the one you got from the experiment.\n",
    "\n",
    "- In this case it is the cummlative sum of all distributions of growth in height less than 2.5.\n",
    "\n",
    "**Alpha** is the threshold value that we measure p-values against. It is the extreme observed results must be in order to reject the null hypothesis of a significance test. \n",
    "\n",
    "- The p-value is less than or equal to alpha. In this case, we reject the null hypothesis. When this happens, we say that the result is statistically significant. In other words, we are reasonably sure that there is something besides chance alone that gave us an observed sample.\n",
    "\n",
    "- The p-value is greater than alpha. In this case, we fail to reject the null hypothesis. When this happens, we say that the result is not statistically significant. In other words, we are reasonably sure that our observed data can be explained by chance alone.\n",
    "\n",
    "[source](https://www.thoughtco.com/)\n",
    "\n",
    "\n",
    "<img src=\"hypothesis.png\" alt=\"Normal Distribution\" width=\"500\"/>"
   ]
  },
  {
   "cell_type": "markdown",
   "metadata": {},
   "source": [
    "## 3.3 Case - 2 : Change in Height\n",
    "\n",
    "Let's say if we have received the following results in stead of the earlier one."
   ]
  },
  {
   "cell_type": "code",
   "execution_count": null,
   "metadata": {},
   "outputs": [],
   "source": [
    "heights_new_df = pd.read_csv(DATA_PATH+\"heights_new_v1.csv\")"
   ]
  },
  {
   "cell_type": "code",
   "execution_count": null,
   "metadata": {},
   "outputs": [],
   "source": [
    "np.round(heights_new_df.growth.mean(), 2)"
   ]
  },
  {
   "cell_type": "code",
   "execution_count": null,
   "metadata": {},
   "outputs": [],
   "source": [
    "sample_means = []\n",
    "\n",
    "for i in range(200):\n",
    "    samp = heights_new_df['growth'].sample(100, replace = True)\n",
    "    sample_means.append(samp.mean())   \n",
    "\n",
    "plt.figure(figsize=(15, 5))\n",
    "sn.kdeplot(sample_means, label = 'Obeserved Growth in Height');\n",
    "plt.axvline(2.5, color = 'r', label = 'Average Growth in Height');\n",
    "plt.legend();"
   ]
  },
  {
   "cell_type": "markdown",
   "metadata": {},
   "source": [
    "## 3.4 One Sample Test"
   ]
  },
  {
   "cell_type": "code",
   "execution_count": null,
   "metadata": {},
   "outputs": [],
   "source": [
    "from scipy import stats"
   ]
  },
  {
   "cell_type": "code",
   "execution_count": null,
   "metadata": {},
   "outputs": [],
   "source": [
    "stats.ttest_1samp(heights_df['growth'], 2.5)"
   ]
  },
  {
   "cell_type": "markdown",
   "metadata": {},
   "source": [
    "#### Note:\n",
    "\n",
    "The null hypothesis is retained as the p-value is 0.33."
   ]
  },
  {
   "cell_type": "code",
   "execution_count": null,
   "metadata": {},
   "outputs": [],
   "source": [
    "stats.ttest_1samp(heights_new_df['growth'], 2.5)"
   ]
  },
  {
   "cell_type": "markdown",
   "metadata": {},
   "source": [
    "#### Note:\n",
    "\n",
    "The null hypothesis is rejected as the p-value is less than alpha value (0.05)."
   ]
  },
  {
   "cell_type": "markdown",
   "metadata": {},
   "source": [
    "## 3.5 Two Sample Test\n",
    "\n",
    "A company XYZ, which offers services has upgraded their catalog web page and wants to verify which of the two web pages is better at selling i.e if the old page or new page is better.\n",
    "\n",
    "Typical sales cycle is lengthy and takes about 2-3 months to complete the sales. So, it will take a long time to gather enough sales data to verify which webpage is superior. So the company decides measure the impact using a proxy variable i.e. how much time user spends on the site. The amount of time user spend on the page is called session duration or session length. It can be measure in seconds. It may have been establised from earlier data that session duration is highly correlated (positive) with actual sales."
   ]
  },
  {
   "cell_type": "code",
   "execution_count": null,
   "metadata": {},
   "outputs": [],
   "source": [
    "sessions_df = pd.read_csv(DATA_PATH+'sessions_v1.csv')"
   ]
  },
  {
   "cell_type": "code",
   "execution_count": null,
   "metadata": {},
   "outputs": [],
   "source": [
    "sessions_df"
   ]
  },
  {
   "cell_type": "code",
   "execution_count": null,
   "metadata": {},
   "outputs": [],
   "source": [
    "sn.kdeplot(sessions_df.oldpage, label = 'oldpage');\n",
    "sn.kdeplot(sessions_df.newpage, label = 'newpage');\n",
    "plt.legend();"
   ]
  },
  {
   "cell_type": "code",
   "execution_count": null,
   "metadata": {},
   "outputs": [],
   "source": [
    "oldpage_mean = []\n",
    "\n",
    "for i in range(200):\n",
    "    samp = sessions_df['oldpage'].sample(1000, replace = True)\n",
    "    oldpage_mean.append(samp.mean())   \n",
    "    \n",
    "newpage_mean = []\n",
    "\n",
    "for i in range(200):\n",
    "    samp = sessions_df['newpage'].sample(1000, replace = True)\n",
    "    newpage_mean.append(samp.mean())   \n",
    "\n",
    "sn.kdeplot(oldpage_mean, label = 'oldpage');\n",
    "sn.kdeplot(newpage_mean, label = 'newpage');\n",
    "plt.legend();"
   ]
  },
  {
   "cell_type": "code",
   "execution_count": null,
   "metadata": {},
   "outputs": [],
   "source": [
    "stats.ttest_ind(sessions_df['oldpage'],\n",
    "                sessions_df['newpage'])"
   ]
  },
  {
   "cell_type": "markdown",
   "metadata": {},
   "source": [
    "#### Note:\n",
    "\n",
    "The null hypothesis is rejected as the p-value is less than alpha value (0.05)."
   ]
  },
  {
   "cell_type": "markdown",
   "metadata": {},
   "source": [
    "# Chi-square Distribution\n",
    "\n",
    "Chi-square test is a hypothesis tests to verify whether the observed frequency in the data is same as expected frequency. \n",
    "\n",
    "Chi-Square Goodness of Fit Test is done to decide if one variable is likely to come from a given distribution or not.\n",
    "\n",
    "The probability of getting head or tail from tossing a coin is 0.5. But what if you get 60 heads and 40 tails after 100 tosses. Does that mean the coin is biased towards head.\n",
    "\n",
    "## Example: \n",
    "\n",
    "**Null Hypothesis**: Ho: proportion of customers from all age groups are same.\n",
    "\n",
    "\n",
    "**Alternative Hypothesis**: H1: proportion of customers from all age groups are not same."
   ]
  },
  {
   "cell_type": "code",
   "execution_count": null,
   "metadata": {},
   "outputs": [],
   "source": [
    "visitors_df = pd.read_csv(DATA_PATH+'visitors_v1.csv')"
   ]
  },
  {
   "cell_type": "code",
   "execution_count": null,
   "metadata": {},
   "outputs": [],
   "source": [
    "visitors_df.head()"
   ]
  },
  {
   "cell_type": "code",
   "execution_count": null,
   "metadata": {},
   "outputs": [],
   "source": [
    "sn.barplot(data = visitors_df,\n",
    "           x = 'agegroup',\n",
    "           y = 'count');"
   ]
  },
  {
   "cell_type": "code",
   "execution_count": null,
   "metadata": {},
   "outputs": [],
   "source": [
    "observed_frequency = list(visitors_df['count'])"
   ]
  },
  {
   "cell_type": "code",
   "execution_count": null,
   "metadata": {},
   "outputs": [],
   "source": [
    "expected_frequency = [33, 33, 33]"
   ]
  },
  {
   "cell_type": "markdown",
   "metadata": {},
   "source": [
    "$$ \\sum {{(observed - expected)}^{2} \\over {expected}}$$"
   ]
  },
  {
   "cell_type": "code",
   "execution_count": null,
   "metadata": {},
   "outputs": [],
   "source": [
    "stats.chisquare(f_obs= observed_frequency,   # Array of observed counts\n",
    "                f_exp= expected_frequency)   # Array of expected counts"
   ]
  },
  {
   "cell_type": "markdown",
   "metadata": {},
   "source": [
    "#### Note:\n",
    "\n",
    "The null hypothesis is retained as the p-value is less than alpha value (0.05) i.e. there are no difference in frequency of visitors from different age groups."
   ]
  },
  {
   "cell_type": "code",
   "execution_count": null,
   "metadata": {},
   "outputs": [],
   "source": []
  }
 ],
 "metadata": {
  "kernelspec": {
   "display_name": "Python 3",
   "language": "python",
   "name": "python3"
  },
  "language_info": {
   "codemirror_mode": {
    "name": "ipython",
    "version": 3
   },
   "file_extension": ".py",
   "mimetype": "text/x-python",
   "name": "python",
   "nbconvert_exporter": "python",
   "pygments_lexer": "ipython3",
   "version": "3.8.3"
  }
 },
 "nbformat": 4,
 "nbformat_minor": 4
}
